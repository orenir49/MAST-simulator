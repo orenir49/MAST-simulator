{
 "cells": [
  {
   "cell_type": "code",
   "execution_count": 1,
   "metadata": {},
   "outputs": [],
   "source": [
    "from astropy import convolution\n",
    "import numpy as np\n",
    "import matplotlib.pyplot as plt\n",
    "import re\n",
    "from PIL import Image\n",
    "import os\n",
    "import math\n",
    "%matplotlib ipympl"
   ]
  },
  {
   "cell_type": "code",
   "execution_count": 2,
   "metadata": {},
   "outputs": [],
   "source": [
    "ccd_px_side_length_micron = 3.8\n",
    "ccd_width_px = 4656\n",
    "ccd_height_px = 3520\n",
    "\n",
    "def four_px(w_px,h_px,wid,hei):\n",
    "    lst = []\n",
    "    if (w_px <0 or w_px >= wid or h_px < 0 or h_px >= hei):\n",
    "        return lst\n",
    "    wf = np.floor(w_px)\n",
    "    wc = np.ceil(w_px)\n",
    "    hf = np.floor(h_px)\n",
    "    hc = np.ceil(h_px)\n",
    "    if np.allclose(w_px,wf): \n",
    "        w_floor_res = 1\n",
    "        w_ceil_res = 0\n",
    "    else: \n",
    "        w_floor_res = np.round(w_px - wf,3)\n",
    "        w_ceil_res = np.round(wc - w_px,3)\n",
    "    if np.allclose(h_px,hf): \n",
    "        h_floor_res = 1\n",
    "        h_ceil_res = 0\n",
    "    else: \n",
    "        h_floor_res = np.round(h_px - hf,3)\n",
    "        h_ceil_res = np.round(hc - h_px,3)    \n",
    "\n",
    "    if (wf >= 0 and hf >= 0):\n",
    "        lst.append([wf ,hf ,w_floor_res*h_floor_res])\n",
    "    if (wc < wid and hf >= 0):\n",
    "        lst.append([wc ,hf ,w_ceil_res*h_floor_res])\n",
    "    if (wf >= 0 and hc < hei):\n",
    "        lst.append([wf ,hc ,w_floor_res*h_ceil_res])\n",
    "    if (wc < wid and hc < hei):\n",
    "        lst.append([wc , hc ,w_ceil_res*h_ceil_res])\n",
    "    return lst\n",
    "\n",
    "def rotate(mat,ang):\n",
    "    cw = int(mat.shape[1]/2 -1)\n",
    "    ch = int(mat.shape[0]/2 -1)\n",
    "\n",
    "    mat2 = np.zeros(mat.shape)\n",
    "    ang = np.deg2rad(ang)\n",
    "    for i in range(mat.shape[0]):\n",
    "        for j in range(mat.shape[1]):\n",
    "            jj = cw + np.cos(ang)*(j-cw) - np.sin(ang)*(i-ch)\n",
    "            ii = ch + np.sin(ang)*(j-cw) + np.cos(ang)*(i-ch)\n",
    "            lst = four_px(np.round(jj,3),np.round(ii,3),mat.shape[1],mat.shape[0])\n",
    "            for ls in lst:\n",
    "                 mat2[int(ls[1]),int(ls[0])] += ls[2] * mat[i,j]\n",
    "    return mat2\n",
    "\n",
    "def rot(psf,ang,ang0):\n",
    "    im = Image.fromarray(psf)\n",
    "    im = im.rotate(ang0-ang)\n",
    "    im = np.array(im)\n",
    "    im = im/np.sum(im)\n",
    "    return im\n",
    "\n",
    "def micind_to_pxind(w_ind,h_ind,cw_mic,ch_mic,cw_mic_ind,ch_mic_ind,cw_px_ind,ch_px_ind,spacing_micron):\n",
    "    w_mic = cw_mic + (w_ind - cw_mic_ind)*spacing_micron\n",
    "    h_mic = ch_mic + (h_ind - ch_mic_ind)*spacing_micron\n",
    "    w_px = w_mic/ccd_px_side_length_micron\n",
    "    h_px = h_mic/ccd_px_side_length_micron\n",
    "    w_px_ind = int(w_px-cw_mic/ccd_px_side_length_micron) + cw_px_ind \n",
    "    h_px_ind = int(h_px-ch_mic/ccd_px_side_length_micron) + ch_px_ind\n",
    "    return int(w_px_ind),int(h_px_ind)\n",
    "\n",
    "def parse_psf_metadata(file_path):\n",
    "    f = open(file_path, 'r', encoding='utf-16-le')\n",
    "    s = f.read()\n",
    "    f.close()\n",
    "    m = re.search(r'Data spacing is (\\d+\\.\\d+)', s)\n",
    "    spacing = float(m.group(1))\n",
    "    m = re.search(r'Reference Coordinates: (\\d+\\.\\d+E[+-]\\d+), (\\d+\\.\\d+E[+-]\\d+)', s)\n",
    "    cw_mic = float(m.group(1))*1000\n",
    "    ch_mic = float(m.group(2))*1000\n",
    "    m = re.search(r'Center point is: row (\\d+), column (\\d+)', s)\n",
    "    ch_mic_ind = int(m.group(1))\n",
    "    cw_mic_ind = int(m.group(2))\n",
    "    return spacing,cw_mic,ch_mic,cw_mic_ind,ch_mic_ind\n",
    "\n",
    "def convert_psf(file_path):\n",
    "    spacing_micron,cw_mic,ch_mic,cw_mic_ind,ch_mic_ind = parse_psf_metadata(file_path)\n",
    "    psf_mic = np.loadtxt(file_path,dtype=float,skiprows=18,encoding='utf-16-le')\n",
    "    ker_size = int(np.ceil(psf_mic.shape[0] * spacing_micron / ccd_px_side_length_micron))\n",
    "    if (ker_size % 2 == 0): ker_size += 1 \n",
    "    ch_px_ind = ker_size/2 - 1\n",
    "    cw_px_ind = ker_size/2 - 1\n",
    "    psf_px = np.zeros((ker_size,ker_size))\n",
    "    for i in range(psf_mic.shape[0]):\n",
    "        for j in range(psf_mic.shape[1]):\n",
    "            jj , ii = micind_to_pxind(j,i,cw_mic,ch_mic,cw_mic_ind,ch_mic_ind,cw_px_ind,ch_px_ind,spacing_micron)\n",
    "            psf_px[ker_size-1-ii,jj] += psf_mic[i,j]\n",
    "    r = np.sqrt(ch_mic**2 + cw_mic**2)/3.8\n",
    "    ang0 = np.rad2deg(np.arctan2(ch_mic,cw_mic))\n",
    "    psf_px = psf_px/math.fsum(np.ravel(psf_px))\n",
    "    return psf_px, r, ang0\n",
    "\n",
    "def iter_kernels(rs, x_max, y_max, x_grid, y_grid):\n",
    "    x_lines = np.linspace(0, x_max, x_grid+1).astype(int)\n",
    "    y_lines = np.linspace(0, y_max, y_grid+1).astype(int)\n",
    "    x_cen = x_max/2\n",
    "    y_cen = y_max/2\n",
    "    for x_line_index in range(x_grid):\n",
    "        for y_line_index in range(y_grid):\n",
    "            x_curr_center = x_lines[x_line_index] + ((x_lines[x_line_index+1]-1 - x_lines[x_line_index])/2)\n",
    "            y_curr_center = y_lines[y_line_index] + ((y_lines[y_line_index+1]-1 - x_lines[y_line_index])/2)\n",
    "            x_rel = x_curr_center - x_cen\n",
    "            y_rel = y_curr_center - y_cen\n",
    "            dist_from_center = np.sqrt(((x_rel)**2) + ((y_rel)**2))\n",
    "            r = rs[np.argmin(np.abs(rs - dist_from_center))]\n",
    "            angle = np.arctan2(y_rel, x_rel)\n",
    "            ret = {'x_min': x_lines[x_line_index],\n",
    "                   'x_max': x_lines[x_line_index+1]-1,\n",
    "                   'y_min': y_lines[y_line_index],\n",
    "                   'y_max': y_lines[y_line_index+1]-1,\n",
    "                   'r': r,\n",
    "                   'angle': angle}\n",
    "            yield ret"
   ]
  },
  {
   "cell_type": "code",
   "execution_count": 3,
   "metadata": {},
   "outputs": [],
   "source": [
    "psf_lst = []\n",
    "r_lst = []\n",
    "ang0_lst = []\n",
    "\n",
    "for i in range(7):\n",
    "    path = str.format(r'./example_kernels/PSF_0{}.txt',int(i+1))\n",
    "    psf, r ,ang0 = convert_psf(path)\n",
    "    psf_lst.append(psf)\n",
    "    r_lst.append(int(r))\n",
    "    ang0_lst.append(ang0)"
   ]
  },
  {
   "cell_type": "code",
   "execution_count": 7,
   "metadata": {},
   "outputs": [],
   "source": [
    "r_dict = {r: i for i, r in enumerate(r_lst)}\n",
    "for i,r in enumerate(r_lst):\n",
    "    file_name = os.path.join('.', 'kernels_rings', str.format(r'r={}.npy',r))\n",
    "    np.save(file_name , arr = psf_lst[r_dict[r]])"
   ]
  },
  {
   "cell_type": "code",
   "execution_count": 49,
   "metadata": {},
   "outputs": [],
   "source": [
    "blocks = iter_kernels(r_lst,ccd_width_px,ccd_height_px,15,15)\n",
    "r_dict = {r: i for i, r in enumerate(r_lst)}"
   ]
  },
  {
   "cell_type": "code",
   "execution_count": 50,
   "metadata": {},
   "outputs": [],
   "source": [
    "for bl in blocks:\n",
    "    file_name = os.path.join('.', 'kernels', str.format(r'{}:{}X{}:{}.npy',bl['y_min'],bl['y_max'],bl['x_min'],bl['x_max']))\n",
    "    r = bl['r']\n",
    "    ang = np.rad2deg(bl['angle'])\n",
    "    psf = psf_lst[r_dict[r]]\n",
    "    ang0 = ang0_lst[r_dict[r]]\n",
    "    ker = rot(psf,ang,ang0)\n",
    "    np.save(file_name,arr = ker)"
   ]
  },
  {
   "cell_type": "code",
   "execution_count": 39,
   "metadata": {},
   "outputs": [
    {
     "data": {
      "application/vnd.jupyter.widget-view+json": {
       "model_id": "63a064af08764cd7a6ccb2f335f4934b",
       "version_major": 2,
       "version_minor": 0
      },
      "image/png": "[encoded data removed]",
      "text/html": [
       "\n",
       "            <div style=\"display: inline-block;\">\n",
       "                <div class=\"jupyter-widgets widget-label\" style=\"text-align: center;\">\n",
       "                    Figure 1\n",
       "                </div>\n",
       "                <img src='data:image/png;base64,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' width=640.0/>\n",
       "            </div>\n",
       "        "
      ],
      "text/plain": [
       "Canvas(toolbar=Toolbar(toolitems=[('Home', 'Reset original view', 'home', 'home'), ('Back', 'Back to previous …"
      ]
     },
     "metadata": {},
     "output_type": "display_data"
    }
   ],
   "source": [
    "plt.imshow(ker,origin='lower')\n",
    "plt.show()"
   ]
  }
 ],
 "metadata": {
  "kernelspec": {
   "display_name": "Python 3",
   "language": "python",
   "name": "python3"
  },
  "language_info": {
   "codemirror_mode": {
    "name": "ipython",
    "version": 3
   },
   "file_extension": ".py",
   "mimetype": "text/x-python",
   "name": "python",
   "nbconvert_exporter": "python",
   "pygments_lexer": "ipython3",
   "version": "3.11.2"
  },
  "orig_nbformat": 4
 },
 "nbformat": 4,
 "nbformat_minor": 2
}
