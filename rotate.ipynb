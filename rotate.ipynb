{
 "cells": [
  {
   "cell_type": "code",
   "execution_count": 23,
   "metadata": {},
   "outputs": [],
   "source": [
    "from astropy import convolution\n",
    "import numpy as np\n",
    "import matplotlib.pyplot as plt\n",
    "import re\n",
    "from PIL import Image\n",
    "import os\n",
    "import math\n",
    "%matplotlib ipympl"
   ]
  },
  {
   "cell_type": "code",
   "execution_count": 41,
   "metadata": {},
   "outputs": [],
   "source": [
    "ccd_px_side_length_micron = 3.8\n",
    "ccd_width_px = 4656\n",
    "ccd_height_px = 3520\n",
    "\n",
    "def four_px(w_px,h_px,wid,hei):\n",
    "    lst = []\n",
    "    if (w_px <0 or w_px >= wid or h_px < 0 or h_px >= hei):\n",
    "        return lst\n",
    "    wf = np.floor(w_px)\n",
    "    wc = np.ceil(w_px)\n",
    "    hf = np.floor(h_px)\n",
    "    hc = np.ceil(h_px)\n",
    "    if np.allclose(w_px,wf): \n",
    "        w_floor_res = 1\n",
    "        w_ceil_res = 0\n",
    "    else: \n",
    "        w_floor_res = np.round(w_px - wf,3)\n",
    "        w_ceil_res = np.round(wc - w_px,3)\n",
    "    if np.allclose(h_px,hf): \n",
    "        h_floor_res = 1\n",
    "        h_ceil_res = 0\n",
    "    else: \n",
    "        h_floor_res = np.round(h_px - hf,3)\n",
    "        h_ceil_res = np.round(hc - h_px,3)    \n",
    "\n",
    "    if (wf >= 0 and hf >= 0):\n",
    "        lst.append([wf ,hf ,w_floor_res*h_floor_res])\n",
    "    if (wc < wid and hf >= 0):\n",
    "        lst.append([wc ,hf ,w_ceil_res*h_floor_res])\n",
    "    if (wf >= 0 and hc < hei):\n",
    "        lst.append([wf ,hc ,w_floor_res*h_ceil_res])\n",
    "    if (wc < wid and hc < hei):\n",
    "        lst.append([wc , hc ,w_ceil_res*h_ceil_res])\n",
    "    return lst\n",
    "\n",
    "def rotate(mat,ang):\n",
    "    cw = int(mat.shape[1]/2 -1)\n",
    "    ch = int(mat.shape[0]/2 -1)\n",
    "\n",
    "    mat2 = np.zeros(mat.shape)\n",
    "    ang = np.deg2rad(ang)\n",
    "    for i in range(mat.shape[0]):\n",
    "        for j in range(mat.shape[1]):\n",
    "            jj = cw + np.cos(ang)*(j-cw) - np.sin(ang)*(i-ch)\n",
    "            ii = ch + np.sin(ang)*(j-cw) + np.cos(ang)*(i-ch)\n",
    "            lst = four_px(np.round(jj,3),np.round(ii,3),mat.shape[1],mat.shape[0])\n",
    "            for ls in lst:\n",
    "                 mat2[int(ls[1]),int(ls[0])] += ls[2] * mat[i,j]\n",
    "    return mat2\n",
    "\n",
    "def rot(psf,ang,ang0):\n",
    "    im = Image.fromarray(psf)\n",
    "    im = im.rotate(ang0-ang)\n",
    "    im = np.array(im)\n",
    "    im = im/np.sum(im)\n",
    "    return im\n",
    "\n",
    "def micind_to_pxind(w_ind,h_ind,cw_mic,ch_mic,cw_mic_ind,ch_mic_ind,cw_px_ind,ch_px_ind,spacing_micron):\n",
    "    w_mic = cw_mic + (w_ind - cw_mic_ind)*spacing_micron\n",
    "    h_mic = ch_mic + (h_ind - ch_mic_ind)*spacing_micron\n",
    "    w_px = w_mic/ccd_px_side_length_micron\n",
    "    h_px = h_mic/ccd_px_side_length_micron\n",
    "    w_px_ind = int(w_px-cw_mic/ccd_px_side_length_micron) + cw_px_ind \n",
    "    h_px_ind = int(h_px-ch_mic/ccd_px_side_length_micron) + ch_px_ind\n",
    "    return int(w_px_ind),int(h_px_ind)\n",
    "\n",
    "def parse_psf_metadata(file_path):\n",
    "    f = open(file_path, 'r', encoding='utf-16-le')\n",
    "    s = f.read()\n",
    "    f.close()\n",
    "    m = re.search(r'Data spacing is (\\d+\\.\\d+)', s)\n",
    "    spacing = float(m.group(1))\n",
    "    m = re.search(r'Reference Coordinates: (\\d+\\.\\d+E[+-]\\d+), (\\d+\\.\\d+E[+-]\\d+)', s)\n",
    "    cw_mic = float(m.group(1))*1000\n",
    "    ch_mic = float(m.group(2))*1000\n",
    "    m = re.search(r'Center point is: row (\\d+), column (\\d+)', s)\n",
    "    ch_mic_ind = int(m.group(1))\n",
    "    cw_mic_ind = int(m.group(2))\n",
    "    return spacing,cw_mic,ch_mic,cw_mic_ind,ch_mic_ind\n",
    "\n",
    "def convert_psf(file_path):\n",
    "    spacing_micron,cw_mic,ch_mic,cw_mic_ind,ch_mic_ind = parse_psf_metadata(file_path)\n",
    "    psf_mic = np.loadtxt(file_path,dtype=float,skiprows=18,encoding='utf-16-le')\n",
    "    ker_size = int(np.ceil(psf_mic.shape[0] * spacing_micron / ccd_px_side_length_micron))\n",
    "    if (ker_size % 2 == 0): ker_size += 1 \n",
    "    ch_px_ind = ker_size/2 - 1\n",
    "    cw_px_ind = ker_size/2 - 1\n",
    "    psf_px = np.zeros((ker_size,ker_size))\n",
    "    for i in range(psf_mic.shape[0]):\n",
    "        for j in range(psf_mic.shape[1]):\n",
    "            jj , ii = micind_to_pxind(j,i,cw_mic,ch_mic,cw_mic_ind,ch_mic_ind,cw_px_ind,ch_px_ind,spacing_micron)\n",
    "            psf_px[ker_size-1-ii,jj] += psf_mic[i,j]\n",
    "    r = np.sqrt(ch_mic**2 + cw_mic**2)/3.8\n",
    "    ang0 = np.rad2deg(np.arctan2(ch_mic,cw_mic))\n",
    "    psf_px = psf_px/math.fsum(np.ravel(psf_px))\n",
    "    return psf_px, r, ang0\n",
    "\n",
    "def iter_kernels(rs, x_max, y_max, x_grid, y_grid):\n",
    "    x_lines = np.linspace(0, x_max, x_grid+1).astype(int)\n",
    "    y_lines = np.linspace(0, y_max, y_grid+1).astype(int)\n",
    "    x_cen = x_max/2\n",
    "    y_cen = y_max/2\n",
    "    for x_line_index in range(x_grid):\n",
    "        for y_line_index in range(y_grid):\n",
    "            x_curr_center = x_lines[x_line_index] + ((x_lines[x_line_index+1]-1 - x_lines[x_line_index])/2)\n",
    "            y_curr_center = y_lines[y_line_index] + ((y_lines[y_line_index+1]-1 - x_lines[y_line_index])/2)\n",
    "            x_rel = x_curr_center - x_cen\n",
    "            y_rel = y_curr_center - y_cen\n",
    "            dist_from_center = np.sqrt(((x_rel)**2) + ((y_rel)**2))\n",
    "            r = rs[np.argmin(np.abs(rs - dist_from_center))]\n",
    "            angle = np.arctan2(y_rel, x_rel)\n",
    "            ret = {'x_min': x_lines[x_line_index],\n",
    "                   'x_max': x_lines[x_line_index+1]-1,\n",
    "                   'y_min': y_lines[y_line_index],\n",
    "                   'y_max': y_lines[y_line_index+1]-1,\n",
    "                   'r': r,\n",
    "                   'angle': angle}\n",
    "            yield ret"
   ]
  },
  {
   "cell_type": "code",
   "execution_count": 40,
   "metadata": {},
   "outputs": [],
   "source": [
    "psf_lst = []\n",
    "r_lst = []\n",
    "ang0_lst = []\n",
    "\n",
    "for i in range(7):\n",
    "    path = str.format(r'./example_kernels/PSF_0{}.txt',int(i+1))\n",
    "    psf, r ,ang0 = convert_psf(path)\n",
    "    psf_lst.append(psf)\n",
    "    r_lst.append(int(r))\n",
    "    ang0_lst.append(ang0)"
   ]
  },
  {
   "cell_type": "code",
   "execution_count": 53,
   "metadata": {},
   "outputs": [
    {
     "data": {
      "text/plain": [
       "[0.0, 90.0, 90.0, 90.0, 90.0, 90.0, 90.0]"
      ]
     },
     "execution_count": 53,
     "metadata": {},
     "output_type": "execute_result"
    }
   ],
   "source": [
    "ang0_lst"
   ]
  },
  {
   "cell_type": "code",
   "execution_count": 49,
   "metadata": {},
   "outputs": [],
   "source": [
    "blocks = iter_kernels(r_lst,ccd_width_px,ccd_height_px,15,15)\n",
    "r_dict = {r: i for i, r in enumerate(r_lst)}"
   ]
  },
  {
   "cell_type": "code",
   "execution_count": 50,
   "metadata": {},
   "outputs": [],
   "source": [
    "for bl in blocks:\n",
    "    file_name = os.path.join('.', 'kernels', str.format(r'{}:{}X{}:{}.npy',bl['y_min'],bl['y_max'],bl['x_min'],bl['x_max']))\n",
    "    r = bl['r']\n",
    "    ang = np.rad2deg(bl['angle'])\n",
    "    psf = psf_lst[r_dict[r]]\n",
    "    ang0 = ang0_lst[r_dict[r]]\n",
    "    ker = rot(psf,ang,ang0)\n",
    "    np.save(file_name,arr = ker)"
   ]
  },
  {
   "cell_type": "code",
   "execution_count": 57,
   "metadata": {},
   "outputs": [],
   "source": [
    "# mat = np.zeros((ccd_height_px,ccd_width_px))\n",
    "# i = 1760\n",
    "# j = 4000\n",
    "# mat[i-2:i+2,j-2:j+2] = 1\n",
    "ker = np.load('./kernels/1642:1876X3724:4034.npy')\n",
    "ker = convolution.Kernel2D(array = ker)\n",
    "# im = convolution.convolve(mat,ker)"
   ]
  },
  {
   "cell_type": "code",
   "execution_count": 58,
   "metadata": {},
   "outputs": [
    {
     "data": {
      "application/vnd.jupyter.widget-view+json": {
       "model_id": "ea3226f49624481ebf4ae5595d8ba0de",
       "version_major": 2,
       "version_minor": 0
      },
      "image/png": "[encoded data removed]",
      "text/html": [
       "\n",
       "            <div style=\"display: inline-block;\">\n",
       "                <div class=\"jupyter-widgets widget-label\" style=\"text-align: center;\">\n",
       "                    Figure 1\n",
       "                </div>\n",
       "                <img src='data:image/png;base64,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' width=640.0/>\n",
       "            </div>\n",
       "        "
      ],
      "text/plain": [
       "Canvas(toolbar=Toolbar(toolitems=[('Home', 'Reset original view', 'home', 'home'), ('Back', 'Back to previous …"
      ]
     },
     "metadata": {},
     "output_type": "display_data"
    }
   ],
   "source": [
    "plt.imshow(ker,origin='lower')\n",
    "plt.show()"
   ]
  }
 ],
 "metadata": {
  "kernelspec": {
   "display_name": "Python 3",
   "language": "python",
   "name": "python3"
  },
  "language_info": {
   "codemirror_mode": {
    "name": "ipython",
    "version": 3
   },
   "file_extension": ".py",
   "mimetype": "text/x-python",
   "name": "python",
   "nbconvert_exporter": "python",
   "pygments_lexer": "ipython3",
   "version": "3.11.2"
  },
  "orig_nbformat": 4
 },
 "nbformat": 4,
 "nbformat_minor": 2
}
