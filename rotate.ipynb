{
 "cells": [
  {
   "cell_type": "code",
   "execution_count": 2,
   "metadata": {},
   "outputs": [],
   "source": [
    "from astropy import convolution\n",
    "import numpy as np\n",
    "import matplotlib.pyplot as plt\n",
    "import re\n",
    "from PIL import Image"
   ]
  },
  {
   "cell_type": "code",
   "execution_count": 8,
   "metadata": {},
   "outputs": [],
   "source": [
    "ccd_px_side_length_micron = 3.8\n",
    "x_example = 6.38379\n",
    "y_example = 8.53834\n",
    "ang0 = np.rad2deg(np.arctan2(y_example,x_example))\n",
    "\n",
    "def four_px(w_px,h_px,wid,hei):\n",
    "    lst = []\n",
    "    if (w_px <0 or w_px >= wid or h_px < 0 or h_px >= hei):\n",
    "        return lst\n",
    "    wf = np.floor(w_px)\n",
    "    wc = np.ceil(w_px)\n",
    "    hf = np.floor(h_px)\n",
    "    hc = np.ceil(h_px)\n",
    "    if np.allclose(w_px,wf): \n",
    "        w_floor_res = 1\n",
    "        w_ceil_res = 0\n",
    "    else: \n",
    "        w_floor_res = np.round(w_px - wf,3)\n",
    "        w_ceil_res = np.round(wc - w_px,3)\n",
    "    if np.allclose(h_px,hf): \n",
    "        h_floor_res = 1\n",
    "        h_ceil_res = 0\n",
    "    else: \n",
    "        h_floor_res = np.round(h_px - hf,3)\n",
    "        h_ceil_res = np.round(hc - h_px,3)    \n",
    "\n",
    "    if (wf >= 0 and hf >= 0):\n",
    "        lst.append([wf ,hf ,w_floor_res*h_floor_res])\n",
    "    if (wc < wid and hf >= 0):\n",
    "        lst.append([wc ,hf ,w_ceil_res*h_floor_res])\n",
    "    if (wf >= 0 and hc < hei):\n",
    "        lst.append([wf ,hc ,w_floor_res*h_ceil_res])\n",
    "    if (wc < wid and hc < hei):\n",
    "        lst.append([wc , hc ,w_ceil_res*h_ceil_res])\n",
    "    return lst\n",
    "\n",
    "def rotate(mat,ang):\n",
    "    cw = int(mat.shape[1]/2 -1)\n",
    "    ch = int(mat.shape[0]/2 -1)\n",
    "\n",
    "    mat2 = np.zeros(mat.shape)\n",
    "    ang = np.deg2rad(ang)\n",
    "    for i in range(mat.shape[0]):\n",
    "        for j in range(mat.shape[1]):\n",
    "            jj = cw + np.cos(ang)*(j-cw) - np.sin(ang)*(i-ch)\n",
    "            ii = ch + np.sin(ang)*(j-cw) + np.cos(ang)*(i-ch)\n",
    "            lst = four_px(np.round(jj,3),np.round(ii,3),mat.shape[1],mat.shape[0])\n",
    "            for ls in lst:\n",
    "                 mat2[int(ls[1]),int(ls[0])] += ls[2] * mat[i,j]\n",
    "    return mat2\n",
    "\n",
    "def rot(psf,ang,ang0):\n",
    "    im = Image.fromarray(psf)\n",
    "    im = im.rotate(ang0-ang)\n",
    "    return np.array(im)\n",
    "\n",
    "def micind_to_pxind(w_ind,h_ind,cw_mic,ch_mic,cw_mic_ind,ch_mic_ind,cw_px_ind,ch_px_ind,spacing_micron):\n",
    "    w_mic = cw_mic + (w_ind - cw_mic_ind)*spacing_micron\n",
    "    h_mic = ch_mic + (h_ind - ch_mic_ind)*spacing_micron\n",
    "    w_px = w_mic/ccd_px_side_length_micron\n",
    "    h_px = h_mic/ccd_px_side_length_micron\n",
    "    w_px_ind = int(w_px-cw_mic/ccd_px_side_length_micron) + cw_px_ind \n",
    "    h_px_ind = int(h_px-cw_mic/ccd_px_side_length_micron) + ch_px_ind\n",
    "    return int(w_px_ind),int(h_px_ind)\n",
    "\n",
    "def parse_psf_metadata(file_path):\n",
    "    f = open(file_path, 'r', encoding='utf-16-le')\n",
    "    s = f.read()\n",
    "    f.close()\n",
    "    m = re.search(r'Data spacing is (\\d+\\.\\d+)', s)\n",
    "    spacing = float(m.group(1))\n",
    "    m = re.search(r'Reference Coordinates: (\\d+\\.\\d+E[+-]\\d+), (\\d+\\.\\d+E[+-]\\d+)', s)\n",
    "    cw_mic = float(m.group(1))\n",
    "    ch_mic = float(m.group(2))\n",
    "    m = re.search(r'Center point is: row (\\d+), column (\\d+)', s)\n",
    "    ch_mic_ind = int(m.group(1))\n",
    "    cw_mic_ind = int(m.group(2))\n",
    "    return spacing,cw_mic,ch_mic,cw_mic_ind,ch_mic_ind\n",
    "\n",
    "def convert_psf(file_path):\n",
    "    spacing_micron,cw_mic,ch_mic,cw_mic_ind,ch_mic_ind = parse_psf_metadata(file_path)\n",
    "    psf_mic = np.loadtxt(file_path,dtype=float,skiprows=18,encoding='utf-16-le')\n",
    "    ker_size = int(np.ceil(psf_mic.shape[0] * spacing_micron / ccd_px_side_length_micron))\n",
    "    if (ker_size % 2 == 0): ker_size += 1 \n",
    "    ch_px_ind = ker_size/2 - 1\n",
    "    cw_px_ind = ker_size/2 - 1\n",
    "    psf_px = np.zeros((ker_size,ker_size))\n",
    "    for i in range(psf_mic.shape[0]):\n",
    "        for j in range(psf_mic.shape[1]):\n",
    "            jj , ii = micind_to_pxind(j,i,cw_mic,ch_mic,cw_mic_ind,ch_mic_ind,cw_px_ind,ch_px_ind,spacing_micron)\n",
    "            psf_px[ker_size-1-ii,jj] += psf_mic[i,j]\n",
    "    return psf_px/np.sum(psf_px)\n"
   ]
  },
  {
   "cell_type": "code",
   "execution_count": 9,
   "metadata": {},
   "outputs": [],
   "source": [
    "psf_px = convert_psf('/workspaces/sagi-rotation/kernels/MAST_PSF_Example.txt')"
   ]
  },
  {
   "cell_type": "code",
   "execution_count": 300,
   "metadata": {},
   "outputs": [],
   "source": [
    "ang_lst = [45,135,225,315]\n",
    "name_lst = ['1759:3519X2327:4655.npy','1759:3519X0:2326.npy','0:1758X0:2326.npy','0:1758X2327:4655.npy']\n",
    "\n",
    "for i,ang in enumerate(ang_lst):\n",
    "    ker = rot(psf_px,ang,ang0)\n",
    "    np.save(name_lst[i],arr = ker)"
   ]
  },
  {
   "cell_type": "code",
   "execution_count": 18,
   "metadata": {},
   "outputs": [
    {
     "data": {
      "text/plain": [
       "(250.0, 350.0)"
      ]
     },
     "execution_count": 18,
     "metadata": {},
     "output_type": "execute_result"
    },
    {
     "data": {
      "image/png": "[encoded data removed]",
      "text/plain": [
       "<Figure size 640x480 with 1 Axes>"
      ]
     },
     "metadata": {},
     "output_type": "display_data"
    }
   ],
   "source": [
    "mat = np.zeros((500,500))\n",
    "i = 300\n",
    "j = 300\n",
    "mat[i-10:i+10,j-10:j+10] = 1\n",
    "ang = np.rad2deg(np.arctan2(i-250,j-250))\n",
    "ker = rot(psf_px,ang,ang0)\n",
    "ker = convolution.Kernel2D(array = ker)\n",
    "im = convolution.convolve(mat,ker)\n",
    "\n",
    "plt.imshow(im,origin='lower')\n",
    "plt.xlim(i-50,i+50)\n",
    "plt.ylim(j-50,j+50)"
   ]
  }
 ],
 "metadata": {
  "kernelspec": {
   "display_name": "Python 3",
   "language": "python",
   "name": "python3"
  },
  "language_info": {
   "codemirror_mode": {
    "name": "ipython",
    "version": 3
   },
   "file_extension": ".py",
   "mimetype": "text/x-python",
   "name": "python",
   "nbconvert_exporter": "python",
   "pygments_lexer": "ipython3",
   "version": "3.11.2"
  },
  "orig_nbformat": 4
 },
 "nbformat": 4,
 "nbformat_minor": 2
}
