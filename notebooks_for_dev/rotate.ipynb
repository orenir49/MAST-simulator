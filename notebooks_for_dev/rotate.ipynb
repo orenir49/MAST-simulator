{
 "cells": [
  {
   "cell_type": "code",
   "execution_count": 3,
   "metadata": {},
   "outputs": [],
   "source": [
    "from astropy import convolution\n",
    "import numpy as np\n",
    "import matplotlib.pyplot as plt\n",
    "import re\n",
    "from PIL import Image\n",
    "import os\n",
    "import math\n",
    "from scipy.interpolate import CubicSpline\n",
    "from tqdm import tqdm\n",
    "# %matplotlib ipympl"
   ]
  },
  {
   "cell_type": "code",
   "execution_count": 2,
   "metadata": {},
   "outputs": [],
   "source": [
    "ccd_px_side_length_micron = 2.4\n",
    "ccd_width_px = 5496\n",
    "ccd_height_px = 3672\n",
    "plate_scale = 206265 * ccd_px_side_length_micron / (1000*1800) # arcsec/px\n",
    "\n",
    "def four_px(w_px,h_px,wid,hei):\n",
    "    lst = []\n",
    "    if (w_px <0 or w_px >= wid or h_px < 0 or h_px >= hei):\n",
    "        return lst\n",
    "    wf = np.floor(w_px)\n",
    "    wc = np.ceil(w_px)\n",
    "    hf = np.floor(h_px)\n",
    "    hc = np.ceil(h_px)\n",
    "    if np.allclose(w_px,wf): \n",
    "        w_floor_res = 1\n",
    "        w_ceil_res = 0\n",
    "    else: \n",
    "        w_floor_res = np.round(w_px - wf,3)\n",
    "        w_ceil_res = np.round(wc - w_px,3)\n",
    "    if np.allclose(h_px,hf): \n",
    "        h_floor_res = 1\n",
    "        h_ceil_res = 0\n",
    "    else: \n",
    "        h_floor_res = np.round(h_px - hf,3)\n",
    "        h_ceil_res = np.round(hc - h_px,3)    \n",
    "\n",
    "    if (wf >= 0 and hf >= 0):\n",
    "        lst.append([wf ,hf ,w_floor_res*h_floor_res])\n",
    "    if (wc < wid and hf >= 0):\n",
    "        lst.append([wc ,hf ,w_ceil_res*h_floor_res])\n",
    "    if (wf >= 0 and hc < hei):\n",
    "        lst.append([wf ,hc ,w_floor_res*h_ceil_res])\n",
    "    if (wc < wid and hc < hei):\n",
    "        lst.append([wc , hc ,w_ceil_res*h_ceil_res])\n",
    "    return lst\n",
    "\n",
    "def rotate(mat,ang):\n",
    "    cw = int(mat.shape[1]/2 -1)\n",
    "    ch = int(mat.shape[0]/2 -1)\n",
    "\n",
    "    mat2 = np.zeros(mat.shape)\n",
    "    ang = np.deg2rad(ang)\n",
    "    for i in range(mat.shape[0]):\n",
    "        for j in range(mat.shape[1]):\n",
    "            jj = cw + np.cos(ang)*(j-cw) - np.sin(ang)*(i-ch)\n",
    "            ii = ch + np.sin(ang)*(j-cw) + np.cos(ang)*(i-ch)\n",
    "            lst = four_px(np.round(jj,3),np.round(ii,3),mat.shape[1],mat.shape[0])\n",
    "            for ls in lst:\n",
    "                 mat2[int(ls[1]),int(ls[0])] += ls[2] * mat[i,j]\n",
    "    return mat2\n",
    "\n",
    "def rot(psf,ang,ang0):\n",
    "    im = Image.fromarray(psf)\n",
    "    im = im.rotate(ang0-ang)\n",
    "    im = np.array(im)\n",
    "    im = im/np.sum(im)\n",
    "    return im\n",
    "\n",
    "def micind_to_pxind(w_ind,h_ind,cw_mic,ch_mic,cw_mic_ind,ch_mic_ind,cw_px_ind,ch_px_ind,spacing_micron):\n",
    "    w_mic = cw_mic + (w_ind - cw_mic_ind)*spacing_micron\n",
    "    h_mic = ch_mic + (h_ind - ch_mic_ind)*spacing_micron\n",
    "    w_px = w_mic/ccd_px_side_length_micron\n",
    "    h_px = h_mic/ccd_px_side_length_micron\n",
    "    w_px_ind = int(w_px-cw_mic/ccd_px_side_length_micron) + cw_px_ind \n",
    "    h_px_ind = int(h_px-ch_mic/ccd_px_side_length_micron) + ch_px_ind\n",
    "    return int(w_px_ind),int(h_px_ind)\n",
    "\n",
    "def parse_psf_metadata(file_path):\n",
    "    f = open(file_path, 'r', encoding='utf-8')\n",
    "    s = f.read()\n",
    "    f.close()\n",
    "    m = re.search(r'spacing is (\\d+\\.\\d+)', s)\n",
    "    spacing = float(m.group(1))\n",
    "    m = re.search(r'Reference Coordinates: (\\d+\\.\\d+E[+-]\\d+), (\\d+\\.\\d+E[+-]\\d+)', s)\n",
    "    cw_mic = float(m.group(1))*1000\n",
    "    ch_mic = float(m.group(2))*1000\n",
    "    m = re.search(r'Center point is: row (\\d+), column (\\d+)', s)\n",
    "    ch_mic_ind = int(m.group(1))\n",
    "    cw_mic_ind = int(m.group(2))\n",
    "    return spacing,cw_mic,ch_mic,cw_mic_ind,ch_mic_ind\n",
    "\n",
    "def convert_psf(file_path):\n",
    "    spacing_micron,cw_mic,ch_mic,cw_mic_ind,ch_mic_ind = parse_psf_metadata(file_path)\n",
    "    psf_mic = np.loadtxt(file_path,dtype=float,skiprows=18,encoding='utf-8')\n",
    "    ker_size = int(np.ceil(psf_mic.shape[0] * spacing_micron / ccd_px_side_length_micron))\n",
    "    if (ker_size % 2 == 0): ker_size += 1 \n",
    "    ch_px_ind = ker_size/2 - 1\n",
    "    cw_px_ind = ker_size/2 - 1\n",
    "    psf_px = np.zeros((ker_size,ker_size))\n",
    "    for i in range(psf_mic.shape[0]):\n",
    "        for j in range(psf_mic.shape[1]):\n",
    "            jj , ii = micind_to_pxind(j,i,cw_mic,ch_mic,cw_mic_ind,ch_mic_ind,cw_px_ind,ch_px_ind,spacing_micron)\n",
    "            psf_px[ker_size-1-ii,jj] += psf_mic[i,j]\n",
    "    r = np.sqrt(ch_mic**2 + cw_mic**2) / ccd_px_side_length_micron\n",
    "    ang0 = np.rad2deg(np.arctan2(ch_mic,cw_mic))\n",
    "    psf_px = psf_px/math.fsum(np.ravel(psf_px))\n",
    "    return psf_px, r, ang0\n",
    "\n",
    "def iter_kernels(rs, x_max, y_max, x_grid, y_grid):\n",
    "    x_lines = np.linspace(0, x_max, x_grid+1).astype(int)\n",
    "    y_lines = np.linspace(0, y_max, y_grid+1).astype(int)\n",
    "    x_cen = x_max/2\n",
    "    y_cen = y_max/2\n",
    "    for x_line_index in range(x_grid):\n",
    "        for y_line_index in range(y_grid):\n",
    "            x_curr_center = x_lines[x_line_index] + ((x_lines[x_line_index+1]-1 - x_lines[x_line_index])/2)\n",
    "            y_curr_center = y_lines[y_line_index] + ((y_lines[y_line_index+1]-1 - x_lines[y_line_index])/2)\n",
    "            x_rel = x_curr_center - x_cen\n",
    "            y_rel = y_curr_center - y_cen\n",
    "            dist_from_center = np.sqrt(((x_rel)**2) + ((y_rel)**2))\n",
    "            r = rs[np.argmin(np.abs(rs - dist_from_center))]\n",
    "            angle = np.arctan2(y_rel, x_rel)\n",
    "            ret = {'x_min': x_lines[x_line_index],\n",
    "                   'x_max': x_lines[x_line_index+1]-1,\n",
    "                   'y_min': y_lines[y_line_index],\n",
    "                   'y_max': y_lines[y_line_index+1]-1,\n",
    "                   'r': r,\n",
    "                   'angle': angle}\n",
    "            yield ret\n",
    "\n",
    "def get_shadow_by_col():\n",
    "    a = np.fromfile('./fiffa_data/MAST_BFD17_ASI1600_GuideMode.dat',sep=' ')\n",
    "    y = np.fromfile('./fiffa_data/MAST_BFD17_ASI1600_YCord.dat',sep=' ')\n",
    "    w_vec0 = np.unique(y)\n",
    "    eta_vec0 = []\n",
    "    for w0 in w_vec0:\n",
    "        eta_vec0.append(np.mean(a[y == w0]))\n",
    "    w_vec_px = np.arange(0,ccd_width_px,1)\n",
    "    w_vec_deg = (w_vec_px - int(ccd_width_px/2 - 1))* plate_scale / 3600\n",
    "    cs = CubicSpline(w_vec0,eta_vec0)\n",
    "    eta_vec = cs(w_vec_deg)/100\n",
    "    eta_vec[eta_vec > 1] = 1\n",
    "    eta_vec[eta_vec < 0] = 0\n",
    "    return eta_vec\n"
   ]
  },
  {
   "cell_type": "code",
   "execution_count": 8,
   "metadata": {},
   "outputs": [
    {
     "name": "stderr",
     "output_type": "stream",
     "text": [
      "  0%|          | 0/17 [00:00<?, ?it/s]"
     ]
    },
    {
     "name": "stderr",
     "output_type": "stream",
     "text": [
      "100%|██████████| 17/17 [05:14<00:00, 18.50s/it]\n"
     ]
    }
   ],
   "source": [
    "psf_u_lst = []\n",
    "r_u_lst = []\n",
    "ang0_u_lst = []\n",
    "\n",
    "for i in tqdm(range(17)):\n",
    "    file_path_u = os.path.join('..','new_psfs', str.format(r'PSF_Field{}_unobscured.txt',i+1))\n",
    "    psf_u, r_u ,ang0_u = convert_psf(file_path_u)\n",
    "    psf_u_lst.append(psf_u)\n",
    "    r_u_lst.append(int(r_u))\n",
    "    ang0_u_lst.append(ang0_u)"
   ]
  },
  {
   "cell_type": "code",
   "execution_count": 11,
   "metadata": {},
   "outputs": [],
   "source": [
    "r_dict = {r: i for i, r in enumerate(r_u_lst)}\n",
    "for i,r in enumerate(r_u_lst):\n",
    "    file_name = os.path.join('..','essential_files','kernels_u', str.format(r'r={}.npy',r))\n",
    "    np.save(file_name , arr = psf_u_lst[r_dict[r]])"
   ]
  },
  {
   "cell_type": "code",
   "execution_count": 49,
   "metadata": {},
   "outputs": [],
   "source": [
    "blocks = iter_kernels(r_lst,ccd_width_px,ccd_height_px,15,15)\n",
    "r_dict = {r: i for i, r in enumerate(r_lst)}"
   ]
  },
  {
   "cell_type": "code",
   "execution_count": 50,
   "metadata": {},
   "outputs": [],
   "source": [
    "for bl in blocks:\n",
    "    file_name = os.path.join('.', 'kernels', str.format(r'{}:{}X{}:{}.npy',bl['y_min'],bl['y_max'],bl['x_min'],bl['x_max']))\n",
    "    r = bl['r']\n",
    "    ang = np.rad2deg(bl['angle'])\n",
    "    psf = psf_lst[r_dict[r]]\n",
    "    ang0 = ang0_lst[r_dict[r]]\n",
    "    ker = rot(psf,ang,ang0)\n",
    "    np.save(file_name,arr = ker)"
   ]
  },
  {
   "cell_type": "code",
   "execution_count": 15,
   "metadata": {},
   "outputs": [
    {
     "data": {
      "image/png": "[encoded data removed]",
      "text/plain": [
       "<Figure size 640x480 with 1 Axes>"
      ]
     },
     "metadata": {},
     "output_type": "display_data"
    }
   ],
   "source": [
    "ker = np.load(r'../essential_files/kernels_u/r=2967.npy')\n",
    "plt.imshow(ker,origin='lower')\n",
    "plt.show()"
   ]
  }
 ],
 "metadata": {
  "kernelspec": {
   "display_name": "Python 3",
   "language": "python",
   "name": "python3"
  },
  "language_info": {
   "codemirror_mode": {
    "name": "ipython",
    "version": 3
   },
   "file_extension": ".py",
   "mimetype": "text/x-python",
   "name": "python",
   "nbconvert_exporter": "python",
   "pygments_lexer": "ipython3",
   "version": "3.11.3"
  },
  "orig_nbformat": 4
 },
 "nbformat": 4,
 "nbformat_minor": 2
}
