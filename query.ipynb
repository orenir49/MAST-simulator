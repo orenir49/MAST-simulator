{
 "cells": [
  {
   "cell_type": "code",
   "execution_count": 1,
   "metadata": {},
   "outputs": [],
   "source": [
    "from astroquery.gaia import Gaia\n",
    "from astropy import units as u\n",
    "from astropy.constants import h, c\n",
    "import pandas as pd\n",
    "import numpy as np\n",
    "import ipywidgets as widgets\n",
    "from IPython.display import display"
   ]
  },
  {
   "cell_type": "code",
   "execution_count": 2,
   "metadata": {},
   "outputs": [],
   "source": [
    "# Constants\n",
    "\n",
    "d_filters = {'Band':['G','BP','RP'],'Wavelength':[639,518,783],'Bandpass':[290,169,189]} \n",
    "filters = pd.DataFrame(data=d_filters)\n",
    "\n",
    "ccd_width_px = 4656\n",
    "ccd_height_px = 3520\n",
    "ccd_px_side_length_micron = 3.8\n",
    "ccd_width_micron = ccd_width_px * ccd_px_side_length_micron\n",
    "ccd_height_micron = ccd_height_px * ccd_px_side_length_micron\n",
    "plate_scale_arcsec_micron = 0.11\n",
    "ccd_width_range_arcsec = ccd_width_micron * plate_scale_arcsec_micron\n",
    "ccd_height_range_arcsec = ccd_height_micron * plate_scale_arcsec_micron\n",
    "ccd_width_range_hourangle = u.arcsec.to(u.hourangle, value=ccd_width_range_arcsec)\n",
    "ccd_height_range_hourangle = u.arcsec.to(u.hourangle, value=ccd_height_range_arcsec)\n",
    "mast_collecting_area_m2 = 0.09 * np.pi * 0.5\n",
    "gaia_collecting_area_m2 = 0.7"
   ]
  },
  {
   "cell_type": "code",
   "execution_count": 3,
   "metadata": {},
   "outputs": [
    {
     "data": {
      "application/vnd.jupyter.widget-view+json": {
       "model_id": "1f836c2deaf2452f9cb27c5181a9a644",
       "version_major": 2,
       "version_minor": 0
      },
      "text/plain": [
       "BoundedFloatText(value=81.28, description='RA:', max=360.0, step=0.001)"
      ]
     },
     "metadata": {},
     "output_type": "display_data"
    },
    {
     "data": {
      "application/vnd.jupyter.widget-view+json": {
       "model_id": "3a176ee494994ea1862315d79ad3f129",
       "version_major": 2,
       "version_minor": 0
      },
      "text/plain": [
       "BoundedFloatText(value=-69.78, description='DEC:', max=90.0, min=-90.0, step=0.001)"
      ]
     },
     "metadata": {},
     "output_type": "display_data"
    },
    {
     "data": {
      "application/vnd.jupyter.widget-view+json": {
       "model_id": "7bf3ef5bef00451c9cf85b8858d8116f",
       "version_major": 2,
       "version_minor": 0
      },
      "text/plain": [
       "FloatText(value=18.0, description='Max Mag:', step=0.01)"
      ]
     },
     "metadata": {},
     "output_type": "display_data"
    }
   ],
   "source": [
    "ra_widget = widgets.BoundedFloatText(\n",
    "    value=81.28,\n",
    "    min=0,\n",
    "    max=360,\n",
    "    step=0.001,\n",
    "    description='RA:'\n",
    ")\n",
    "dec_widget = widgets.BoundedFloatText(\n",
    "    value=-69.78,\n",
    "    min=-90,\n",
    "    max=90,\n",
    "    step=0.001,\n",
    "    description='DEC:'\n",
    ")\n",
    "max_mag_widget = widgets.FloatText(\n",
    "    value=18,\n",
    "    step=0.01,\n",
    "    description='Max Mag:'\n",
    ")\n",
    "display(ra_widget)\n",
    "display(dec_widget)\n",
    "display(max_mag_widget)"
   ]
  },
  {
   "cell_type": "code",
   "execution_count": 4,
   "metadata": {},
   "outputs": [],
   "source": [
    "def get_entries(max_mag, ra, dec, ccd_width_range_hourangle, ccd_height_range_hourangle):\n",
    "    query = '''SELECT TOP 100 RA, DEC,\n",
    "PHOT_G_MEAN_FLUX AS PHOT_G_MEAN_FLUX_GAIA, PHOT_G_MEAN_FLUX_ERROR AS PHOT_G_MEAN_FLUX_ERROR_GAIA,\n",
    "PHOT_BP_MEAN_FLUX AS PHOT_BP_MEAN_FLUX_GAIA, PHOT_BP_MEAN_FLUX_ERROR AS PHOT_BP_MEAN_FLUX_ERROR_GAIA,\n",
    "PHOT_RP_MEAN_FLUX AS PHOT_RP_MEAN_FLUX_GAIA, PHOT_RP_MEAN_FLUX_ERROR AS PHOT_RP_MEAN_FLUX_ERROR_GAIA\n",
    "FROM gaiadr3.gaia_source\n",
    "WHERE (ra BETWEEN {ra_min} AND {ra_max})\n",
    "AND (dec BETWEEN {dec_min} AND {dec_max})\n",
    "AND phot_g_mean_mag < {max_mag}\n",
    "'''.format(\n",
    "        max_mag=max_mag,\n",
    "        ra_min=ra-(ccd_width_range_hourangle/2), ra_max=ra+(ccd_width_range_hourangle/2),\n",
    "        dec_min=dec-(ccd_height_range_hourangle/2), dec_max=dec+(ccd_height_range_hourangle/2)\n",
    "    )\n",
    "    job = Gaia.launch_job(query)\n",
    "    r = job.get_results()\n",
    "    return r"
   ]
  },
  {
   "cell_type": "code",
   "execution_count": 5,
   "metadata": {},
   "outputs": [],
   "source": [
    "def convert_to_flux_density(table):\n",
    "    # gets flux mean, flux error in electrons/sec (as given in GAIA_SOURCE) and name of band {'G','BP,'RP'}\n",
    "    # returns flux density + uncertainty in watt/m^2/nm\n",
    "    for filter in d_filters['Band']:\n",
    "        lam0 = filters[filters.Band == filter].iloc[0]['Wavelength']\n",
    "        bandpass = filters[filters.Band == filter].iloc[0]['Bandpass']\n",
    "        P = table['phot_' + str.lower(filter) + '_mean_flux_gaia'] * h.value * c.value /lam0 # convert rate of elecron arrival, to incoming power in watts \n",
    "        dP = np.sqrt((table['phot_' + str.lower(filter) + '_mean_flux_error_gaia'] * h.value * c.value /lam0)**2  + (bandpass/2 * table['phot_' + str.lower(filter) + '_mean_flux_gaia'] * h.value * c.value /lam0**2)**2)\n",
    "        F = P/gaia_collecting_area_m2 # convert incoming power, to incoming intensity- 0.7m^2 is GAIA's collecting area\n",
    "        dF = dP/gaia_collecting_area_m2\n",
    "        table['flux_' + filter + '_density_gaia'] = (F/bandpass) * (u.watt/u.m**2/u.nm) # convert to incoming flux density\n",
    "        table['flux_' + filter + '_density_error_gaia'] = dF/bandpass * (u.watt/u.m**2/u.nm)"
   ]
  },
  {
   "cell_type": "code",
   "execution_count": 6,
   "metadata": {},
   "outputs": [],
   "source": [
    "def calculate_mast_qe(flux_density_inc_mast):\n",
    "    return flux_density_inc_mast"
   ]
  },
  {
   "cell_type": "code",
   "execution_count": 7,
   "metadata": {},
   "outputs": [],
   "source": [
    "def convert_gaia_to_mast(table):\n",
    "    for filter in d_filters['Band']:\n",
    "        gaia_mast_attenuation = 0.5\n",
    "        flux_density_inc_mast = table['flux_' + filter + '_density_gaia'] * gaia_mast_attenuation\n",
    "        flux_density_meas_mast = calculate_mast_qe(flux_density_inc_mast)\n",
    "        flux_density_meas_mast = flux_density_meas_mast * mast_collecting_area_m2\n",
    "        table['phot_' + filter + '_flux_mast'] = (flux_density_meas_mast * filters[filters.Band == filter].iloc[0]['Wavelength'] / (h.value * c.value)) * (u.electron / u.s) * (u.m**2 * u.nm / u.watt)\n",
    "\n",
    "        flux_density_inc_error_mast = table['flux_' + filter + '_density_error_gaia'] * gaia_mast_attenuation\n",
    "        flux_density_meas_error_mast = calculate_mast_qe(flux_density_inc_error_mast)\n",
    "        flux_density_meas_error_mast = flux_density_meas_error_mast * mast_collecting_area_m2\n",
    "        table['phot_' + filter + '_flux_rel_error_mast'] = (((flux_density_meas_error_mast * filters[filters.Band == filter].iloc[0]['Wavelength'] / (h.value * c.value)) * (u.electron / u.s) * (u.m**2 * u.nm / u.watt)) / table['phot_' + filter + '_flux_mast'])*100"
   ]
  },
  {
   "cell_type": "code",
   "execution_count": 8,
   "metadata": {},
   "outputs": [
    {
     "data": {
      "text/html": [
       "<div><i>Table length=45</i>\n",
       "<table id=\"table281471919928720\" class=\"table-striped table-bordered table-condensed\">\n",
       "<thead><tr><th>ra</th><th>dec</th><th>phot_g_mean_flux_gaia</th><th>phot_g_mean_flux_error_gaia</th><th>phot_bp_mean_flux_gaia</th><th>phot_bp_mean_flux_error_gaia</th><th>phot_rp_mean_flux_gaia</th><th>phot_rp_mean_flux_error_gaia</th><th>flux_G_density_gaia</th><th>flux_G_density_error_gaia</th><th>flux_BP_density_gaia</th><th>flux_BP_density_error_gaia</th><th>flux_RP_density_gaia</th><th>flux_RP_density_error_gaia</th><th>phot_G_flux_mast</th><th>phot_G_flux_rel_error_mast</th><th>phot_BP_flux_mast</th><th>phot_BP_flux_rel_error_mast</th><th>phot_RP_flux_mast</th><th>phot_RP_flux_rel_error_mast</th></tr></thead>\n",
       "<thead><tr><th>deg</th><th>deg</th><th>electron / s</th><th>electron / s</th><th>electron / s</th><th>electron / s</th><th>electron / s</th><th>electron / s</th><th>W / (m2 nm)</th><th>W / (m2 nm)</th><th>W / (m2 nm)</th><th>W / (m2 nm)</th><th>W / (m2 nm)</th><th>W / (m2 nm)</th><th>electron / s</th><th></th><th>electron / s</th><th></th><th>electron / s</th><th></th></tr></thead>\n",
       "<thead><tr><th>float64</th><th>float64</th><th>float64</th><th>float32</th><th>float64</th><th>float32</th><th>float64</th><th>float32</th><th>float64</th><th>float64</th><th>float64</th><th>float64</th><th>float64</th><th>float64</th><th>float64</th><th>float64</th><th>float64</th><th>float64</th><th>float64</th><th>float64</th></tr></thead>\n",
       "<tr><td>81.26273980915636</td><td>-69.79092056997047</td><td>2487.82781274411</td><td>5.307263</td><td>2525.186905016465</td><td>39.877506</td><td>2587.294867209299</td><td>85.95206</td><td>3.8097822582432665e-27</td><td>8.645045812915082e-28</td><td>8.185698727462544e-27</td><td>1.3353118580513225e-27</td><td>4.961363565902604e-27</td><td>5.987852579537625e-28</td><td>0.8662767760987604</td><td>22.691705790297345</td><td>1.5088330022753143</td><td>16.312741312741313</td><td>1.3823514536556658</td><td>12.068965517241377</td></tr>\n",
       "<tr><td>81.26289960381898</td><td>-69.79126367731901</td><td>2093.2417722791606</td><td>2.2463803</td><td>1016.7978500977687</td><td>60.698627</td><td>2137.1632909373207</td><td>31.15145</td><td>3.2055254489041683e-27</td><td>7.273884038984421e-28</td><td>3.296073194066277e-27</td><td>5.376798936266417e-28</td><td>4.098197008939213e-27</td><td>4.946099838374913e-28</td><td>0.7288795168203868</td><td>22.691705790297345</td><td>0.6075503361047636</td><td>16.31274131274131</td><td>1.141853145294298</td><td>12.068965517241386</td></tr>\n",
       "<tr><td>81.26308807720777</td><td>-69.77267239353029</td><td>1619.7717454448598</td><td>2.2229776</td><td>1232.1149682336957</td><td>19.472305</td><td>752.2529265523971</td><td>13.014775</td><td>2.4804681524132002e-27</td><td>5.628605353676276e-28</td><td>3.994049671143987e-27</td><td>6.515389907561138e-28</td><td>1.4425105964695416e-27</td><td>1.7409610647046193e-28</td><td>0.5640143736925738</td><td>22.69170579029734</td><td>0.7362051985044167</td><td>16.312741312741313</td><td>0.4019170523296654</td><td>12.06896551724138</td></tr>\n",
       "<tr><td>81.26375568969132</td><td>-69.776956229495</td><td>2118.95504561264</td><td>2.152953</td><td>899.4557631435065</td><td>18.018543</td><td>1885.2278884014609</td><td>32.88253</td><td>3.24490195721613e-27</td><td>7.363236053150843e-28</td><td>2.9156946288396206e-27</td><td>4.756297222721004e-28</td><td>3.615088901338539e-27</td><td>4.3630383292016855e-28</td><td>0.7378330349908038</td><td>22.691705790297334</td><td>0.5374368672756925</td><td>16.312741312741316</td><td>1.0072479735620117</td><td>12.068965517241379</td></tr>\n",
       "<tr><td>81.26562895218676</td><td>-69.77449239933273</td><td>6311.393107631972</td><td>6.563054</td><td>4938.966634096495</td><td>27.764053</td><td>2362.945349811924</td><td>20.776604</td><td>9.665071418159404e-27</td><td>2.1931695706308505e-27</td><td>1.601025762148091e-26</td><td>2.6117119092956308e-27</td><td>4.5311537990337215e-27</td><td>5.468633895385526e-28</td><td>2.19766546782863</td><td>22.691705790297338</td><td>2.951098724556719</td><td>16.31274131274131</td><td>1.2624849918032832</td><td>12.068965517241379</td></tr>\n",
       "<tr><td>81.26581331982938</td><td>-69.77335265860012</td><td>2474.6191457981536</td><td>4.2101507</td><td>2264.1929564739244</td><td>34.802822</td><td>1200.5533586753309</td><td>16.678333</td><td>3.789554915849243e-27</td><td>8.599146522662602e-28</td><td>7.339655280850353e-27</td><td>1.197298979212075e-27</td><td>2.302165774818872e-27</td><td>2.7784759351262248e-28</td><td>0.8616774379291767</td><td>22.69170579029734</td><td>1.3528856218367311</td><td>16.31274131274131</td><td>0.6414370088192128</td><td>12.068965517241379</td></tr>\n",
       "<tr><td>81.26708546365232</td><td>-69.7778242439881</td><td>3266.847494552198</td><td>2.7805705</td><td>2440.6550421298584</td><td>19.588444</td><td>1243.5862638859123</td><td>16.450905</td><td>5.0027488081674506e-27</td><td>1.1352090409769644e-27</td><td>7.911678471343554e-27</td><td>1.2906116425261202e-27</td><td>2.384685123793195e-27</td><td>2.8780682528538556e-28</td><td>1.1375361675314124</td><td>22.691705790297338</td><td>1.4583240818410497</td><td>16.31274131274131</td><td>0.6644288215525782</td><td>12.068965517241379</td></tr>\n",
       "<tr><td>81.26718636625183</td><td>-69.79102645338159</td><td>2092.763420734292</td><td>1.9538122</td><td>977.3368796529422</td><td>11.160848</td><td>1534.4081088227026</td><td>12.08011</td><td>3.2047929162025452e-27</td><td>7.272221797329718e-28</td><td>3.16815568629172e-27</td><td>5.168130414896725e-28</td><td>2.9423613762855425e-27</td><td>3.5511257989653105e-28</td><td>0.7287129519029888</td><td>22.691705790297338</td><td>0.5839718776585059</td><td>16.312741312741313</td><td>0.8198104153547637</td><td>12.06896551724138</td></tr>\n",
       "<tr><td>81.26981556087446</td><td>-69.7833448128224</td><td>1872.614572976606</td><td>21.855644</td><td>1888.9710580851788</td><td>15.125211</td><td>986.7946363553782</td><td>11.632659</td><td>2.8676638069999224e-27</td><td>6.507218341392626e-28</td><td>6.123328121044808e-27</td><td>9.988826761163827e-28</td><td>1.892264781216231e-27</td><td>2.2837678393989e-28</td><td>0.6520557841036507</td><td>22.69170579029734</td><td>1.1286855112070422</td><td>16.31274131274131</td><td>0.5272290442475965</td><td>12.068965517241383</td></tr>\n",
       "<tr><td>...</td><td>...</td><td>...</td><td>...</td><td>...</td><td>...</td><td>...</td><td>...</td><td>...</td><td>...</td><td>...</td><td>...</td><td>...</td><td>...</td><td>...</td><td>...</td><td>...</td><td>...</td><td>...</td><td>...</td></tr>\n",
       "<tr><td>81.29029765970283</td><td>-69.77545516871999</td><td>2534.8488130637143</td><td>4.132234</td><td>1155.22588030485</td><td>15.729142</td><td>2501.219810603046</td><td>17.606697</td><td>3.881788757995709e-27</td><td>8.808440843652236e-28</td><td>3.7448043943034586e-27</td><td>6.108802535108924e-28</td><td>4.7963071375876145e-27</td><td>5.788646545364362e-28</td><td>0.8826497744056151</td><td>22.69170579029734</td><td>0.6902629384873769</td><td>16.312741312741313</td><td>1.3363628880958813</td><td>12.06896551724138</td></tr>\n",
       "<tr><td>81.29046010757882</td><td>-69.79011652624239</td><td>1526.0872155933228</td><td>3.1259885</td><td>1186.3933815754729</td><td>19.160986</td><td>1724.7631170547188</td><td>17.882563</td><td>2.3370025725720607e-27</td><td>5.303057480797321e-28</td><td>3.845837618807473e-27</td><td>6.273615420641535e-28</td><td>3.307383706905354e-27</td><td>3.9916699910926697e-28</td><td>0.531392850581374</td><td>22.691705790297345</td><td>0.7088859380056114</td><td>16.31274131274131</td><td>0.9215141390683226</td><td>12.06896551724138</td></tr>\n",
       "<tr><td>81.29200067128856</td><td>-69.76780006108793</td><td>1237.6661435280807</td><td>6.633293</td><td>1848.0378575456652</td><td>26.322664</td><td>1206.8551271504105</td><td>39.62126</td><td>1.8953234991133366e-27</td><td>4.300812321931673e-28</td><td>5.990638201379205e-27</td><td>9.772373127732488e-28</td><td>2.314249965495885e-27</td><td>2.7930603031846886e-28</td><td>0.4309628790263751</td><td>22.691705790297345</td><td>1.104227375557725</td><td>16.312741312741313</td><td>0.6448039458168208</td><td>12.068965517241379</td></tr>\n",
       "<tr><td>81.29230992767569</td><td>-69.76777451538429</td><td>1385.8075798837483</td><td>29.839104</td><td>1819.6752702667109</td><td>31.490854</td><td>1216.1652943140791</td><td>22.304268</td><td>2.122182694531677e-27</td><td>4.815594533757325e-28</td><td>5.8986974447818765e-27</td><td>9.622392549885492e-28</td><td>2.3321030230440225e-27</td><td>2.8146070967772686e-28</td><td>0.4825466282052526</td><td>22.691705790297334</td><td>1.0872803497231676</td><td>16.31274131274131</td><td>0.6497782234979559</td><td>12.068965517241379</td></tr>\n",
       "<tr><td>81.2923202111426</td><td>-69.77294242434962</td><td>2067.7526192705295</td><td>2.7264795</td><td>1620.3076420039754</td><td>16.461115</td><td>955.135681314622</td><td>26.43768</td><td>3.166492151498099e-27</td><td>7.1853108289080505e-28</td><td>5.2524231679251865e-27</td><td>8.568142040341277e-28</td><td>1.8315559737028546e-27</td><td>2.210498588951721e-28</td><td>0.7200040387102479</td><td>22.691705790297345</td><td>0.968155521176581</td><td>16.31274131274131</td><td>0.5103141563944725</td><td>12.068965517241379</td></tr>\n",
       "<tr><td>81.29336180163392</td><td>-69.76663257202623</td><td>1718.6887115191512</td><td>1.6479524</td><td>683.3894064131373</td><td>18.998463</td><td>1445.1908963895828</td><td>17.896744</td><td>2.631946522603705e-27</td><td>5.972335614671943e-28</td><td>2.215289404251416e-27</td><td>3.6137442984410163e-28</td><td>2.771279590120786e-27</td><td>3.3446477811802593e-28</td><td>0.5984578629217544</td><td>22.691705790297338</td><td>0.40833432477931986</td><td>16.31274131274131</td><td>0.7721430447504016</td><td>12.068965517241379</td></tr>\n",
       "<tr><td>81.29412051871915</td><td>-69.78996721287184</td><td>1522.0332875380116</td><td>1.8930101</td><td>753.017897219467</td><td>14.218714</td><td>1424.0122753557544</td><td>13.46219</td><td>2.330794513034257e-27</td><td>5.288970334741273e-28</td><td>2.4409985774838004e-27</td><td>3.981937833926277e-28</td><td>2.730667737136812e-27</td><td>3.2956334758547736e-28</td><td>0.5299812481753307</td><td>22.69170579029734</td><td>0.44993828075521564</td><td>16.312741312741313</td><td>0.7608276365441027</td><td>12.06896551724138</td></tr>\n",
       "<tr><td>81.29526511113615</td><td>-69.7779317984217</td><td>1380.065991993768</td><td>1.5969862</td><td>583.802554586415</td><td>11.002114</td><td>1173.3498005607144</td><td>13.266779</td><td>2.113390205129742e-27</td><td>4.795642875490024e-28</td><td>1.8924665808593845e-27</td><td>3.0871317776567175e-28</td><td>2.2500005795010496e-27</td><td>2.7155179407771292e-28</td><td>0.48054737237993345</td><td>22.691705790297334</td><td>0.34882984678192575</td><td>16.31274131274131</td><td>0.6269025703286717</td><td>12.068965517241379</td></tr>\n",
       "<tr><td>81.29555559924214</td><td>-69.77601831075351</td><td>1916.0126167341168</td><td>1.9404523</td><td>698.3806872007295</td><td>14.653513</td><td>1842.1350858060732</td><td>13.9703245</td><td>2.934122223576374e-27</td><td>6.658023825016811e-28</td><td>2.2638854538437238e-27</td><td>3.693017777023063e-28</td><td>3.532454693904736e-27</td><td>4.26330738919537e-28</td><td>0.6671672468996961</td><td>22.69170579029734</td><td>0.41729181586790426</td><td>16.312741312741313</td><td>0.9842241585864565</td><td>12.068965517241375</td></tr>\n",
       "<tr><td>81.2958601317564</td><td>-69.7748977829771</td><td>3160.0201662804693</td><td>2.1460788</td><td>1350.471923046384</td><td>14.700871</td><td>2615.5265407728443</td><td>17.487642</td><td>4.839156754947237e-27</td><td>1.098087213563927e-27</td><td>4.37771805326331e-27</td><td>7.141258214300187e-28</td><td>5.015500262263658e-27</td><td>6.0531899716975206e-28</td><td>1.1003382420719319</td><td>22.691705790297345</td><td>0.8069250644737155</td><td>16.31274131274131</td><td>1.397435198258689</td><td>12.068965517241386</td></tr>\n",
       "</table></div>"
      ],
      "text/plain": [
       "<Table length=45>\n",
       "        ra               dec         ... phot_RP_flux_rel_error_mast\n",
       "       deg               deg         ...                            \n",
       "     float64           float64       ...           float64          \n",
       "----------------- ------------------ ... ---------------------------\n",
       "81.26273980915636 -69.79092056997047 ...          12.068965517241377\n",
       "81.26289960381898 -69.79126367731901 ...          12.068965517241386\n",
       "81.26308807720777 -69.77267239353029 ...           12.06896551724138\n",
       "81.26375568969132   -69.776956229495 ...          12.068965517241379\n",
       "81.26562895218676 -69.77449239933273 ...          12.068965517241379\n",
       "81.26581331982938 -69.77335265860012 ...          12.068965517241379\n",
       "81.26708546365232  -69.7778242439881 ...          12.068965517241379\n",
       "81.26718636625183 -69.79102645338159 ...           12.06896551724138\n",
       "81.26981556087446  -69.7833448128224 ...          12.068965517241383\n",
       "              ...                ... ...                         ...\n",
       "81.29029765970283 -69.77545516871999 ...           12.06896551724138\n",
       "81.29046010757882 -69.79011652624239 ...           12.06896551724138\n",
       "81.29200067128856 -69.76780006108793 ...          12.068965517241379\n",
       "81.29230992767569 -69.76777451538429 ...          12.068965517241379\n",
       " 81.2923202111426 -69.77294242434962 ...          12.068965517241379\n",
       "81.29336180163392 -69.76663257202623 ...          12.068965517241379\n",
       "81.29412051871915 -69.78996721287184 ...           12.06896551724138\n",
       "81.29526511113615  -69.7779317984217 ...          12.068965517241379\n",
       "81.29555559924214 -69.77601831075351 ...          12.068965517241375\n",
       " 81.2958601317564  -69.7748977829771 ...          12.068965517241386"
      ]
     },
     "execution_count": 8,
     "metadata": {},
     "output_type": "execute_result"
    }
   ],
   "source": [
    "entries = get_entries(max_mag_widget.value, ra_widget.value, dec_widget.value, ccd_width_range_hourangle, ccd_height_range_hourangle)\n",
    "convert_to_flux_density(entries)\n",
    "convert_gaia_to_mast(entries)\n",
    "entries"
   ]
  }
 ],
 "metadata": {
  "kernelspec": {
   "display_name": "Python 3",
   "language": "python",
   "name": "python3"
  },
  "language_info": {
   "codemirror_mode": {
    "name": "ipython",
    "version": 3
   },
   "file_extension": ".py",
   "mimetype": "text/x-python",
   "name": "python",
   "nbconvert_exporter": "python",
   "pygments_lexer": "ipython3",
   "version": "3.11.2"
  },
  "orig_nbformat": 4,
  "vscode": {
   "interpreter": {
    "hash": "949777d72b0d2535278d3dc13498b2535136f6dfe0678499012e853ee9abcab1"
   }
  }
 },
 "nbformat": 4,
 "nbformat_minor": 2
}
