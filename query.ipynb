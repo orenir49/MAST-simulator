{
 "cells": [
  {
   "cell_type": "code",
   "execution_count": 98,
   "metadata": {},
   "outputs": [],
   "source": [
    "from astroquery.gaia import Gaia\n",
    "from astropy import units as u\n",
    "from astropy import wcs\n",
    "import astropy.coordinates as coord\n",
    "from astropy.constants import h, c\n",
    "import pandas as pd\n",
    "import numpy as np\n",
    "import ipywidgets as widgets\n",
    "from IPython.display import display"
   ]
  },
  {
   "cell_type": "code",
   "execution_count": 76,
   "metadata": {},
   "outputs": [],
   "source": [
    "# Constants\n",
    "fd_unit = u.J/u.m**2/u.s/u.nm\n",
    "d_filters = {'Band':['G','BP','RP'],'Wavelength':[639.07*u.nm,518.26*u.nm,782.51*u.nm],'Bandpass':[454.82*u.nm,265.9*u.nm,292.75*u.nm],'clam':[1.346e-21*fd_unit,3.009e-21*fd_unit,1.638e-21*fd_unit]} \n",
    "filters = pd.DataFrame(data=d_filters)\n",
    "\n",
    "ccd_width_px = 4656\n",
    "ccd_height_px = 3520\n",
    "ccd_px_side_length_micron = 3.8 * u.micron\n",
    "ccd_width_micron = ccd_width_px * ccd_px_side_length_micron\n",
    "ccd_height_micron = ccd_height_px * ccd_px_side_length_micron\n",
    "plate_scale_arcsec_micron = 0.11 * u.arcsec\n",
    "ccd_width_range_arcsec = ccd_width_micron * plate_scale_arcsec_micron\n",
    "ccd_height_range_arcsec = ccd_height_micron * plate_scale_arcsec_micron\n",
    "ccd_width_range_deg = u.arcsec.to(u.deg, value=ccd_width_range_arcsec)\n",
    "ccd_height_range_deg = u.arcsec.to(u.deg, value=ccd_height_range_arcsec)\n",
    "mast_collecting_area_m2 = 0.09 * np.pi * 0.5 * u.m**2\n",
    "gaia_collecting_area_m2 = 0.7 * u.m**2"
   ]
  },
  {
   "cell_type": "code",
   "execution_count": 102,
   "metadata": {},
   "outputs": [
    {
     "data": {
      "application/vnd.jupyter.widget-view+json": {
       "model_id": "2b169c6f5dc74a62a28f42b85d57fc78",
       "version_major": 2,
       "version_minor": 0
      },
      "text/plain": [
       "BoundedFloatText(value=279.3643447, description='RA:', max=360.0, step=0.001)"
      ]
     },
     "metadata": {},
     "output_type": "display_data"
    },
    {
     "data": {
      "application/vnd.jupyter.widget-view+json": {
       "model_id": "92110eb550544410be40c32f75c34138",
       "version_major": 2,
       "version_minor": 0
      },
      "text/plain": [
       "BoundedFloatText(value=38.79739118, description='DEC:', max=90.0, min=-90.0, step=0.001)"
      ]
     },
     "metadata": {},
     "output_type": "display_data"
    },
    {
     "data": {
      "application/vnd.jupyter.widget-view+json": {
       "model_id": "ecde22e98df24e6180b26c67ecd623c4",
       "version_major": 2,
       "version_minor": 0
      },
      "text/plain": [
       "FloatText(value=18.0, description='Max Mag:', step=0.01)"
      ]
     },
     "metadata": {},
     "output_type": "display_data"
    }
   ],
   "source": [
    "ra_widget = widgets.BoundedFloatText(\n",
    "    value=279.3643447,\n",
    "    min=0,\n",
    "    max=360,\n",
    "    step=0.001,\n",
    "    description='RA:'\n",
    ")\n",
    "dec_widget = widgets.BoundedFloatText(\n",
    "    value=38.79739118,\n",
    "    min=-90,\n",
    "    max=90,\n",
    "    step=0.001,\n",
    "    description='DEC:'\n",
    ")\n",
    "max_mag_widget = widgets.FloatText(\n",
    "    value=18,\n",
    "    step=0.01,\n",
    "    description='Max Mag:'\n",
    ")\n",
    "display(ra_widget)\n",
    "display(dec_widget)\n",
    "display(max_mag_widget)"
   ]
  },
  {
   "cell_type": "code",
   "execution_count": 101,
   "metadata": {},
   "outputs": [
    {
     "data": {
      "text/plain": [
       "<SkyCoord (FK5: equinox=J2016.000): (ra, dec) in deg\n",
       "    (279.3643447, 38.79739118)>"
      ]
     },
     "execution_count": 101,
     "metadata": {},
     "output_type": "execute_result"
    }
   ],
   "source": [
    "coor= coord.SkyCoord(ra = ra_widget.value , dec = dec_widget.value , frame='fk5', unit=(u.deg, u.deg), obstime=\"J2000\")\n",
    "coor = coor.transform_to(coord.FK5(equinox='J2016.000'))\n",
    "coor"
   ]
  },
  {
   "cell_type": "code",
   "execution_count": 105,
   "metadata": {},
   "outputs": [],
   "source": [
    "def get_entries(max_mag, ra, dec, ccd_width_range_deg, ccd_height_range_deg):\n",
    "    query = '''SELECT TOP 100 RA, DEC, PHOT_G_MEAN_MAG,\n",
    "PHOT_G_MEAN_FLUX AS PHOT_G_MEAN_FLUX_GAIA, PHOT_G_MEAN_FLUX_ERROR AS PHOT_G_MEAN_FLUX_ERROR_GAIA,\n",
    "PHOT_BP_MEAN_FLUX AS PHOT_BP_MEAN_FLUX_GAIA, PHOT_BP_MEAN_FLUX_ERROR AS PHOT_BP_MEAN_FLUX_ERROR_GAIA,\n",
    "PHOT_RP_MEAN_FLUX AS PHOT_RP_MEAN_FLUX_GAIA, PHOT_RP_MEAN_FLUX_ERROR AS PHOT_RP_MEAN_FLUX_ERROR_GAIA\n",
    "FROM gaiadr3.gaia_source\n",
    "WHERE (ra BETWEEN {ra_min} AND {ra_max})\n",
    "AND (dec BETWEEN {dec_min} AND {dec_max})\n",
    "AND phot_g_mean_mag < {max_mag}\n",
    "'''.format(\n",
    "        max_mag=max_mag,\n",
    "        ra_min=ra-(ccd_width_range_deg.value/2), ra_max=ra+(ccd_width_range_deg.value/2),\n",
    "        dec_min=dec-(ccd_height_range_deg.value/2), dec_max=dec+(ccd_height_range_deg.value/2)\n",
    "    )\n",
    "    job = Gaia.launch_job(query)\n",
    "    r = job.get_results()\n",
    "    return r"
   ]
  },
  {
   "cell_type": "code",
   "execution_count": 68,
   "metadata": {},
   "outputs": [],
   "source": [
    "def convert_to_flux_density(table):\n",
    "    # gets flux mean, flux error in electrons/sec (as given in GAIA_SOURCE) and name of band {'G','BP,'RP'}\n",
    "    # returns flux density + uncertainty in watt/m^2/nm\n",
    "    for filter in d_filters['Band']:\n",
    "        table['flux_' + filter + '_density_gaia'] = filters[filters['Band'] == filter]['clam'].iloc[0] * table['phot_' + str.lower(filter) + '_mean_flux_gaia'].value # convert to incoming flux density\n",
    "        table['flux_' + filter + '_density_error_gaia'] =  filters[filters['Band'] == filter]['clam'].iloc[0] * table['phot_' + str.lower(filter) + '_mean_flux_error_gaia'].value"
   ]
  },
  {
   "cell_type": "code",
   "execution_count": 54,
   "metadata": {},
   "outputs": [],
   "source": [
    "def calculate_mast_qe(flux_density_inc_mast):\n",
    "    return flux_density_inc_mast"
   ]
  },
  {
   "cell_type": "code",
   "execution_count": 74,
   "metadata": {},
   "outputs": [],
   "source": [
    "def convert_gaia_to_mast(table):\n",
    "    for filter in d_filters['Band']:\n",
    "        lam0 = filters[filters.Band == filter].iloc[0]['Wavelength']\n",
    "        bandpass = filters[filters.Band == filter].iloc[0]['Bandpass']\n",
    "        gaia_mast_attenuation = 0.5\n",
    "        flux_density_inc_mast =  gaia_mast_attenuation * table['flux_' + filter + '_density_gaia']\n",
    "        flux_meas_mast = calculate_mast_qe(flux_density_inc_mast) * bandpass\n",
    "        power_meas_mast = flux_meas_mast * mast_collecting_area_m2\n",
    "        table['phot_' + filter + '_flux_mast'] = (power_meas_mast * lam0.to(u.m) / (h * c)) * u.electron \n",
    "\n",
    "        flux_density_inc_error_mast =  gaia_mast_attenuation * table['flux_' + filter + '_density_error_gaia']\n",
    "        flux_meas_error_mast = calculate_mast_qe(flux_density_inc_error_mast) * bandpass\n",
    "        power_meas_error_mast = flux_meas_error_mast * mast_collecting_area_m2\n",
    "        table['phot_' + filter + '_flux_rel_error_mast'] = np.sqrt(((power_meas_error_mast * lam0.to(u.m) / (h * c)).value)**2 + ((power_meas_mast * bandpass.to(u.m) / (2 * h * c)).value)**2) / table['phot_' + filter + '_flux_mast'].value * 100 * u.percent"
   ]
  },
  {
   "cell_type": "code",
   "execution_count": 106,
   "metadata": {},
   "outputs": [
    {
     "data": {
      "text/html": [
       "<div><i>Table length=5</i>\n",
       "<table id=\"table140435301231376\" class=\"table-striped table-bordered table-condensed\">\n",
       "<thead><tr><th>ra</th><th>dec</th><th>phot_g_mean_mag</th><th>phot_g_mean_flux_gaia</th><th>phot_g_mean_flux_error_gaia</th><th>phot_bp_mean_flux_gaia</th><th>phot_bp_mean_flux_error_gaia</th><th>phot_rp_mean_flux_gaia</th><th>phot_rp_mean_flux_error_gaia</th><th>flux_G_density_gaia</th><th>flux_G_density_error_gaia</th><th>flux_BP_density_gaia</th><th>flux_BP_density_error_gaia</th><th>flux_RP_density_gaia</th><th>flux_RP_density_error_gaia</th><th>phot_G_flux_mast</th><th>phot_G_flux_rel_error_mast</th><th>phot_BP_flux_mast</th><th>phot_BP_flux_rel_error_mast</th><th>phot_RP_flux_mast</th><th>phot_RP_flux_rel_error_mast</th></tr></thead>\n",
       "<thead><tr><th>deg</th><th>deg</th><th>mag</th><th>electron / s</th><th>electron / s</th><th>electron / s</th><th>electron / s</th><th>electron / s</th><th>electron / s</th><th>J / (m2 nm s)</th><th>J / (m2 nm s)</th><th>J / (m2 nm s)</th><th>J / (m2 nm s)</th><th>J / (m2 nm s)</th><th>J / (m2 nm s)</th><th>electron / s</th><th>%</th><th>electron / s</th><th>%</th><th>electron / s</th><th>%</th></tr></thead>\n",
       "<thead><tr><th>float64</th><th>float64</th><th>float32</th><th>float64</th><th>float32</th><th>float64</th><th>float32</th><th>float64</th><th>float32</th><th>float64</th><th>float32</th><th>float64</th><th>float32</th><th>float64</th><th>float32</th><th>float64</th><th>float64</th><th>float64</th><th>float64</th><th>float64</th><th>float64</th></tr></thead>\n",
       "<tr><td>279.1690230903881</td><td>38.691400182784186</td><td>9.677715</td><td>2534314.1262146602</td><td>324.20206</td><td>1097192.1366186086</td><td>400.53674</td><td>2045158.4094056007</td><td>522.25287</td><td>3.4111868138849328e-15</td><td>4.36376e-19</td><td>3.3014511390853933e-15</td><td>1.2052151e-18</td><td>3.349969474606374e-15</td><td>8.554502e-19</td><td>352816.7112223625</td><td>35.58452355687899</td><td>161892.43700553844</td><td>25.6531730436162</td><td>273075.85881108243</td><td>18.70584866550965</td></tr>\n",
       "<tr><td>279.2337551481813</td><td>38.762047351329805</td><td>9.666267</td><td>2561178.0427986667</td><td>463.47357</td><td>1099243.4954899368</td><td>568.28577</td><td>2078002.3227934253</td><td>443.67078</td><td>3.4473456456070055e-15</td><td>6.238354e-19</td><td>3.30762367792922e-15</td><td>1.7099719e-18</td><td>3.4037678047356307e-15</td><td>7.267327e-19</td><td>356556.59437326365</td><td>35.58452585873791</td><td>162195.1182550375</td><td>25.653199161472116</td><td>277461.27942879574</td><td>18.70584342029543</td></tr>\n",
       "<tr><td>279.5897786983045</td><td>38.825768290679335</td><td>9.8454895</td><td>2171456.031073891</td><td>431.96613</td><td>861877.8532518711</td><td>389.44592</td><td>1854599.471595097</td><td>402.98083</td><td>2.9227798178254574e-15</td><td>5.814264e-19</td><td>2.59339046043488e-15</td><td>1.1718428e-18</td><td>3.037833934472769e-15</td><td>6.600826e-19</td><td>302301.11079077906</td><td>35.58452681785268</td><td>127171.44190812709</td><td>25.65318686434094</td><td>247631.84168389335</td><td>18.705843855443003</td></tr>\n",
       "<tr><td>279.3594656724901</td><td>38.869412319479046</td><td>9.953577</td><td>1965694.546135519</td><td>305.09726</td><td>995563.8128174203</td><td>345.94635</td><td>1390766.6747568313</td><td>318.79025</td><td>2.6458248590984085e-15</td><td>4.106609e-19</td><td>2.995651512767618e-15</td><td>1.0409525e-18</td><td>2.2780758132516895e-15</td><td>5.2217844e-19</td><td>273655.84947085805</td><td>35.584524642410706</td><td>146897.01691469844</td><td>25.653170603722014</td><td>185699.45602670196</td><td>18.705845279499805</td></tr>\n",
       "<tr><td>279.2520226768984</td><td>38.871457628592694</td><td>9.289589</td><td>3623357.0473809196</td><td>578.1276</td><td>1529839.8721935307</td><td>840.98004</td><td>2989228.7233112236</td><td>718.19617</td><td>4.877038585774718e-15</td><td>7.7815977e-19</td><td>4.603288175430334e-15</td><td>2.5305089e-18</td><td>4.896356648783784e-15</td><td>1.1764053e-18</td><td>504428.75404350134</td><td>35.5845248345762</td><td>225730.2954256805</td><td>25.653205968074033</td><td>399131.03896837565</td><td>18.705846665197136</td></tr>\n",
       "</table></div>"
      ],
      "text/plain": [
       "<Table length=5>\n",
       "        ra               dec         ... phot_RP_flux_rel_error_mast\n",
       "       deg               deg         ...              %             \n",
       "     float64           float64       ...           float64          \n",
       "----------------- ------------------ ... ---------------------------\n",
       "279.1690230903881 38.691400182784186 ...           18.70584866550965\n",
       "279.2337551481813 38.762047351329805 ...           18.70584342029543\n",
       "279.5897786983045 38.825768290679335 ...          18.705843855443003\n",
       "279.3594656724901 38.869412319479046 ...          18.705845279499805\n",
       "279.2520226768984 38.871457628592694 ...          18.705846665197136"
      ]
     },
     "execution_count": 106,
     "metadata": {},
     "output_type": "execute_result"
    }
   ],
   "source": [
    "entries = get_entries(max_mag_widget.value, ra_widget.value, dec_widget.value, ccd_width_range_deg, ccd_height_range_deg)\n",
    "convert_to_flux_density(entries)\n",
    "convert_gaia_to_mast(entries)\n",
    "entries"
   ]
  },
  {
   "cell_type": "code",
   "execution_count": null,
   "metadata": {},
   "outputs": [],
   "source": []
  }
 ],
 "metadata": {
  "kernelspec": {
   "display_name": "Python 3",
   "language": "python",
   "name": "python3"
  },
  "language_info": {
   "codemirror_mode": {
    "name": "ipython",
    "version": 3
   },
   "file_extension": ".py",
   "mimetype": "text/x-python",
   "name": "python",
   "nbconvert_exporter": "python",
   "pygments_lexer": "ipython3",
   "version": "3.11.2"
  },
  "orig_nbformat": 4,
  "vscode": {
   "interpreter": {
    "hash": "949777d72b0d2535278d3dc13498b2535136f6dfe0678499012e853ee9abcab1"
   }
  }
 },
 "nbformat": 4,
 "nbformat_minor": 2
}
