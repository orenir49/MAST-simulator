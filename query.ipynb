{
 "cells": [
  {
   "cell_type": "code",
   "execution_count": 1,
   "metadata": {},
   "outputs": [],
   "source": [
    "from astroquery.gaia import Gaia\n",
    "from astropy import units as u\n",
    "from astropy.constants import h, c\n",
    "import pandas as pd\n",
    "import numpy as np\n",
    "import ipywidgets as widgets\n",
    "from IPython.display import display"
   ]
  },
  {
   "cell_type": "code",
   "execution_count": 2,
   "metadata": {},
   "outputs": [],
   "source": [
    "# Constants\n",
    "\n",
    "d_filters = {'Band':['G','BP','RP'],'Wavelength':[639*u.nm,518*u.nm,783*u.nm],'Bandpass':[290*u.nm,169*u.nm,189*u.nm]} \n",
    "filters = pd.DataFrame(data=d_filters)\n",
    "\n",
    "ccd_width_px = 4656\n",
    "ccd_height_px = 3520\n",
    "ccd_px_side_length_micron = 3.8 * u.micron\n",
    "ccd_width_micron = ccd_width_px * ccd_px_side_length_micron\n",
    "ccd_height_micron = ccd_height_px * ccd_px_side_length_micron\n",
    "plate_scale_arcsec_micron = 0.11 * u.arcsec\n",
    "ccd_width_range_arcsec = ccd_width_micron * plate_scale_arcsec_micron\n",
    "ccd_height_range_arcsec = ccd_height_micron * plate_scale_arcsec_micron\n",
    "ccd_width_range_deg = u.arcsec.to(u.deg, value=ccd_width_range_arcsec)\n",
    "ccd_height_range_deg = u.arcsec.to(u.deg, value=ccd_height_range_arcsec)\n",
    "mast_collecting_area_m2 = 0.09 * np.pi * 0.5 * u.m**2\n",
    "gaia_collecting_area_m2 = 0.7 * u.m**2"
   ]
  },
  {
   "cell_type": "code",
   "execution_count": 3,
   "metadata": {},
   "outputs": [
    {
     "data": {
      "application/vnd.jupyter.widget-view+json": {
       "model_id": "52f327f24eb94dd8a002ba3a2a4a620f",
       "version_major": 2,
       "version_minor": 0
      },
      "text/plain": [
       "BoundedFloatText(value=279.235, description='RA:', max=360.0, step=0.001)"
      ]
     },
     "metadata": {},
     "output_type": "display_data"
    },
    {
     "data": {
      "application/vnd.jupyter.widget-view+json": {
       "model_id": "db6edf8a558347358cc5e1a4f35c8c34",
       "version_major": 2,
       "version_minor": 0
      },
      "text/plain": [
       "BoundedFloatText(value=38.783, description='DEC:', max=90.0, min=-90.0, step=0.001)"
      ]
     },
     "metadata": {},
     "output_type": "display_data"
    },
    {
     "data": {
      "application/vnd.jupyter.widget-view+json": {
       "model_id": "403ab3b5b1d64eb88f87c2faba8f058d",
       "version_major": 2,
       "version_minor": 0
      },
      "text/plain": [
       "FloatText(value=18.0, description='Max Mag:', step=0.01)"
      ]
     },
     "metadata": {},
     "output_type": "display_data"
    }
   ],
   "source": [
    "ra_widget = widgets.BoundedFloatText(\n",
    "    value=279.235,\n",
    "    min=0,\n",
    "    max=360,\n",
    "    step=0.001,\n",
    "    description='RA:'\n",
    ")\n",
    "dec_widget = widgets.BoundedFloatText(\n",
    "    value=38.783,\n",
    "    min=-90,\n",
    "    max=90,\n",
    "    step=0.001,\n",
    "    description='DEC:'\n",
    ")\n",
    "max_mag_widget = widgets.FloatText(\n",
    "    value=18,\n",
    "    step=0.01,\n",
    "    description='Max Mag:'\n",
    ")\n",
    "display(ra_widget)\n",
    "display(dec_widget)\n",
    "display(max_mag_widget)"
   ]
  },
  {
   "cell_type": "code",
   "execution_count": 4,
   "metadata": {},
   "outputs": [],
   "source": [
    "def get_entries(max_mag, ra, dec, ccd_width_range_deg, ccd_height_range_deg):\n",
    "    query = '''SELECT TOP 100 RA, DEC,\n",
    "PHOT_G_MEAN_FLUX AS PHOT_G_MEAN_FLUX_GAIA, PHOT_G_MEAN_FLUX_ERROR AS PHOT_G_MEAN_FLUX_ERROR_GAIA,\n",
    "PHOT_BP_MEAN_FLUX AS PHOT_BP_MEAN_FLUX_GAIA, PHOT_BP_MEAN_FLUX_ERROR AS PHOT_BP_MEAN_FLUX_ERROR_GAIA,\n",
    "PHOT_RP_MEAN_FLUX AS PHOT_RP_MEAN_FLUX_GAIA, PHOT_RP_MEAN_FLUX_ERROR AS PHOT_RP_MEAN_FLUX_ERROR_GAIA\n",
    "FROM gaiadr3.gaia_source\n",
    "WHERE (ra BETWEEN {ra_min} AND {ra_max})\n",
    "AND (dec BETWEEN {dec_min} AND {dec_max})\n",
    "AND phot_g_mean_mag < {max_mag}\n",
    "'''.format(\n",
    "        max_mag=max_mag,\n",
    "        ra_min=ra-(ccd_width_range_deg.value/2), ra_max=ra+(ccd_width_range_deg.value/2),\n",
    "        dec_min=dec-(ccd_height_range_deg.value/2), dec_max=dec+(ccd_height_range_deg.value/2)\n",
    "    )\n",
    "    job = Gaia.launch_job(query)\n",
    "    r = job.get_results()\n",
    "    return r"
   ]
  },
  {
   "cell_type": "code",
   "execution_count": 43,
   "metadata": {},
   "outputs": [],
   "source": [
    "def convert_to_flux_density(table):\n",
    "    # gets flux mean, flux error in electrons/sec (as given in GAIA_SOURCE) and name of band {'G','BP,'RP'}\n",
    "    # returns flux density + uncertainty in watt/m^2/nm\n",
    "    for filter in d_filters['Band']:\n",
    "        lam0 = filters[filters.Band == filter].iloc[0]['Wavelength']\n",
    "        bandpass = filters[filters.Band == filter].iloc[0]['Bandpass']\n",
    "        P =  h * c /lam0.to(u.m)/u.s*table['phot_' + str.lower(filter) + '_mean_flux_gaia'].value # convert rate of elecron arrival, to incoming power in watts \n",
    "        dP = np.sqrt((h * c /lam0.to(u.m)*table['phot_' + str.lower(filter) + '_mean_flux_error_gaia'].value)**2  + (bandpass.to(u.m)/2 * table['phot_' + str.lower(filter) + '_mean_flux_gaia'].value * h * c /lam0.to(u.m)**2)**2)/u.s\n",
    "        F = P/gaia_collecting_area_m2 # convert incoming power, to incoming intensity- 0.7m^2 is GAIA's collecting area\n",
    "        dF = dP/gaia_collecting_area_m2\n",
    "        table['flux_' + filter + '_density_gaia'] = (F/bandpass.to(u.nm)) # convert to incoming flux density\n",
    "        table['flux_' + filter + '_density_error_gaia'] = dF/bandpass.to(u.nm) "
   ]
  },
  {
   "cell_type": "code",
   "execution_count": 47,
   "metadata": {},
   "outputs": [],
   "source": [
    "def calculate_mast_qe(flux_density_inc_mast):\n",
    "    return flux_density_inc_mast"
   ]
  },
  {
   "cell_type": "code",
   "execution_count": 45,
   "metadata": {},
   "outputs": [],
   "source": [
    "def convert_gaia_to_mast(table):\n",
    "    for filter in d_filters['Band']:\n",
    "        lam0 = filters[filters.Band == filter].iloc[0]['Wavelength']\n",
    "        bandpass = filters[filters.Band == filter].iloc[0]['Bandpass']\n",
    "        gaia_mast_attenuation = 0.5\n",
    "        flux_density_inc_mast =  gaia_mast_attenuation * table['flux_' + filter + '_density_gaia']\n",
    "        flux_meas_mast = calculate_mast_qe(flux_density_inc_mast) * bandpass\n",
    "        power_meas_mast = flux_meas_mast * mast_collecting_area_m2\n",
    "        table['phot_' + filter + '_flux_mast'] = (power_meas_mast * lam0.to(u.m) / (h * c)) * u.electron \n",
    "\n",
    "        flux_density_inc_error_mast =  gaia_mast_attenuation * table['flux_' + filter + '_density_error_gaia']\n",
    "        flux_meas_error_mast = calculate_mast_qe(flux_density_inc_error_mast) * bandpass\n",
    "        power_meas_error_mast = flux_meas_error_mast * mast_collecting_area_m2\n",
    "        table['phot_' + filter + '_flux_rel_error_mast'] = ((power_meas_error_mast * lam0.to(u.m) / (h * c)).value / table['phot_' + filter + '_flux_mast']).value * 100 * u.percent"
   ]
  },
  {
   "cell_type": "code",
   "execution_count": 49,
   "metadata": {},
   "outputs": [
    {
     "data": {
      "text/html": [
       "<div>\n",
       "<style scoped>\n",
       "    .dataframe tbody tr th:only-of-type {\n",
       "        vertical-align: middle;\n",
       "    }\n",
       "\n",
       "    .dataframe tbody tr th {\n",
       "        vertical-align: top;\n",
       "    }\n",
       "\n",
       "    .dataframe thead th {\n",
       "        text-align: right;\n",
       "    }\n",
       "</style>\n",
       "<table border=\"1\" class=\"dataframe\">\n",
       "  <thead>\n",
       "    <tr style=\"text-align: right;\">\n",
       "      <th></th>\n",
       "      <th>Band</th>\n",
       "      <th>Wavelength</th>\n",
       "      <th>Bandpass</th>\n",
       "    </tr>\n",
       "  </thead>\n",
       "  <tbody>\n",
       "    <tr>\n",
       "      <th>0</th>\n",
       "      <td>G</td>\n",
       "      <td>639.0 nm</td>\n",
       "      <td>290.0 nm</td>\n",
       "    </tr>\n",
       "    <tr>\n",
       "      <th>1</th>\n",
       "      <td>BP</td>\n",
       "      <td>518.0 nm</td>\n",
       "      <td>169.0 nm</td>\n",
       "    </tr>\n",
       "    <tr>\n",
       "      <th>2</th>\n",
       "      <td>RP</td>\n",
       "      <td>783.0 nm</td>\n",
       "      <td>189.0 nm</td>\n",
       "    </tr>\n",
       "  </tbody>\n",
       "</table>\n",
       "</div>"
      ],
      "text/plain": [
       "  Band Wavelength  Bandpass\n",
       "0    G   639.0 nm  290.0 nm\n",
       "1   BP   518.0 nm  169.0 nm\n",
       "2   RP   783.0 nm  189.0 nm"
      ]
     },
     "execution_count": 49,
     "metadata": {},
     "output_type": "execute_result"
    }
   ],
   "source": [
    "filters"
   ]
  },
  {
   "cell_type": "code",
   "execution_count": 48,
   "metadata": {},
   "outputs": [
    {
     "data": {
      "text/html": [
       "<div><i>Table length=100</i>\n",
       "<table id=\"table140435325891280\" class=\"table-striped table-bordered table-condensed\">\n",
       "<thead><tr><th>ra</th><th>dec</th><th>phot_g_mean_flux_gaia</th><th>phot_g_mean_flux_error_gaia</th><th>phot_bp_mean_flux_gaia</th><th>phot_bp_mean_flux_error_gaia</th><th>phot_rp_mean_flux_gaia</th><th>phot_rp_mean_flux_error_gaia</th><th>flux_G_density_gaia</th><th>flux_G_density_error_gaia</th><th>flux_BP_density_gaia</th><th>flux_BP_density_error_gaia</th><th>flux_RP_density_gaia</th><th>flux_RP_density_error_gaia</th><th>phot_G_flux_mast</th><th>phot_G_flux_rel_error_mast</th><th>phot_BP_flux_mast</th><th>phot_BP_flux_rel_error_mast</th><th>phot_RP_flux_mast</th><th>phot_RP_flux_rel_error_mast</th></tr></thead>\n",
       "<thead><tr><th>deg</th><th>deg</th><th>electron / s</th><th>electron / s</th><th>electron / s</th><th>electron / s</th><th>electron / s</th><th>electron / s</th><th>J / (m2 nm s)</th><th>J / (m2 nm s)</th><th>J / (m2 nm s)</th><th>J / (m2 nm s)</th><th>J / (m2 nm s)</th><th>J / (m2 nm s)</th><th>electron / s</th><th>%</th><th>electron / s</th><th>%</th><th>electron / s</th><th>%</th></tr></thead>\n",
       "<thead><tr><th>float64</th><th>float64</th><th>float64</th><th>float32</th><th>float64</th><th>float32</th><th>float64</th><th>float32</th><th>float64</th><th>float64</th><th>float64</th><th>float64</th><th>float64</th><th>float64</th><th>float64</th><th>float64</th><th>float64</th><th>float64</th><th>float64</th><th>float64</th></tr></thead>\n",
       "<tr><td>278.96494437636767</td><td>38.658773196656206</td><td>4302.854510364426</td><td>2.3290374</td><td>2296.7434898592805</td><td>13.387459</td><td>2837.5006055939084</td><td>8.756109</td><td>6.589257781191359e-18</td><td>1.4952192432848029e-18</td><td>7.445171771206538e-18</td><td>1.2152866983902221e-18</td><td>5.441154891635843e-18</td><td>6.56905727771497e-19</td><td>434.50123240371175</td><td>22.691770347076364</td><td>231.92461526535317</td><td>16.323151912897735</td><td>286.53014112076323</td><td>12.072909903397422</td></tr>\n",
       "<tr><td>278.96743756702864</td><td>38.63946435621336</td><td>2657.865941639628</td><td>1.8847753</td><td>1428.7742809720794</td><td>13.07814</td><td>1909.039869012362</td><td>18.53691</td><td>4.070173368661991e-18</td><td>9.235962758800728e-19</td><td>4.6315446157076056e-18</td><td>7.567203727649466e-19</td><td>3.6607504509872385e-18</td><td>4.432423328622077e-19</td><td>268.39067517262197</td><td>22.69181659413421</td><td>144.27728950949756</td><td>16.338401884299568</td><td>192.77439518247613</td><td>12.107963621029489</td></tr>\n",
       "<tr><td>278.9684014504069</td><td>38.778231947989305</td><td>1646.1522057227946</td><td>1.5369931</td><td>781.7075520014079</td><td>13.571034</td><td>1260.1791223368552</td><td>8.712325</td><td>2.5208663700938324e-18</td><td>5.720324224017826e-19</td><td>2.5339995629448514e-18</td><td>4.156991241542655e-19</td><td>2.4165033770646057e-18</td><td>2.9212507729909473e-19</td><td>166.22806102037248</td><td>22.691897880350172</td><td>78.93664401289128</td><td>16.404861714781305</td><td>127.25259020166527</td><td>12.088751047140983</td></tr>\n",
       "<tr><td>278.96936300233864</td><td>38.79932451902017</td><td>6810.431011055317</td><td>3.0891402</td><td>3268.1938880109233</td><td>10.967302</td><td>4999.242220504968</td><td>11.198962</td><td>1.042928256690289e-17</td><td>2.366586844179611e-18</td><td>1.0594245715850264e-17</td><td>1.7285775354862154e-18</td><td>9.58648298046074e-18</td><td>1.1571886076548912e-18</td><td>687.7157153178694</td><td>22.691751124760245</td><td>330.0214470776414</td><td>16.316192599724737</td><td>504.82229893246074</td><td>12.07104430283227</td></tr>\n",
       "<tr><td>278.9697701690212</td><td>38.76867487527962</td><td>5362.227006938642</td><td>3.1430779</td><td>2732.7030882092304</td><td>12.74669</td><td>3955.5813417666595</td><td>11.816019</td><td>8.211547925888947e-18</td><td>1.8633465126875507e-18</td><td>8.858387530542579e-18</td><td>1.4456364770045337e-18</td><td>7.585172219729706e-18</td><td>9.157321825587471e-19</td><td>541.4764169532608</td><td>22.691781494849312</td><td>275.94771256157975</td><td>16.31940883168822</td><td>399.4336698419248</td><td>12.072661714612707</td></tr>\n",
       "<tr><td>278.9701077866078</td><td>38.81495235657511</td><td>1549.952337287637</td><td>1.7168857</td><td>752.1964547043827</td><td>7.3966246</td><td>1131.6151908605216</td><td>10.858532</td><td>2.3735488788542176e-18</td><td>5.38605145562778e-19</td><td>2.4383357722328103e-18</td><td>3.984814233387905e-19</td><td>2.1699708254023055e-18</td><td>2.627194754641725e-19</td><td>156.51382102190902</td><td>22.6919761527211</td><td>75.95662037642926</td><td>16.342352348540448</td><td>114.27023475957942</td><td>12.107051043668529</td></tr>\n",
       "<tr><td>278.97203665414145</td><td>38.94954970762994</td><td>4278.840297814535</td><td>2.5266147</td><td>2302.145087092561</td><td>12.499132</td><td>2822.9228735319343</td><td>10.011038</td><td>6.552483161802671e-18</td><td>1.4868752352745938e-18</td><td>7.462681701861925e-18</td><td>1.2180420419502907e-18</td><td>5.413200818970063e-18</td><td>6.535993216711898e-19</td><td>432.0762828910106</td><td>22.691782619789834</td><td>232.47006727846576</td><td>16.32177400312265</td><td>285.05808517945223</td><td>12.074174661703134</td></tr>\n",
       "<tr><td>278.97219384397613</td><td>38.634540142284195</td><td>37193.95593424609</td><td>7.079606</td><td>19418.43668519263</td><td>20.070137</td><td>25384.179991621157</td><td>18.89729</td><td>5.695766913863485e-17</td><td>1.292467125298613e-17</td><td>6.294721081735407e-17</td><td>1.026862176865277e-17</td><td>4.867637908491824e-17</td><td>5.874847166916119e-18</td><td>3755.8368874597513</td><td>22.691713773482387</td><td>1960.869151105705</td><td>16.31306873698967</td><td>2563.2885014703656</td><td>12.069195115493638</td></tr>\n",
       "<tr><td>278.9722005532541</td><td>38.774473385871644</td><td>5492.249578402816</td><td>2.7581875</td><td>2953.688866652299</td><td>14.237129</td><td>3699.8044585744356</td><td>13.342849</td><td>8.410660454255205e-18</td><td>1.9085269992011857e-18</td><td>9.574739655525957e-18</td><td>1.5625842071451061e-18</td><td>7.094697737925167e-18</td><td>8.566388111032907e-19</td><td>554.6060655168834</td><td>22.691761361447007</td><td>298.26280428636943</td><td>16.31986104440216</td><td>373.60538057494966</td><td>12.074352463588015</td></tr>\n",
       "<tr><td>...</td><td>...</td><td>...</td><td>...</td><td>...</td><td>...</td><td>...</td><td>...</td><td>...</td><td>...</td><td>...</td><td>...</td><td>...</td><td>...</td><td>...</td><td>...</td><td>...</td><td>...</td><td>...</td><td>...</td></tr>\n",
       "<tr><td>279.0146672344139</td><td>38.772794306552974</td><td>3125.4907021937147</td><td>1.9608692</td><td>1504.010519909103</td><td>14.787062</td><td>2315.1382520734946</td><td>10.735054</td><td>4.7862794058837315e-18</td><td>1.0860925921626732e-18</td><td>4.875431982659497e-18</td><td>7.967597998186077e-19</td><td>4.439479519492933e-18</td><td>5.361945520040787e-19</td><td>315.61131307098145</td><td>22.69179251899814</td><td>151.87462715147797</td><td>16.342342640661425</td><td>233.78211401010444</td><td>12.077869706341646</td></tr>\n",
       "<tr><td>279.01543781904525</td><td>38.8260576235488</td><td>1717.9445189234862</td><td>1.570761</td><td>822.3028000300767</td><td>9.019016</td><td>1267.6616192167994</td><td>11.569052</td><td>2.6308068891720193e-18</td><td>5.969798052972161e-19</td><td>2.6655939686774178e-18</td><td>4.358132007396158e-19</td><td>2.4308517174384176e-18</td><td>2.9421623836866523e-19</td><td>173.47763185472814</td><td>22.691889995966235</td><td>83.03594257288303</td><td>16.349571835047797</td><td>128.00817096972554</td><td>12.10342186888735</td></tr>\n",
       "<tr><td>279.0155878034577</td><td>38.79030520474076</td><td>1239.023218411413</td><td>1.4787341</td><td>631.843796647975</td><td>12.128957</td><td>818.0628107864529</td><td>9.524132</td><td>1.8974016814486024e-18</td><td>4.305587621956807e-19</td><td>2.0481980767054177e-18</td><td>3.3642265596855934e-19</td><td>1.5687067892781673e-18</td><td>1.9020552663182362e-19</td><td>125.11627201891534</td><td>22.69201963956117</td><td>63.80343738532161</td><td>16.425298890510838</td><td>82.60778946027014</td><td>12.124989063083337</td></tr>\n",
       "<tr><td>279.0165026294763</td><td>38.827369203548955</td><td>2982.4408206588123</td><td>9.613526</td><td>1009.9778454971317</td><td>10.510804</td><td>3352.7727770763286</td><td>12.600733</td><td>4.567217259410524e-18</td><td>1.0364840606064322e-18</td><td>3.2739653243993545e-18</td><td>5.351592296094642e-19</td><td>6.429234221331198e-18</td><td>7.763181906196364e-19</td><td>301.1661698126156</td><td>22.693995090135218</td><td>101.9873243475719</td><td>16.345904021070996</td><td>338.56220332346277</td><td>12.074815816227904</td></tr>\n",
       "<tr><td>279.017680922104</td><td>38.68616788508501</td><td>1044576.081592022</td><td>138.954</td><td>602892.493343795</td><td>213.33844</td><td>637833.1015416016</td><td>158.14658</td><td>1.5996313742650024e-15</td><td>3.6298370754878095e-16</td><td>1.9543489259179585e-15</td><td>3.1880863470558113e-16</td><td>1.223100602572008e-15</td><td>1.4761590147208736e-16</td><td>105481.0460585928</td><td>22.691709689400437</td><td>60879.94161407035</td><td>16.312779692389707</td><td>64408.23597919783</td><td>12.068990985833212</td></tr>\n",
       "<tr><td>279.018040765717</td><td>38.97749296168364</td><td>9576.964849807291</td><td>3.4584248</td><td>4778.087800757124</td><td>15.131124</td><td>6849.353835130158</td><td>13.208176</td><td>1.4665866578752674e-17</td><td>3.3279395098097752e-18</td><td>1.5488749427879226e-17</td><td>2.527115676761326e-18</td><td>1.3134233364071e-17</td><td>1.5853684271223585e-18</td><td>967.0796490806445</td><td>22.691734524785335</td><td>482.49017784853686</td><td>16.315814834040783</td><td>691.6461329019207</td><td>12.070506006533813</td></tr>\n",
       "<tr><td>279.01921523533406</td><td>38.78043251201058</td><td>3917.243618497507</td><td>2.3211026</td><td>2089.6996407318898</td><td>16.178988</td><td>2632.4888835089237</td><td>21.329803</td><td>5.9987452357111646e-18</td><td>1.3612222607669842e-18</td><td>6.7740140961195224e-18</td><td>1.1062712794616166e-18</td><td>5.048027033877406e-18</td><td>6.106160722066891e-19</td><td>395.5623355990694</td><td>22.691783152641385</td><td>211.01737627068863</td><td>16.331103888539904</td><td>265.82810583498537</td><td>12.09613316467667</td></tr>\n",
       "<tr><td>279.01933282283585</td><td>38.72827829758172</td><td>2149.3472149827257</td><td>1.8053882</td><td>1148.2099828504067</td><td>11.193052</td><td>1461.8473334988937</td><td>9.061018</td><td>3.2914435816254027e-18</td><td>7.468898108009443e-19</td><td>3.722061514261289e-18</td><td>6.082534292080821e-19</td><td>2.8032197610148046e-18</td><td>3.387655093306504e-19</td><td>217.04057423368116</td><td>22.69186125414643</td><td>115.94597293611322</td><td>16.341842467609005</td><td>147.61699854396275</td><td>12.084871619484183</td></tr>\n",
       "<tr><td>279.0198655168776</td><td>38.89574612111172</td><td>5087.834540621077</td><td>2.2583039</td><td>2231.835347319</td><td>18.902063</td><td>4046.462452975753</td><td>20.110216</td><td>7.79135182364375e-18</td><td>1.76799401522344e-18</td><td>7.234764177717745e-18</td><td>1.1817778965757423e-18</td><td>7.759444676918895e-18</td><td>9.37278352393758e-19</td><td>513.7683304980723</td><td>22.691749201444857</td><td>225.37020635869487</td><td>16.334712058970556</td><td>408.610822991643</td><td>12.079193697736766</td></tr>\n",
       "<tr><td>279.020540897109</td><td>38.88360208582342</td><td>2397.7354425153103</td><td>1.7474848</td><td>1289.3866047159588</td><td>16.096577</td><td>1590.0759868349119</td><td>12.730211</td><td>3.671817600101522e-18</td><td>8.332023443846453e-19</td><td>4.179702606750946e-18</td><td>6.838177504889666e-19</td><td>3.049109387600846e-18</td><td>3.6880474242741766e-19</td><td>242.1227587968634</td><td>22.691822828062268</td><td>130.2019548754096</td><td>16.360440318994996</td><td>160.56549767861037</td><td>12.095490700568371</td></tr>\n",
       "</table></div>"
      ],
      "text/plain": [
       "<Table length=100>\n",
       "        ra                dec         ... phot_RP_flux_rel_error_mast\n",
       "       deg                deg         ...              %             \n",
       "     float64            float64       ...           float64          \n",
       "------------------ ------------------ ... ---------------------------\n",
       "278.96494437636767 38.658773196656206 ...          12.072909903397422\n",
       "278.96743756702864  38.63946435621336 ...          12.107963621029489\n",
       " 278.9684014504069 38.778231947989305 ...          12.088751047140983\n",
       "278.96936300233864  38.79932451902017 ...           12.07104430283227\n",
       " 278.9697701690212  38.76867487527962 ...          12.072661714612707\n",
       " 278.9701077866078  38.81495235657511 ...          12.107051043668529\n",
       "278.97203665414145  38.94954970762994 ...          12.074174661703134\n",
       "278.97219384397613 38.634540142284195 ...          12.069195115493638\n",
       " 278.9722005532541 38.774473385871644 ...          12.074352463588015\n",
       "               ...                ... ...                         ...\n",
       " 279.0146672344139 38.772794306552974 ...          12.077869706341646\n",
       "279.01543781904525   38.8260576235488 ...           12.10342186888735\n",
       " 279.0155878034577  38.79030520474076 ...          12.124989063083337\n",
       " 279.0165026294763 38.827369203548955 ...          12.074815816227904\n",
       "  279.017680922104  38.68616788508501 ...          12.068990985833212\n",
       "  279.018040765717  38.97749296168364 ...          12.070506006533813\n",
       "279.01921523533406  38.78043251201058 ...           12.09613316467667\n",
       "279.01933282283585  38.72827829758172 ...          12.084871619484183\n",
       " 279.0198655168776  38.89574612111172 ...          12.079193697736766\n",
       "  279.020540897109  38.88360208582342 ...          12.095490700568371"
      ]
     },
     "execution_count": 48,
     "metadata": {},
     "output_type": "execute_result"
    }
   ],
   "source": [
    "entries = get_entries(max_mag_widget.value, ra_widget.value, dec_widget.value, ccd_width_range_deg, ccd_height_range_deg)\n",
    "convert_to_flux_density(entries)\n",
    "convert_gaia_to_mast(entries)\n",
    "entries"
   ]
  }
 ],
 "metadata": {
  "kernelspec": {
   "display_name": "Python 3",
   "language": "python",
   "name": "python3"
  },
  "language_info": {
   "codemirror_mode": {
    "name": "ipython",
    "version": 3
   },
   "file_extension": ".py",
   "mimetype": "text/x-python",
   "name": "python",
   "nbconvert_exporter": "python",
   "pygments_lexer": "ipython3",
   "version": "3.11.2"
  },
  "orig_nbformat": 4,
  "vscode": {
   "interpreter": {
    "hash": "949777d72b0d2535278d3dc13498b2535136f6dfe0678499012e853ee9abcab1"
   }
  }
 },
 "nbformat": 4,
 "nbformat_minor": 2
}
