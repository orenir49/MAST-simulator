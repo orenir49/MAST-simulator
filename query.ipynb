{
 "cells": [
  {
   "cell_type": "code",
   "execution_count": 1,
   "metadata": {},
   "outputs": [],
   "source": [
    "from astroquery.gaia import Gaia\n",
    "from astropy import units as u\n",
    "from astropy import wcs\n",
    "import astropy.coordinates as coord\n",
    "from astropy.constants import h, c\n",
    "import pandas as pd\n",
    "import numpy as np\n",
    "import matplotlib.pyplot as plt\n",
    "import ipywidgets as widgets\n",
    "from IPython.display import display"
   ]
  },
  {
   "cell_type": "code",
   "execution_count": 66,
   "metadata": {},
   "outputs": [],
   "source": [
    "# Constants\n",
    "fd_unit = u.J/u.m**2/u.s/u.nm\n",
    "d_filters = {'Band':['G','BP','RP'],'Wavelength':[639.07*u.nm,518.26*u.nm,782.51*u.nm],'Bandpass':[454.82*u.nm,265.9*u.nm,292.75*u.nm],'clam':[1.346e-21*fd_unit,3.009e-21*fd_unit,1.638e-21*fd_unit]} \n",
    "filters = pd.DataFrame(data=d_filters)\n",
    "qe = pd.read_csv('QE.csv',delimiter=',',index_col=0)\n",
    "\n",
    "ccd_width_px = 4656\n",
    "ccd_height_px = 3520\n",
    "ccd_px_side_length_micron = 3.8 * u.micron\n",
    "ccd_width_micron = ccd_width_px * ccd_px_side_length_micron\n",
    "ccd_height_micron = ccd_height_px * ccd_px_side_length_micron\n",
    "plate_scale_arcsec_micron = 0.11 * u.arcsec/u.micron\n",
    "px_dec = plate_scale_arcsec_micron * ccd_px_side_length_micron\n",
    "px_ra = plate_scale_arcsec_micron * ccd_px_side_length_micron\n",
    "ccd_width_range_arcsec = ccd_width_micron * plate_scale_arcsec_micron\n",
    "ccd_height_range_arcsec = ccd_height_micron * plate_scale_arcsec_micron\n",
    "ccd_width_range_deg = ccd_width_range_arcsec.to(u.deg)\n",
    "ccd_height_range_deg = ccd_height_range_arcsec.to(u.deg)\n",
    "mast_collecting_area_m2 = 0.09 * np.pi * 0.5 * u.m**2\n",
    "gaia_collecting_area_m2 = 0.7 * u.m**2\n",
    "ccd_full_well = 20000 * u.electron\n",
    "gaia_mast_attenuation = 0.5"
   ]
  },
  {
   "cell_type": "code",
   "execution_count": 4,
   "metadata": {},
   "outputs": [
    {
     "data": {
      "application/vnd.jupyter.widget-view+json": {
       "model_id": "8e396821369843f499d724e8a119efa4",
       "version_major": 2,
       "version_minor": 0
      },
      "text/plain": [
       "BoundedFloatText(value=279.3643447, description='RA:', max=360.0, step=0.001)"
      ]
     },
     "metadata": {},
     "output_type": "display_data"
    },
    {
     "data": {
      "application/vnd.jupyter.widget-view+json": {
       "model_id": "2a8abbec5c4b433b8b84edf750b9372b",
       "version_major": 2,
       "version_minor": 0
      },
      "text/plain": [
       "BoundedFloatText(value=38.79739118, description='DEC:', max=90.0, min=-90.0, step=0.001)"
      ]
     },
     "metadata": {},
     "output_type": "display_data"
    },
    {
     "data": {
      "application/vnd.jupyter.widget-view+json": {
       "model_id": "90730327ed5049fabf2d1f0108aa915b",
       "version_major": 2,
       "version_minor": 0
      },
      "text/plain": [
       "FloatText(value=18.0, description='Max Mag:', step=0.01)"
      ]
     },
     "metadata": {},
     "output_type": "display_data"
    }
   ],
   "source": [
    "ra_widget = widgets.BoundedFloatText(\n",
    "    value=279.3643447,\n",
    "    min=0,\n",
    "    max=360,\n",
    "    step=0.001,\n",
    "    description='RA:'\n",
    ")\n",
    "dec_widget = widgets.BoundedFloatText(\n",
    "    value=38.79739118,\n",
    "    min=-90,\n",
    "    max=90,\n",
    "    step=0.001,\n",
    "    description='DEC:'\n",
    ")\n",
    "max_mag_widget = widgets.FloatText(\n",
    "    value=18,\n",
    "    step=0.01,\n",
    "    description='Max Mag:'\n",
    ")\n",
    "display(ra_widget)\n",
    "display(dec_widget)\n",
    "display(max_mag_widget)\n"
   ]
  },
  {
   "cell_type": "code",
   "execution_count": 11,
   "metadata": {},
   "outputs": [],
   "source": [
    "def get_entries(max_mag, ra, dec, ccd_width_range_deg, ccd_height_range_deg):\n",
    "    query = '''SELECT TOP 100 SOURCE_ID, RA, DEC, PHOT_G_MEAN_MAG, HAS_XP_SAMPLED,\n",
    "PHOT_G_MEAN_FLUX AS PHOT_G_MEAN_FLUX_GAIA, PHOT_G_MEAN_FLUX_ERROR AS PHOT_G_MEAN_FLUX_ERROR_GAIA,\n",
    "PHOT_BP_MEAN_FLUX AS PHOT_BP_MEAN_FLUX_GAIA, PHOT_BP_MEAN_FLUX_ERROR AS PHOT_BP_MEAN_FLUX_ERROR_GAIA,\n",
    "PHOT_RP_MEAN_FLUX AS PHOT_RP_MEAN_FLUX_GAIA, PHOT_RP_MEAN_FLUX_ERROR AS PHOT_RP_MEAN_FLUX_ERROR_GAIA\n",
    "FROM gaiadr3.gaia_source\n",
    "WHERE (ra BETWEEN {ra_min} AND {ra_max})\n",
    "AND (dec BETWEEN {dec_min} AND {dec_max})\n",
    "AND phot_g_mean_mag < {max_mag}\n",
    "'''.format(\n",
    "        max_mag=max_mag,\n",
    "        ra_min=ra-(ccd_width_range_deg.value/2), ra_max=ra+(ccd_width_range_deg.value/2),\n",
    "        dec_min=dec-(ccd_height_range_deg.value/2), dec_max=dec+(ccd_height_range_deg.value/2)\n",
    "    )\n",
    "    job = Gaia.launch_job(query)\n",
    "    r = job.get_results()\n",
    "    return r"
   ]
  },
  {
   "cell_type": "code",
   "execution_count": 70,
   "metadata": {},
   "outputs": [],
   "source": [
    "def convert_to_flux_density(table):\n",
    "    # gets flux mean, flux error in electrons/sec (as given in GAIA_SOURCE) and name of band {'G','BP,'RP'}\n",
    "    # returns flux density + uncertainty in watt/m^2/nm\n",
    "    for filter in d_filters['Band']:\n",
    "        table['flux_' + filter + '_density_gaia'] = filters[filters['Band'] == filter]['clam'].iloc[0] * table['phot_' + str.lower(filter) + '_mean_flux_gaia'].value # convert to incoming flux density\n",
    "        table['flux_' + filter + '_density_error_gaia'] =  filters[filters['Band'] == filter]['clam'].iloc[0] * table['phot_' + str.lower(filter) + '_mean_flux_error_gaia'].value\n",
    "\n",
    "def get_flux_from_spectrum(source_id,lmin,lmax):\n",
    "    datalink = Gaia.load_data(ids=source_id, data_release = 'Gaia DR3', retrieval_type='XP_SAMPLED', data_structure = 'INDIVIDUAL', verbose = False, output_file = None)\n",
    "    dl_keys  = [inp for inp in datalink.keys()]\n",
    "    dl_keys.sort()\n",
    "    t = datalink[dl_key][0]\n",
    "    t = t.to_table()\n",
    "    y1arr = qe['QE'].values[int((lmin.value-336)/2):int((lmax.value-336)/2)]\n",
    "    y2arr = np.ma.getdata(t['flux'].value)[int((lmin.value-336)/2):int((lmax.value-336)/2)]\n",
    "    xarr = qe['Wavelength'].values[int((lmin.value-336)/2):int((lmax.value-336)/2)]\n",
    "    fmast = np.trapz(y1arr*y2arr*xarr*1e-9/h.value/c.value,xarr)*gaia_mast_attenuation*mast_collecting_area_m2*u.electron/u.m**2/u.s\n",
    "    return fmast\n",
    "\n",
    "def convert_gaia_to_mast(table):\n",
    "    for filter in d_filters['Band']:\n",
    "        lam0 = filters[filters.Band == filter].iloc[0]['Wavelength']\n",
    "        bandpass = filters[filters.Band == filter].iloc[0]['Bandpass']\n",
    "        flux_density_inc_mast =  gaia_mast_attenuation * table['flux_' + filter + '_density_gaia']\n",
    "        flux_meas_mast = effective_qe(lam0-bandpass/2,lam0+bandpass/2)* flux_density_inc_mast * bandpass\n",
    "        power_meas_mast = flux_meas_mast * mast_collecting_area_m2\n",
    "        table['phot_' + filter + '_flux_mast'] = (power_meas_mast * lam0.to(u.m) / (h * c)) * u.electron \n",
    "\n",
    "        flux_density_inc_error_mast =  gaia_mast_attenuation * table['flux_' + filter + '_density_error_gaia']\n",
    "        flux_meas_error_mast = effective_qe(lam0-bandpass/2,lam0+bandpass/2) * flux_density_inc_error_mast * bandpass\n",
    "        power_meas_error_mast = flux_meas_error_mast * mast_collecting_area_m2\n",
    "        table['phot_' + filter + '_flux_rel_error_mast'] = np.sqrt(((power_meas_error_mast * lam0.to(u.m) / (h * c)).value)**2 + ((power_meas_mast * bandpass.to(u.m) / (2 * h * c)).value)**2) / table['phot_' + filter + '_flux_mast'].value * 100 * u.percent\n",
    "\n",
    "def effective_qe(lmin,lmax):\n",
    "    return np.mean(qe['QE'].values[int((lmin.value-336)/2):int((lmax.value-336)/2)])"
   ]
  },
  {
   "cell_type": "code",
   "execution_count": 73,
   "metadata": {},
   "outputs": [
    {
     "data": {
      "text/html": [
       "<i>Table length=5</i>\n",
       "<table id=\"table139860232561360-61257\" class=\"table-striped table-bordered table-condensed\">\n",
       "<thead><tr><th>idx</th><th>source_id</th><th>ra</th><th>dec</th><th>phot_g_mean_mag</th><th>has_xp_sampled</th><th>phot_g_mean_flux_gaia</th><th>phot_g_mean_flux_error_gaia</th><th>phot_bp_mean_flux_gaia</th><th>phot_bp_mean_flux_error_gaia</th><th>phot_rp_mean_flux_gaia</th><th>phot_rp_mean_flux_error_gaia</th><th>flux_G_density_gaia</th><th>flux_G_density_error_gaia</th><th>flux_BP_density_gaia</th><th>flux_BP_density_error_gaia</th><th>flux_RP_density_gaia</th><th>flux_RP_density_error_gaia</th><th>phot_G_flux_mast</th><th>phot_G_flux_rel_error_mast</th><th>phot_BP_flux_mast</th><th>phot_BP_flux_rel_error_mast</th><th>phot_RP_flux_mast</th><th>phot_RP_flux_rel_error_mast</th></tr></thead>\n",
       "<thead><tr><th></th><th></th><th>deg</th><th>deg</th><th>mag</th><th></th><th>electron / s</th><th>electron / s</th><th>electron / s</th><th>electron / s</th><th>electron / s</th><th>electron / s</th><th>J / (m2 nm s)</th><th>J / (m2 nm s)</th><th>J / (m2 nm s)</th><th>J / (m2 nm s)</th><th>J / (m2 nm s)</th><th>J / (m2 nm s)</th><th>electron / s</th><th>%</th><th>electron / s</th><th>%</th><th>electron / s</th><th>%</th></tr></thead>\n",
       "<tr><td>0</td><td>2097892344993257344</td><td>279.2337551481813</td><td>38.762047351329805</td><td>9.666267</td><td>True</td><td>2561178.0427986667</td><td>463.47357</td><td>1099243.4954899368</td><td>568.28577</td><td>2078002.3227934253</td><td>443.67078</td><td>3.4473456456070055e-15</td><td>6.238354e-19</td><td>3.30762367792922e-15</td><td>1.7099719e-18</td><td>3.4037678047356307e-15</td><td>7.267327e-19</td><td>245727.68080437527</td><td>35.58452585873837</td><td>136224.30730677795</td><td>25.653199161472763</td><td>132512.66859429682</td><td>18.705843420296578</td></tr>\n",
       "<tr><td>1</td><td>2097896983557704704</td><td>279.5897786983045</td><td>38.825768290679335</td><td>9.8454895</td><td>True</td><td>2171456.031073891</td><td>431.96613</td><td>861877.8532518711</td><td>389.44592</td><td>1854599.471595097</td><td>402.98083</td><td>2.9227798178254574e-15</td><td>5.814264e-19</td><td>2.59339046043488e-15</td><td>1.1718428e-18</td><td>3.037833934472769e-15</td><td>6.600826e-19</td><td>208336.49421006133</td><td>35.584526817853344</td><td>106808.64978869804</td><td>25.653186864341677</td><td>118266.43428592064</td><td>18.705843855442616</td></tr>\n",
       "<tr><td>2</td><td>2097900179013702144</td><td>279.3594656724901</td><td>38.869412319479046</td><td>9.953577</td><td>True</td><td>1965694.546135519</td><td>305.09726</td><td>995563.8128174203</td><td>345.94635</td><td>1390766.6747568313</td><td>318.79025</td><td>2.6458248590984085e-15</td><td>4.106609e-19</td><td>2.995651512767618e-15</td><td>1.0409525e-18</td><td>2.2780758132516895e-15</td><td>5.2217844e-19</td><td>188595.07379810087</td><td>35.584524642410564</td><td>123375.75008374418</td><td>25.653170603720383</td><td>88688.1604714957</td><td>18.705845279496522</td></tr>\n",
       "<tr><td>3</td><td>2097941582498412800</td><td>279.2520226768984</td><td>38.871457628592694</td><td>9.289589</td><td>True</td><td>3623357.0473809196</td><td>578.1276</td><td>1529839.8721935307</td><td>840.98004</td><td>2989228.7233112236</td><td>718.19617</td><td>4.877038585774718e-15</td><td>7.7815977e-19</td><td>4.603288175430334e-15</td><td>2.5305089e-18</td><td>4.896356648783784e-15</td><td>1.1764053e-18</td><td>347636.55985672254</td><td>35.58452483457639</td><td>189586.18152838666</td><td>25.653205968091285</td><td>190620.90105472447</td><td>18.7058466651969</td></tr>\n",
       "<tr><td>4</td><td>2097991541556600960</td><td>279.6710891542905</td><td>38.91895954827046</td><td>9.926931</td><td>True</td><td>2014531.9165205213</td><td>299.78967</td><td>791004.5157122059</td><td>483.3522</td><td>1744039.893285447</td><td>624.51514</td><td>2.7115599596366217e-15</td><td>4.035169e-19</td><td>2.3801325877780275e-15</td><td>1.4544068e-18</td><td>2.8567373452015623e-15</td><td>1.0229558e-18</td><td>193280.6886053313</td><td>35.58452436912548</td><td>98025.63551345121</td><td>25.65321984671815</td><td>111216.1318874241</td><td>18.705865509454185</td></tr>\n",
       "</table><style>table.dataTable {clear: both; width: auto !important; margin: 0 !important;}\n",
       ".dataTables_info, .dataTables_length, .dataTables_filter, .dataTables_paginate{\n",
       "display: inline-block; margin-right: 1em; }\n",
       ".paginate_button { margin-right: 5px; }\n",
       "</style>\n",
       "<script>\n",
       "\n",
       "var astropy_sort_num = function(a, b) {\n",
       "    var a_num = parseFloat(a);\n",
       "    var b_num = parseFloat(b);\n",
       "\n",
       "    if (isNaN(a_num) && isNaN(b_num))\n",
       "        return ((a < b) ? -1 : ((a > b) ? 1 : 0));\n",
       "    else if (!isNaN(a_num) && !isNaN(b_num))\n",
       "        return ((a_num < b_num) ? -1 : ((a_num > b_num) ? 1 : 0));\n",
       "    else\n",
       "        return isNaN(a_num) ? -1 : 1;\n",
       "}\n",
       "\n",
       "require.config({paths: {\n",
       "    datatables: 'https://cdn.datatables.net/1.10.12/js/jquery.dataTables.min'\n",
       "}});\n",
       "require([\"datatables\"], function(){\n",
       "    console.log(\"$('#table139860232561360-61257').dataTable()\");\n",
       "    \n",
       "jQuery.extend( jQuery.fn.dataTableExt.oSort, {\n",
       "    \"optionalnum-asc\": astropy_sort_num,\n",
       "    \"optionalnum-desc\": function (a,b) { return -astropy_sort_num(a, b); }\n",
       "});\n",
       "\n",
       "    $('#table139860232561360-61257').dataTable({\n",
       "        order: [],\n",
       "        pageLength: 50,\n",
       "        lengthMenu: [[10, 25, 50, 100, 500, 1000, -1], [10, 25, 50, 100, 500, 1000, 'All']],\n",
       "        pagingType: \"full_numbers\",\n",
       "        columnDefs: [{targets: [0, 1, 2, 3, 4, 6, 7, 8, 9, 10, 11, 12, 13, 14, 15, 16, 17, 18, 19, 20, 21, 22, 23], type: \"optionalnum\"}]\n",
       "    });\n",
       "});\n",
       "</script>\n"
      ],
      "text/plain": [
       "<IPython.core.display.HTML object>"
      ]
     },
     "execution_count": 73,
     "metadata": {},
     "output_type": "execute_result"
    }
   ],
   "source": [
    "coor= coord.SkyCoord(ra = ra_widget.value , dec = dec_widget.value , frame='fk5', unit=(u.deg, u.deg), obstime=\"J2000\")\n",
    "coor = coor.transform_to(coord.FK5(equinox='J2016.000'))\n",
    "ra2016 = coor.ra.value\n",
    "dec2016 = coor.dec.value\n",
    "\n",
    "entries = get_entries(max_mag_widget.value, ra2016, dec2016, ccd_width_range_deg, ccd_height_range_deg)\n",
    "convert_to_flux_density(entries)\n",
    "convert_gaia_to_mast(entries)\n",
    "entries.show_in_notebook()"
   ]
  },
  {
   "cell_type": "code",
   "execution_count": 72,
   "metadata": {},
   "outputs": [
    {
     "data": {
      "text/latex": [
       "$217928.73 \\; \\mathrm{\\frac{e^{-}}{s}}$"
      ],
      "text/plain": [
       "<Quantity 217928.72745756 electron / s>"
      ]
     },
     "execution_count": 72,
     "metadata": {},
     "output_type": "execute_result"
    }
   ],
   "source": [
    "get_flux_from_spectrum(2097892344993257344,400*u.nm,800*u.nm)"
   ]
  },
  {
   "cell_type": "code",
   "execution_count": 172,
   "metadata": {},
   "outputs": [
    {
     "data": {
      "text/plain": [
       "<matplotlib.image.AxesImage at 0x7fb9a2008590>"
      ]
     },
     "execution_count": 172,
     "metadata": {},
     "output_type": "execute_result"
    },
    {
     "data": {
      "image/png": "[encoded data removed]",
      "text/plain": [
       "<Figure size 640x480 with 1 Axes>"
      ]
     },
     "metadata": {},
     "output_type": "display_data"
    }
   ],
   "source": [
    "wcs_input_dict = {\n",
    "    'CTYPE1': 'RA---TAN', \n",
    "    'CUNIT1': 'deg', \n",
    "    'CDELT1': (px_ra.to(u.deg)).value, \n",
    "    'CRPIX1': ccd_width_px/2 - 1, \n",
    "    'CRVAL1': ra2016, \n",
    "    'NAXIS1': ccd_width_px,\n",
    "    'CTYPE2': 'DEC--TAN', \n",
    "    'CUNIT2': 'deg', \n",
    "    'CDELT2': (px_dec.to(u.deg)).value, \n",
    "    'CRPIX2': ccd_height_px/2 - 1, \n",
    "    'CRVAL2': dec2016, \n",
    "    'NAXIS2': ccd_height_px\n",
    "}\n",
    "coor_width_range_deg = ccd_width_range_deg / np.cos(np.deg2rad(dec2016))\n",
    "wcs_dict = wcs.WCS(wcs_input_dict)\n",
    "image = np.zeros((ccd_height_px,ccd_width_px))\n",
    "x = wcs_dict.wcs_world2pix([[ra2016 +(coor_width_range_deg.value/2),dec2016+(ccd_height_range_deg.value/2)]],0)\n",
    "pixs = wcs_dict.wcs_world2pix(entries['ra'].value, entries['dec'].value, 0)\n",
    "for i in range(len(pixs[0])):\n",
    "    image[int(pixs[0][i])-15:int(pixs[0][i])+15,int(pixs[1][i])-15:int(pixs[1][i])+15] = 1\n",
    "plt.imshow(image, origin='lower')"
   ]
  },
  {
   "cell_type": "code",
   "execution_count": null,
   "metadata": {},
   "outputs": [],
   "source": []
  }
 ],
 "metadata": {
  "kernelspec": {
   "display_name": "Python 3",
   "language": "python",
   "name": "python3"
  },
  "language_info": {
   "codemirror_mode": {
    "name": "ipython",
    "version": 3
   },
   "file_extension": ".py",
   "mimetype": "text/x-python",
   "name": "python",
   "nbconvert_exporter": "python",
   "pygments_lexer": "ipython3",
   "version": "3.11.2"
  },
  "orig_nbformat": 4,
  "vscode": {
   "interpreter": {
    "hash": "949777d72b0d2535278d3dc13498b2535136f6dfe0678499012e853ee9abcab1"
   }
  }
 },
 "nbformat": 4,
 "nbformat_minor": 2
}
