{
 "cells": [
  {
   "cell_type": "code",
   "execution_count": 119,
   "metadata": {},
   "outputs": [],
   "source": [
    "from astroquery.gaia import Gaia\n",
    "from astropy import units as u\n",
    "from astropy import wcs\n",
    "import astropy.coordinates as coord\n",
    "from astropy.constants import h, c\n",
    "import pandas as pd\n",
    "import numpy as np\n",
    "import matplotlib.pyplot as plt\n",
    "import ipywidgets as widgets\n",
    "from IPython.display import display"
   ]
  },
  {
   "cell_type": "code",
   "execution_count": 133,
   "metadata": {},
   "outputs": [],
   "source": [
    "# Constants\n",
    "fd_unit = u.J/u.m**2/u.s/u.nm\n",
    "d_filters = {'Band':['G','BP','RP'],'Wavelength':[639.07*u.nm,518.26*u.nm,782.51*u.nm],'Bandpass':[454.82*u.nm,265.9*u.nm,292.75*u.nm],'clam':[1.346e-21*fd_unit,3.009e-21*fd_unit,1.638e-21*fd_unit]} \n",
    "filters = pd.DataFrame(data=d_filters)\n",
    "\n",
    "ccd_width_px = 4656\n",
    "ccd_height_px = 3520\n",
    "ccd_px_side_length_micron = 3.8 * u.micron\n",
    "ccd_width_micron = ccd_width_px * ccd_px_side_length_micron\n",
    "ccd_height_micron = ccd_height_px * ccd_px_side_length_micron\n",
    "plate_scale_arcsec_micron = 0.11 * u.arcsec/u.micron\n",
    "px_dec = plate_scale_arcsec_micron * ccd_px_side_length_micron\n",
    "px_ra = plate_scale_arcsec_micron * ccd_px_side_length_micron\n",
    "ccd_width_range_arcsec = ccd_width_micron * plate_scale_arcsec_micron\n",
    "ccd_height_range_arcsec = ccd_height_micron * plate_scale_arcsec_micron\n",
    "ccd_width_range_deg = ccd_width_range_arcsec.to(u.deg)\n",
    "ccd_height_range_deg = ccd_height_range_arcsec.to(u.deg)\n",
    "mast_collecting_area_m2 = 0.09 * np.pi * 0.5 * u.m**2\n",
    "gaia_collecting_area_m2 = 0.7 * u.m**2"
   ]
  },
  {
   "cell_type": "code",
   "execution_count": 102,
   "metadata": {},
   "outputs": [
    {
     "data": {
      "application/vnd.jupyter.widget-view+json": {
       "model_id": "2b169c6f5dc74a62a28f42b85d57fc78",
       "version_major": 2,
       "version_minor": 0
      },
      "text/plain": [
       "BoundedFloatText(value=279.3643447, description='RA:', max=360.0, step=0.001)"
      ]
     },
     "metadata": {},
     "output_type": "display_data"
    },
    {
     "data": {
      "application/vnd.jupyter.widget-view+json": {
       "model_id": "92110eb550544410be40c32f75c34138",
       "version_major": 2,
       "version_minor": 0
      },
      "text/plain": [
       "BoundedFloatText(value=38.79739118, description='DEC:', max=90.0, min=-90.0, step=0.001)"
      ]
     },
     "metadata": {},
     "output_type": "display_data"
    },
    {
     "data": {
      "application/vnd.jupyter.widget-view+json": {
       "model_id": "ecde22e98df24e6180b26c67ecd623c4",
       "version_major": 2,
       "version_minor": 0
      },
      "text/plain": [
       "FloatText(value=18.0, description='Max Mag:', step=0.01)"
      ]
     },
     "metadata": {},
     "output_type": "display_data"
    }
   ],
   "source": [
    "ra_widget = widgets.BoundedFloatText(\n",
    "    value=279.3643447,\n",
    "    min=0,\n",
    "    max=360,\n",
    "    step=0.001,\n",
    "    description='RA:'\n",
    ")\n",
    "dec_widget = widgets.BoundedFloatText(\n",
    "    value=38.79739118,\n",
    "    min=-90,\n",
    "    max=90,\n",
    "    step=0.001,\n",
    "    description='DEC:'\n",
    ")\n",
    "max_mag_widget = widgets.FloatText(\n",
    "    value=18,\n",
    "    step=0.01,\n",
    "    description='Max Mag:'\n",
    ")\n",
    "display(ra_widget)\n",
    "display(dec_widget)\n",
    "display(max_mag_widget)\n"
   ]
  },
  {
   "cell_type": "code",
   "execution_count": 105,
   "metadata": {},
   "outputs": [],
   "source": [
    "def get_entries(max_mag, ra, dec, ccd_width_range_deg, ccd_height_range_deg):\n",
    "    query = '''SELECT TOP 100 RA, DEC, PHOT_G_MEAN_MAG,\n",
    "PHOT_G_MEAN_FLUX AS PHOT_G_MEAN_FLUX_GAIA, PHOT_G_MEAN_FLUX_ERROR AS PHOT_G_MEAN_FLUX_ERROR_GAIA,\n",
    "PHOT_BP_MEAN_FLUX AS PHOT_BP_MEAN_FLUX_GAIA, PHOT_BP_MEAN_FLUX_ERROR AS PHOT_BP_MEAN_FLUX_ERROR_GAIA,\n",
    "PHOT_RP_MEAN_FLUX AS PHOT_RP_MEAN_FLUX_GAIA, PHOT_RP_MEAN_FLUX_ERROR AS PHOT_RP_MEAN_FLUX_ERROR_GAIA\n",
    "FROM gaiadr3.gaia_source\n",
    "WHERE (ra BETWEEN {ra_min} AND {ra_max})\n",
    "AND (dec BETWEEN {dec_min} AND {dec_max})\n",
    "AND phot_g_mean_mag < {max_mag}\n",
    "'''.format(\n",
    "        max_mag=max_mag,\n",
    "        ra_min=ra-(ccd_width_range_deg.value/2), ra_max=ra+(ccd_width_range_deg.value/2),\n",
    "        dec_min=dec-(ccd_height_range_deg.value/2), dec_max=dec+(ccd_height_range_deg.value/2)\n",
    "    )\n",
    "    job = Gaia.launch_job(query)\n",
    "    r = job.get_results()\n",
    "    return r"
   ]
  },
  {
   "cell_type": "code",
   "execution_count": 68,
   "metadata": {},
   "outputs": [],
   "source": [
    "def convert_to_flux_density(table):\n",
    "    # gets flux mean, flux error in electrons/sec (as given in GAIA_SOURCE) and name of band {'G','BP,'RP'}\n",
    "    # returns flux density + uncertainty in watt/m^2/nm\n",
    "    for filter in d_filters['Band']:\n",
    "        table['flux_' + filter + '_density_gaia'] = filters[filters['Band'] == filter]['clam'].iloc[0] * table['phot_' + str.lower(filter) + '_mean_flux_gaia'].value # convert to incoming flux density\n",
    "        table['flux_' + filter + '_density_error_gaia'] =  filters[filters['Band'] == filter]['clam'].iloc[0] * table['phot_' + str.lower(filter) + '_mean_flux_error_gaia'].value"
   ]
  },
  {
   "cell_type": "code",
   "execution_count": 54,
   "metadata": {},
   "outputs": [],
   "source": [
    "def calculate_mast_qe(flux_density_inc_mast):\n",
    "    return flux_density_inc_mast"
   ]
  },
  {
   "cell_type": "code",
   "execution_count": 74,
   "metadata": {},
   "outputs": [],
   "source": [
    "def convert_gaia_to_mast(table):\n",
    "    for filter in d_filters['Band']:\n",
    "        lam0 = filters[filters.Band == filter].iloc[0]['Wavelength']\n",
    "        bandpass = filters[filters.Band == filter].iloc[0]['Bandpass']\n",
    "        gaia_mast_attenuation = 0.5\n",
    "        flux_density_inc_mast =  gaia_mast_attenuation * table['flux_' + filter + '_density_gaia']\n",
    "        flux_meas_mast = calculate_mast_qe(flux_density_inc_mast) * bandpass\n",
    "        power_meas_mast = flux_meas_mast * mast_collecting_area_m2\n",
    "        table['phot_' + filter + '_flux_mast'] = (power_meas_mast * lam0.to(u.m) / (h * c)) * u.electron \n",
    "\n",
    "        flux_density_inc_error_mast =  gaia_mast_attenuation * table['flux_' + filter + '_density_error_gaia']\n",
    "        flux_meas_error_mast = calculate_mast_qe(flux_density_inc_error_mast) * bandpass\n",
    "        power_meas_error_mast = flux_meas_error_mast * mast_collecting_area_m2\n",
    "        table['phot_' + filter + '_flux_rel_error_mast'] = np.sqrt(((power_meas_error_mast * lam0.to(u.m) / (h * c)).value)**2 + ((power_meas_mast * bandpass.to(u.m) / (2 * h * c)).value)**2) / table['phot_' + filter + '_flux_mast'].value * 100 * u.percent"
   ]
  },
  {
   "cell_type": "code",
   "execution_count": 171,
   "metadata": {},
   "outputs": [
    {
     "data": {
      "text/html": [
       "<div><i>Table length=87</i>\n",
       "<table id=\"table140435264106448\" class=\"table-striped table-bordered table-condensed\">\n",
       "<thead><tr><th>ra</th><th>dec</th><th>phot_g_mean_mag</th><th>phot_g_mean_flux_gaia</th><th>phot_g_mean_flux_error_gaia</th><th>phot_bp_mean_flux_gaia</th><th>phot_bp_mean_flux_error_gaia</th><th>phot_rp_mean_flux_gaia</th><th>phot_rp_mean_flux_error_gaia</th><th>flux_G_density_gaia</th><th>flux_G_density_error_gaia</th><th>flux_BP_density_gaia</th><th>flux_BP_density_error_gaia</th><th>flux_RP_density_gaia</th><th>flux_RP_density_error_gaia</th><th>phot_G_flux_mast</th><th>phot_G_flux_rel_error_mast</th><th>phot_BP_flux_mast</th><th>phot_BP_flux_rel_error_mast</th><th>phot_RP_flux_mast</th><th>phot_RP_flux_rel_error_mast</th></tr></thead>\n",
       "<thead><tr><th>deg</th><th>deg</th><th>mag</th><th>electron / s</th><th>electron / s</th><th>electron / s</th><th>electron / s</th><th>electron / s</th><th>electron / s</th><th>J / (m2 nm s)</th><th>J / (m2 nm s)</th><th>J / (m2 nm s)</th><th>J / (m2 nm s)</th><th>J / (m2 nm s)</th><th>J / (m2 nm s)</th><th>electron / s</th><th>%</th><th>electron / s</th><th>%</th><th>electron / s</th><th>%</th></tr></thead>\n",
       "<thead><tr><th>float64</th><th>float64</th><th>float32</th><th>float64</th><th>float32</th><th>float64</th><th>float32</th><th>float64</th><th>float32</th><th>float64</th><th>float32</th><th>float64</th><th>float32</th><th>float64</th><th>float32</th><th>float64</th><th>float64</th><th>float64</th><th>float64</th><th>float64</th><th>float64</th></tr></thead>\n",
       "<tr><td>279.23169884796243</td><td>38.9554802473869</td><td>13.786239</td><td>57603.79466391396</td><td>13.020381</td><td>31837.01488441253</td><td>33.4849</td><td>36922.89472534784</td><td>29.617535</td><td>7.75347076176282e-17</td><td>1.7525432e-20</td><td>9.57975777871973e-17</td><td>1.00756066e-19</td><td>6.047970156011976e-17</td><td>4.851352e-20</td><td>8019.361600452587</td><td>35.584528436288345</td><td>4697.601955573228</td><td>25.653362675014098</td><td>4930.058786911265</td><td>18.70600322306455</td></tr>\n",
       "<tr><td>279.2337551481813</td><td>38.762047351329805</td><td>9.666267</td><td>2561178.0427986667</td><td>463.47357</td><td>1099243.4954899368</td><td>568.28577</td><td>2078002.3227934253</td><td>443.67078</td><td>3.4473456456070055e-15</td><td>6.238354e-19</td><td>3.30762367792922e-15</td><td>1.7099719e-18</td><td>3.4037678047356307e-15</td><td>7.267327e-19</td><td>356556.59437326365</td><td>35.58452585873791</td><td>162195.1182550375</td><td>25.653199161472116</td><td>277461.27942879574</td><td>18.70584342029543</td></tr>\n",
       "<tr><td>279.2384797959548</td><td>38.945921626292595</td><td>13.0097885</td><td>117769.09998953545</td><td>27.747728</td><td>65292.64763535045</td><td>54.01729</td><td>75040.45397414533</td><td>31.12453</td><td>1.585172085859147e-16</td><td>3.7348442e-20</td><td>1.964655767347695e-16</td><td>1.6253802e-19</td><td>1.2291626360965005e-16</td><td>5.098198e-20</td><td>16395.326101104652</td><td>35.58452905756647</td><td>9634.03354020311</td><td>25.65328047191101</td><td>10019.632865758747</td><td>18.705877219425105</td></tr>\n",
       "<tr><td>279.2405175892069</td><td>38.91037870501413</td><td>12.812644</td><td>141217.71153218206</td><td>126.6889</td><td>88466.65318030992</td><td>159.92593</td><td>78540.00410052606</td><td>226.85464</td><td>1.9007903972231704e-16</td><td>1.7052326e-19</td><td>2.6619615941955256e-16</td><td>4.8121713e-19</td><td>1.2864852671666169e-16</td><td>3.715879e-19</td><td>19659.744636136158</td><td>35.58463434297306</td><td>13053.394751098722</td><td>25.653784014820154</td><td>10486.903592475508</td><td>18.708061111068982</td></tr>\n",
       "<tr><td>279.24383934408814</td><td>38.68206796246967</td><td>13.711352</td><td>61717.128187281145</td><td>11.726976</td><td>34322.16641070769</td><td>50.88665</td><td>39126.43387281492</td><td>27.103613</td><td>8.307125454008042e-17</td><td>1.578451e-20</td><td>1.0327539872981944e-16</td><td>1.5311793e-19</td><td>6.408909868367085e-17</td><td>4.4395717e-20</td><td>8592.002849168957</td><td>35.58452633050621</td><td>5064.289998161532</td><td>25.653575503160596</td><td>5224.28213037017</td><td>18.705959499569772</td></tr>\n",
       "<tr><td>279.2459326450131</td><td>38.70228906658894</td><td>11.975223</td><td>305392.073993424</td><td>309.97186</td><td>134304.02707492575</td><td>604.45135</td><td>245708.77921564967</td><td>701.5498</td><td>4.110577315951487e-16</td><td>4.1722212e-19</td><td>4.041208174684516e-16</td><td>1.8187942e-18</td><td>4.0247098035523415e-16</td><td>1.1491385e-18</td><td>42515.41908921587</td><td>35.58466601358196</td><td>19816.771846201707</td><td>25.657094736424046</td><td>32807.79405309592</td><td>18.70801016581379</td></tr>\n",
       "<tr><td>279.2466481759755</td><td>38.91022778866932</td><td>13.751281</td><td>59488.683550381415</td><td>8.555176</td><td>25182.238511710588</td><td>39.845287</td><td>48890.9665537287</td><td>30.377867</td><td>8.007176805881339e-17</td><td>1.1515266e-20</td><td>7.577335568173717e-17</td><td>1.1989447e-19</td><td>8.008340321500761e-17</td><td>4.9758946e-20</td><td>8281.768020818608</td><td>35.58452416346804</td><td>3715.679164890587</td><td>25.653635036016475</td><td>6528.072651176031</td><td>18.70593442814609</td></tr>\n",
       "<tr><td>279.24717542200244</td><td>38.91725647818185</td><td>11.124047</td><td>668848.6117214008</td><td>154.20609</td><td>335907.7424582237</td><td>168.22966</td><td>472613.82510229567</td><td>133.52515</td><td>9.002702313770053e-16</td><td>2.0756138e-19</td><td>1.0107463970567952e-15</td><td>5.0620305e-19</td><td>7.741414455175603e-16</td><td>2.1871418e-19</td><td>93114.33221802572</td><td>35.5845287263443</td><td>49563.71926177391</td><td>25.65319595610283</td><td>63104.855634781656</td><td>18.705852571042055</td></tr>\n",
       "<tr><td>279.2501261743832</td><td>38.672644048733275</td><td>12.194</td><td>249658.65392989846</td><td>42.341408</td><td>102497.7630050323</td><td>96.31834</td><td>210099.5908536592</td><td>90.67337</td><td>3.3604054818964334e-16</td><td>5.6991536e-20</td><td>3.084157688821422e-16</td><td>2.8982186e-19</td><td>3.4414312981829376e-16</td><td>1.4852298e-19</td><td>34756.44329036419</td><td>35.584525298985334</td><td>15123.707222000307</td><td>25.653319183321273</td><td>28053.145391752223</td><td>18.705881020734296</td></tr>\n",
       "<tr><td>...</td><td>...</td><td>...</td><td>...</td><td>...</td><td>...</td><td>...</td><td>...</td><td>...</td><td>...</td><td>...</td><td>...</td><td>...</td><td>...</td><td>...</td><td>...</td><td>...</td><td>...</td><td>...</td><td>...</td><td>...</td></tr>\n",
       "<tr><td>279.6897785205272</td><td>38.777515106574974</td><td>13.373458</td><td>84248.77207493669</td><td>14.445436</td><td>46063.60715338133</td><td>36.201843</td><td>54760.498107107625</td><td>23.791609</td><td>1.1339884721286478e-16</td><td>1.9443556e-20</td><td>1.3860539392452442e-16</td><td>1.0893135e-19</td><td>8.96976958994423e-17</td><td>3.8970653e-20</td><td>11728.764946908508</td><td>35.584525388336225</td><td>6796.758170641976</td><td>25.65326745442619</td><td>7311.790607881174</td><td>18.70588169049465</td></tr>\n",
       "<tr><td>279.6933455926951</td><td>38.8834616121834</td><td>10.887323</td><td>831797.3343377187</td><td>120.25636</td><td>368233.51707586343</td><td>173.70908</td><td>659993.0509064202</td><td>158.96016</td><td>1.1195992120185693e-15</td><td>1.6186505e-19</td><td>1.108014652881273e-15</td><td>5.226906e-19</td><td>1.0810686173847163e-15</td><td>2.6037673e-19</td><td>115799.37817057499</td><td>35.58452419435745</td><td>54333.438489866225</td><td>25.6531904428249</td><td>88124.30780752977</td><td>18.705846741059336</td></tr>\n",
       "<tr><td>279.71518746425664</td><td>38.7009035843309</td><td>11.268266</td><td>585653.2021212382</td><td>132.47142</td><td>303951.22152155003</td><td>183.41756</td><td>401189.9631750834</td><td>127.41305</td><td>7.882892100551866e-16</td><td>1.7830652e-19</td><td>9.14589225558344e-16</td><td>5.5190343e-19</td><td>6.571491596807866e-16</td><td>2.0870257e-19</td><td>81532.21203004061</td><td>35.584528446512806</td><td>44848.483998968724</td><td>25.653218043597903</td><td>53568.12129397023</td><td>18.705858195418575</td></tr>\n",
       "<tr><td>279.74065302901494</td><td>38.71239887510659</td><td>13.322438</td><td>88302.15678193672</td><td>10.422149</td><td>42925.92572610668</td><td>26.848457</td><td>64346.601328753175</td><td>23.464825</td><td>1.1885470302848683e-16</td><td>1.4028213e-20</td><td>1.2916411050985501e-16</td><td>8.078701e-20</td><td>1.0539973297649771e-16</td><td>3.8435383e-20</td><td>12293.060369819961</td><td>35.58452321485764</td><td>6333.788307975998</td><td>25.653223316966255</td><td>8591.756676946381</td><td>18.705866780182333</td></tr>\n",
       "<tr><td>279.74415313735693</td><td>38.68179138495289</td><td>12.616627</td><td>169159.30016546935</td><td>54.996082</td><td>93507.51516491856</td><td>101.310974</td><td>108375.95919373991</td><td>80.0174</td><td>2.2768841802272176e-16</td><td>7.402472e-20</td><td>2.8136411313123994e-16</td><td>3.0484472e-19</td><td>1.7751982115934598e-16</td><td>1.310685e-19</td><td>23549.656824192032</td><td>35.584536109299734</td><td>13797.18191841465</td><td>25.653375864461918</td><td>14470.692341091919</td><td>18.705976947048512</td></tr>\n",
       "<tr><td>279.7508933870844</td><td>38.677133222392094</td><td>12.865975</td><td>134448.72375684365</td><td>25.374645</td><td>57523.86376976675</td><td>32.441254</td><td>109286.06912970575</td><td>47.86627</td><td>1.8096798217671157e-16</td><td>3.415427e-20</td><td>1.7308930608322817e-16</td><td>9.761573e-20</td><td>1.7901058123445803e-16</td><td>7.840495e-20</td><td>18717.394206686284</td><td>35.58452626235338</td><td>8487.737180073582</td><td>25.653209059945265</td><td>14592.213026840951</td><td>18.705882512297777</td></tr>\n",
       "<tr><td>279.75879619439667</td><td>38.96917149872833</td><td>11.029001</td><td>730039.0961577094</td><td>99.20898</td><td>294885.9138080194</td><td>145.4827</td><td>617573.6237722867</td><td>127.27043</td><td>9.826326234282768e-16</td><td>1.3353528e-19</td><td>8.873117146483304e-16</td><td>4.377574e-19</td><td>1.0115855957390056e-15</td><td>2.0846897e-19</td><td>101633.0179064363</td><td>35.58452385233991</td><td>43510.88349221381</td><td>25.65319450890745</td><td>82460.33506015991</td><td>18.705842587333564</td></tr>\n",
       "<tr><td>279.76185413039934</td><td>38.7743518735881</td><td>13.899252</td><td>51909.4130200109</td><td>7.766224</td><td>26417.177574357698</td><td>28.344362</td><td>36273.19831466135</td><td>29.961597</td><td>6.987006992493467e-17</td><td>1.04533375e-20</td><td>7.948928732124231e-17</td><td>8.528818e-20</td><td>5.94154988394153e-17</td><td>4.9077094e-20</td><td>7226.6133837791895</td><td>35.584524402565805</td><td>3897.8963789342665</td><td>25.65337145099793</td><td>4843.309318264357</td><td>18.706013603590456</td></tr>\n",
       "<tr><td>279.7629801977868</td><td>38.97848029004628</td><td>11.859723</td><td>339670.313872665</td><td>47.518105</td><td>184817.0159247318</td><td>96.32982</td><td>221659.87745268672</td><td>59.56794</td><td>4.571962424726071e-16</td><td>6.395937e-20</td><td>5.56114400917518e-16</td><td>2.8985642e-19</td><td>3.6307887926750087e-16</td><td>9.7572286e-20</td><td>47287.49360657216</td><td>35.5845240073205</td><td>27270.043331113287</td><td>25.65320001909011</td><td>29596.710514440783</td><td>18.705850539226535</td></tr>\n",
       "<tr><td>279.76635207964534</td><td>38.65605990885116</td><td>13.765038</td><td>58739.71650163493</td><td>8.154703</td><td>27299.488254797976</td><td>23.159782</td><td>44910.58834865096</td><td>19.921227</td><td>7.906365841120061e-17</td><td>1.097623e-20</td><td>8.214416015868712e-17</td><td>6.968778e-20</td><td>7.356354371509028e-17</td><td>3.263097e-20</td><td>8177.499931784457</td><td>35.58452396553194</td><td>4028.082716846515</td><td>25.653287346548364</td><td>5996.600276348877</td><td>18.705883828282772</td></tr>\n",
       "</table></div>"
      ],
      "text/plain": [
       "<Table length=87>\n",
       "        ra                dec         ... phot_RP_flux_rel_error_mast\n",
       "       deg                deg         ...              %             \n",
       "     float64            float64       ...           float64          \n",
       "------------------ ------------------ ... ---------------------------\n",
       "279.23169884796243   38.9554802473869 ...           18.70600322306455\n",
       " 279.2337551481813 38.762047351329805 ...           18.70584342029543\n",
       " 279.2384797959548 38.945921626292595 ...          18.705877219425105\n",
       " 279.2405175892069  38.91037870501413 ...          18.708061111068982\n",
       "279.24383934408814  38.68206796246967 ...          18.705959499569772\n",
       " 279.2459326450131  38.70228906658894 ...           18.70801016581379\n",
       " 279.2466481759755  38.91022778866932 ...           18.70593442814609\n",
       "279.24717542200244  38.91725647818185 ...          18.705852571042055\n",
       " 279.2501261743832 38.672644048733275 ...          18.705881020734296\n",
       "               ...                ... ...                         ...\n",
       " 279.6897785205272 38.777515106574974 ...           18.70588169049465\n",
       " 279.6933455926951   38.8834616121834 ...          18.705846741059336\n",
       "279.71518746425664   38.7009035843309 ...          18.705858195418575\n",
       "279.74065302901494  38.71239887510659 ...          18.705866780182333\n",
       "279.74415313735693  38.68179138495289 ...          18.705976947048512\n",
       " 279.7508933870844 38.677133222392094 ...          18.705882512297777\n",
       "279.75879619439667  38.96917149872833 ...          18.705842587333564\n",
       "279.76185413039934   38.7743518735881 ...          18.706013603590456\n",
       " 279.7629801977868  38.97848029004628 ...          18.705850539226535\n",
       "279.76635207964534  38.65605990885116 ...          18.705883828282772"
      ]
     },
     "execution_count": 171,
     "metadata": {},
     "output_type": "execute_result"
    }
   ],
   "source": [
    "coor= coord.SkyCoord(ra = ra_widget.value , dec = dec_widget.value , frame='fk5', unit=(u.deg, u.deg), obstime=\"J2000\")\n",
    "coor = coor.transform_to(coord.FK5(equinox='J2016.000'))\n",
    "ra2016 = coor.ra.value\n",
    "dec2016 = coor.dec.value\n",
    "\n",
    "entries = get_entries(max_mag_widget.value, ra2016, dec2016, ccd_width_range_deg, ccd_height_range_deg)\n",
    "convert_to_flux_density(entries)\n",
    "convert_gaia_to_mast(entries)\n",
    "entries"
   ]
  },
  {
   "cell_type": "code",
   "execution_count": 172,
   "metadata": {},
   "outputs": [
    {
     "data": {
      "text/plain": [
       "<matplotlib.image.AxesImage at 0x7fb9a2008590>"
      ]
     },
     "execution_count": 172,
     "metadata": {},
     "output_type": "execute_result"
    },
    {
     "data": {
      "image/png": "[encoded data removed]",
      "text/plain": [
       "<Figure size 640x480 with 1 Axes>"
      ]
     },
     "metadata": {},
     "output_type": "display_data"
    }
   ],
   "source": [
    "wcs_input_dict = {\n",
    "    'CTYPE1': 'RA---TAN', \n",
    "    'CUNIT1': 'deg', \n",
    "    'CDELT1': (px_ra.to(u.deg)).value, \n",
    "    'CRPIX1': ccd_width_px/2 - 1, \n",
    "    'CRVAL1': ra2016, \n",
    "    'NAXIS1': ccd_width_px,\n",
    "    'CTYPE2': 'DEC--TAN', \n",
    "    'CUNIT2': 'deg', \n",
    "    'CDELT2': (px_dec.to(u.deg)).value, \n",
    "    'CRPIX2': ccd_height_px/2 - 1, \n",
    "    'CRVAL2': dec2016, \n",
    "    'NAXIS2': ccd_height_px\n",
    "}\n",
    "coor_width_range_deg = ccd_width_range_deg / np.cos(np.deg2rad(dec2016))\n",
    "wcs_dict = wcs.WCS(wcs_input_dict)\n",
    "image = np.zeros((ccd_height_px,ccd_width_px))\n",
    "x = wcs_dict.wcs_world2pix([[ra2016 +(coor_width_range_deg.value/2),dec2016+(ccd_height_range_deg.value/2)]],0)\n",
    "pixs = wcs_dict.wcs_world2pix(entries['ra'].value, entries['dec'].value, 0)\n",
    "for i in range(len(pixs[0])):\n",
    "    image[int(pixs[0][i])-15:int(pixs[0][i])+15,int(pixs[1][i])-15:int(pixs[1][i])+15] = 1\n",
    "plt.imshow(image, origin='lower')"
   ]
  },
  {
   "cell_type": "code",
   "execution_count": null,
   "metadata": {},
   "outputs": [],
   "source": []
  }
 ],
 "metadata": {
  "kernelspec": {
   "display_name": "Python 3",
   "language": "python",
   "name": "python3"
  },
  "language_info": {
   "codemirror_mode": {
    "name": "ipython",
    "version": 3
   },
   "file_extension": ".py",
   "mimetype": "text/x-python",
   "name": "python",
   "nbconvert_exporter": "python",
   "pygments_lexer": "ipython3",
   "version": "3.11.2"
  },
  "orig_nbformat": 4,
  "vscode": {
   "interpreter": {
    "hash": "949777d72b0d2535278d3dc13498b2535136f6dfe0678499012e853ee9abcab1"
   }
  }
 },
 "nbformat": 4,
 "nbformat_minor": 2
}
