{
 "cells": [
  {
   "attachments": {},
   "cell_type": "markdown",
   "metadata": {},
   "source": [
    "# Simulating Images from MAST\n",
    "\n",
    "In this project, we use data from the Gaia telescope and create an image which will be captured by the CCD on the MAST telescope. This will be helpful for guiding.\n",
    "\n",
    "## How to use:\n",
    "1. Run a cell with the following code: **pip install -r ./essential_files/requirements.txt** (ensure no missing packages/version conflict)\n",
    "2. Run all the cells, and scroll down to the bottom. You should see input widgets where you can control image parameters.\n",
    "3. Click the 'Simulate Image' button (or 'plot SNR vs field') button. Image should appear after ~30 seconds.\n",
    "4. To plot new images, restart kernel and run all cells.\n",
    "5. To get an interactive plot, uncomment **%matplotlib ipympl** in the first cell (may cause problems in some IDEs)\n"
   ]
  },
  {
   "cell_type": "code",
   "execution_count": 1,
   "metadata": {},
   "outputs": [],
   "source": [
    "# Import the required libraries\n",
    "\n",
    "# astroquery for retrieving data from Gaia\n",
    "from astroquery.gaia import Gaia\n",
    "\n",
    "# astropy libraries for calculations\n",
    "from astropy import units as u\n",
    "from astropy import wcs\n",
    "from astropy.constants import h, c\n",
    "from astropy import convolution\n",
    "from astropy.io import fits\n",
    "\n",
    "# Data science libraries\n",
    "import pandas as pd\n",
    "import numpy as np\n",
    "import matplotlib.pyplot as plt\n",
    "import matplotlib.colors as colors\n",
    "from scipy import signal\n",
    "from scipy.interpolate import CubicSpline\n",
    "from PIL import Image\n",
    "%matplotlib ipympl\n",
    "\n",
    "# Manipulating & parsing files\n",
    "import re\n",
    "import os\n",
    "from glob import glob\n",
    "\n",
    "# Making the notebook interactive\n",
    "import ipywidgets as widgets\n",
    "from IPython.display import display"
   ]
  },
  {
   "cell_type": "code",
   "execution_count": 2,
   "metadata": {},
   "outputs": [],
   "source": [
    "# Defining the constants of the notebook\n",
    "\n",
    "# Constants from files\n",
    "qe = pd.read_csv(os.path.join('.','essential_files','ccd_data','QE.csv'), delimiter=',') # Quantum Efficiency\n",
    "dark = pd.read_csv(os.path.join('.','essential_files','ccd_data','dark_current.csv'), delimiter=',') # Dark Current\n",
    "\n",
    "# Gaia Flux Density\n",
    "fd_unit = u.J/u.m**2/u.s/u.nm\n",
    "d_filters = {'Band':['G','BP','RP'],'Wavelength':[639.07*u.nm,518.26*u.nm,782.51*u.nm],'Bandpass':[454.82*u.nm,265.9*u.nm,292.75*u.nm],'clam':[1.346e-21*fd_unit,3.009e-21*fd_unit,1.638e-21*fd_unit]} \n",
    "filters = pd.DataFrame(data=d_filters)\n",
    "\n",
    "# MAST CCD constants\n",
    "# Pixels in the CCD\n",
    "ccd_width_px = 4656\n",
    "ccd_height_px = 3520\n",
    "\n",
    "# Buffer of pixels when querying data and performing the convolution\n",
    "ccd_width_buff_px = 512\n",
    "ccd_height_buff_px = 512\n",
    "\n",
    "# The lenght of each pixel in the CCD\n",
    "ccd_px_side_length_micron = 3.8 * u.micron\n",
    "ccd_width_micron = ccd_width_px * ccd_px_side_length_micron\n",
    "ccd_height_micron = ccd_height_px * ccd_px_side_length_micron\n",
    "ccd_width_buff_micron = ccd_width_buff_px * ccd_px_side_length_micron\n",
    "ccd_height_buff_micron = ccd_height_buff_px * ccd_px_side_length_micron\n",
    "\n",
    "# more MAST optical specs\n",
    "mast_diameter = 0.6 * u.m\n",
    "mast_collecting_area_m2 = (mast_diameter/2)**2 * np.pi * u.m**2\n",
    "mast_focal_length = 1.8 * u.m\n",
    "incoming_light_fov = 2*np.arctan(mast_diameter/2/mast_focal_length)\n",
    "\n",
    "# The platescale of MAST\n",
    "plate_scale_arcsec_micron = 206265 * u.arcsec / mast_focal_length.to(u.micron)\n",
    "\n",
    "# Pixel field of view\n",
    "plate_scale_arcsec_px = plate_scale_arcsec_micron * ccd_px_side_length_micron\n",
    "\n",
    "# CCD field of view\n",
    "ccd_width_range_arcsec = ccd_width_micron * plate_scale_arcsec_micron\n",
    "ccd_height_range_arcsec = ccd_height_micron * plate_scale_arcsec_micron\n",
    "ccd_width_buff_range_arcsec = ccd_width_buff_micron * plate_scale_arcsec_micron\n",
    "ccd_height_buff_range_arcsec = ccd_height_buff_micron * plate_scale_arcsec_micron\n",
    "\n",
    "# Converting from arcsec to degrees\n",
    "ccd_width_range_deg = ccd_width_range_arcsec.to(u.deg)\n",
    "ccd_height_range_deg = ccd_height_range_arcsec.to(u.deg)\n",
    "ccd_width_buff_range_deg = ccd_width_buff_range_arcsec.to(u.deg)\n",
    "ccd_height_buff_range_deg = ccd_height_buff_range_arcsec.to(u.deg)\n",
    "\n",
    "\n",
    "# Saturation of the CCD per pixel\n",
    "ccd_full_well = 20000 * u.electron\n",
    "\n",
    "# Arbitrary count added to each pixel before printing image\n",
    "baseline_per_px = 20 * u.electron \n",
    "\n",
    "# Focal points (middle of field) projection on CCD \"width\" axis, for different modes of operation\n",
    "feed_middle_width = int(ccd_width_px/2 - 1)\n",
    "wide_middle_width = 3873\n",
    "narrow_middle_width = 631\n",
    "\n",
    "# Zemax data on PSF rms vs. position on sensor\n",
    "rms_vs_field = np.loadtxt(os.path.join('.','essential_files','RMSvsField_text.txt'),dtype=float,skiprows=13,encoding='utf-16-le')\n",
    "field_arr_deg = rms_vs_field[:,0]\n",
    "field_arr_px = np.floor(field_arr_deg/plate_scale_arcsec_px.to(u.deg).value)\n",
    "rms_arr_px = rms_vs_field[:,1]/ccd_px_side_length_micron.value \n",
    "field_arr_deg= np.hstack((-np.flip(field_arr_deg[1:]),field_arr_deg))\n",
    "field_arr_px = np.hstack((-np.flip(field_arr_px[1:]),field_arr_px))\n",
    "field_arr_px += int(ccd_width_px/2) - 1 \n",
    "rms_arr_px = np.hstack((np.flip(rms_arr_px[1:]),rms_arr_px))\n",
    "\n",
    "# Gaia constants\n",
    "gaia_collecting_area_m2 = 0.7 * u.m**2\n",
    "\n",
    "# Gaia-MAST constants\n",
    "atm_extinction_telescope_eff = 0.5\n",
    "mag_ZP = 9.953577 # magnitude of arbitrary star I picked from the simulation\n",
    "flux_ZP = 230465 # flux detected with MAST, calculated using the spectrum\n",
    "\n",
    "# PSF properties\n",
    "r_lst = [0,267,535,803,1070,1338,1606,1874,2141,2409,2677,2945,3212,3480,3748,4016,4283]\n",
    "ang0 = 90"
   ]
  },
  {
   "cell_type": "code",
   "execution_count": 3,
   "metadata": {},
   "outputs": [],
   "source": [
    "# Defining the widgets for user input\n",
    "\n",
    "ra_widget = widgets.BoundedFloatText(\n",
    "    value=279.3643447,\n",
    "    min=0,\n",
    "    max=360,\n",
    "    step=0.001,\n",
    "    description='RA:'\n",
    ")\n",
    "\n",
    "dec_widget = widgets.BoundedFloatText(\n",
    "    value=38.79739118,\n",
    "    min=-90,\n",
    "    max=90,\n",
    "    step=0.001,\n",
    "    description='DEC:'\n",
    ")\n",
    "\n",
    "max_mag_widget = widgets.FloatText(\n",
    "    value=15,\n",
    "    step=0.01,\n",
    "    description='Max Mag:'\n",
    ")\n",
    "\n",
    "t_exp_widget = widgets.BoundedFloatText(\n",
    "    value=1,\n",
    "    step=0.1,\n",
    "    min=0.1,\n",
    "    description='Exp Time:'\n",
    ")\n",
    "\n",
    "seeing_arcsec_widget = widgets.BoundedFloatText(\n",
    "    value=1.5,\n",
    "    step=0.1,\n",
    "    min=0,\n",
    "    description='Seeing:'\n",
    ")\n",
    "\n",
    "bgd_mag_to_arcsec_squared_widget = widgets.BoundedFloatText(\n",
    "    value=20.5,\n",
    "    step=0.1,\n",
    "    min=0,\n",
    "    description='Background:'\n",
    ")\n",
    "\n",
    "read_noise_rms_widget = widgets.BoundedFloatText(\n",
    "    value=3.6,\n",
    "    step=0.1,\n",
    "    min=1.2,\n",
    "    max=3.6,\n",
    "    description='Read noise RMS (e/px):'\n",
    ")\n",
    "\n",
    "temperature_widget = widgets.Dropdown(\n",
    "    options=dark['temp'],\n",
    "    value=dark['temp'].iloc[0],\n",
    "    description='Op Temp:'\n",
    ")\n",
    "\n",
    "op_mode_widget = widgets.Dropdown(\n",
    "    options = ['feed','shifted_wide','shifted_narrow'],\n",
    "    description = 'Op mode:'\n",
    ")\n",
    "\n",
    "magnitude_widget = widgets.SelectMultiple(\n",
    "    options=[10,11,12,13,14,15,16,17,18],\n",
    "    value = [15],\n",
    "    description='Magnitudes to plot:'\n",
    ")\n",
    "\n",
    "filename_widget = widgets.Text(\n",
    "    value = 'output',\n",
    "    description = 'File name:'\n",
    ")"
   ]
  },
  {
   "cell_type": "code",
   "execution_count": 4,
   "metadata": {},
   "outputs": [],
   "source": [
    "# General function to query from Gaia using ADQL\n",
    "# Help can be found be found at: https://www.cosmos.esa.int/web/gaia-users/archive/writing-queries\n",
    "\n",
    "def query_gaia(query):\n",
    "    job = Gaia.launch_job(query)\n",
    "    return job.get_results()"
   ]
  },
  {
   "cell_type": "code",
   "execution_count": 5,
   "metadata": {},
   "outputs": [],
   "source": [
    "# Defining the query to get sources captured by Gaia in a specific region\n",
    "# Documentation about the table GAIADR3.GAIA_SOURCE can be found at: https://gea.esac.esa.int/archive/documentation/GDR3/Gaia_archive/chap_datamodel/sec_dm_main_source_catalogue/ssec_dm_gaia_source.html\n",
    "\n",
    "def query_gaia_for_sources_in_region(max_mag, ra_deg, dec_deg, ccd_width_range_deg, ccd_height_range_deg, op_mode):\n",
    "    if(op_mode == 'feed'):   \n",
    "        wc = int(ccd_width_buff_px/2) + feed_middle_width\n",
    "    elif(op_mode == 'shifted_wide'):\n",
    "        wc = int(ccd_width_buff_px/2) + wide_middle_width\n",
    "    elif(op_mode == 'shifted_narrow'):\n",
    "        wc = int(ccd_width_buff_px/2) + narrow_middle_width\n",
    "\n",
    "    fraction_left_of_focus = wc/(ccd_width_buff_px + ccd_width_px) # we know: RA range the CCD covers, and reference \"wc\" corresponding to input ra_deg\n",
    "    fraction_right_of_focus = 1 - fraction_left_of_focus # using the reference, ra_deg, and range- determine RA boundaries for the query  \n",
    "\n",
    "    query = '''SELECT SOURCE_ID, RA, DEC, PHOT_G_MEAN_MAG, HAS_XP_SAMPLED,\n",
    "    PHOT_G_MEAN_FLUX AS PHOT_G_MEAN_FLUX_GAIA, PHOT_G_MEAN_FLUX_ERROR AS PHOT_G_MEAN_FLUX_ERROR_GAIA,\n",
    "    PHOT_BP_MEAN_FLUX AS PHOT_BP_MEAN_FLUX_GAIA, PHOT_BP_MEAN_FLUX_ERROR AS PHOT_BP_MEAN_FLUX_ERROR_GAIA,\n",
    "    PHOT_RP_MEAN_FLUX AS PHOT_RP_MEAN_FLUX_GAIA, PHOT_RP_MEAN_FLUX_ERROR AS PHOT_RP_MEAN_FLUX_ERROR_GAIA\n",
    "    FROM gaiadr3.gaia_source\n",
    "    WHERE (ra BETWEEN {ra_min} AND {ra_max})\n",
    "    AND (dec BETWEEN {dec_min} AND {dec_max})\n",
    "    AND phot_g_mean_mag < {max_mag}\n",
    "    ORDER BY PHOT_G_MEAN_MAG\n",
    "    '''.format(\n",
    "        max_mag = max_mag,\n",
    "        ra_min = ra_deg-(fraction_left_of_focus * ccd_width_range_deg.value), ra_max=ra_deg+(fraction_right_of_focus * ccd_width_range_deg.value),\n",
    "        dec_min = dec_deg-(ccd_height_range_deg.value/2), dec_max=dec_deg+(ccd_height_range_deg.value/2)\n",
    "    )\n",
    "    return query_gaia(query)"
   ]
  },
  {
   "cell_type": "code",
   "execution_count": 6,
   "metadata": {},
   "outputs": [],
   "source": [
    "# Input the flux as seen by Gaia (in electrons/sec as given by GAIA_SOURCE)\n",
    "# Output the flux density of the source\n",
    "# The conversion is done according to the documentation: https://gea.esac.esa.int/archive/documentation/GDR3/Data_processing/chap_cu5pho/cu5pho_sec_photProc/cu5pho_ssec_photCal.html#SSS3.P2\n",
    "\n",
    "def calc_gaia_flux_density_from_gaia_flux(sources_table):\n",
    "    for filter in d_filters['Band']:\n",
    "        sources_table['flux_' + filter + '_density_gaia'] = filters[filters['Band'] == filter]['clam'].iloc[0] * sources_table['phot_' + str.lower(filter) + '_mean_flux_gaia'].data\n",
    "        sources_table['flux_' + filter + '_density_error_gaia'] =  filters[filters['Band'] == filter]['clam'].iloc[0] * sources_table['phot_' + str.lower(filter) + '_mean_flux_error_gaia'].data"
   ]
  },
  {
   "cell_type": "code",
   "execution_count": 7,
   "metadata": {},
   "outputs": [],
   "source": [
    "# more accurate way to estimate the MAST counts for stars brighter than magnitude 15\n",
    "# however, this is more time consuming\n",
    "\n",
    "def get_flux_from_spectrum(table):\n",
    "    lam0 = filters[filters.Band == 'G'].iloc[0]['Wavelength']\n",
    "    bandpass = filters[filters.Band == 'G'].iloc[0]['Bandpass']\n",
    "    lmin = lam0 - bandpass/2\n",
    "    lmax = lam0 + bandpass/2\n",
    "    source_ids = table['source_id'][table['has_xp_sampled']==True]\n",
    "    datalink = Gaia.load_data(ids=source_ids, data_release = 'Gaia DR3', retrieval_type='XP_SAMPLED', data_structure = 'INDIVIDUAL', verbose = False, output_file = None)\n",
    "    dl_keys  = [inp for inp in datalink.keys()]\n",
    "    dl_keys.sort()\n",
    "    for dl_key in dl_keys:\n",
    "        t = datalink[dl_key][0]\n",
    "        source_id = t.get_field_by_id('source_id').value\n",
    "        t = t.to_table()\n",
    "        y1arr = qe['QE'].values[int((lmin.value-336)/2):int((lmax.value-336)/2)]\n",
    "        y2arr = np.ma.getdata(t['flux'].value)[int((lmin.value-336)/2):int((lmax.value-336)/2)]\n",
    "        xarr = qe['Wavelength'].values[int((lmin.value-336)/2):int((lmax.value-336)/2)]\n",
    "        fmast = np.trapz(y1arr*y2arr*xarr*1e-9/h.value/c.value,xarr)*atm_extinction_telescope_eff*mast_collecting_area_m2/u.m**2\n",
    "        table['phot_G_flux_mast'][table['source_id'] == source_id] = fmast"
   ]
  },
  {
   "cell_type": "code",
   "execution_count": 8,
   "metadata": {},
   "outputs": [],
   "source": [
    "# Calculate the mean quantum efficiency of Gaia, based on the wavelenghts of intrest\n",
    "\n",
    "def calculate_effective_qe(min_wavelen, max_wavelen):\n",
    "    return np.mean(qe[qe['Wavelength'].isin(qe['Wavelength'].where((qe['Wavelength'] >= min_wavelen) & (qe['Wavelength'] < max_wavelen)).dropna())]['QE'])"
   ]
  },
  {
   "cell_type": "code",
   "execution_count": 9,
   "metadata": {},
   "outputs": [],
   "source": [
    "# Given the flux density as seen at Gaia, calculate the flux as measured in MAST\n",
    "\n",
    "def convert_gaia_flux_density_to_mast_flux(sources_table):\n",
    "    for filter in d_filters['Band']:\n",
    "        lam0 = filters[filters.Band == filter].iloc[0]['Wavelength']\n",
    "        bandpass = filters[filters.Band == filter].iloc[0]['Bandpass']\n",
    "        flux_density_inc_mast =  atm_extinction_telescope_eff * sources_table['flux_' + filter + '_density_gaia']\n",
    "        flux_meas_mast = calculate_effective_qe(lam0-bandpass/2,lam0+bandpass/2)* flux_density_inc_mast * bandpass\n",
    "        power_meas_mast = flux_meas_mast * mast_collecting_area_m2\n",
    "        sources_table['phot_' + filter + '_flux_mast'] = (power_meas_mast * lam0.to(u.m) / (h * c)) * u.electron \n",
    "\n",
    "        flux_density_inc_error_mast =  atm_extinction_telescope_eff * sources_table['flux_' + filter + '_density_error_gaia']\n",
    "        flux_meas_error_mast = calculate_effective_qe(lam0-bandpass/2,lam0+bandpass/2) * flux_density_inc_error_mast * bandpass\n",
    "        power_meas_error_mast = flux_meas_error_mast * mast_collecting_area_m2\n",
    "        sources_table['phot_' + filter + '_flux_rel_error_mast'] = np.sqrt(((power_meas_error_mast * lam0.to(u.m) / (h * c)).value)**2 + ((power_meas_mast * bandpass.to(u.m) / (2 * h * c)).value)**2) / sources_table['phot_' + filter + '_flux_mast'].data * 100 * u.percent"
   ]
  },
  {
   "cell_type": "code",
   "execution_count": 10,
   "metadata": {},
   "outputs": [],
   "source": [
    "# We assume the source is a point-like source. Since it doesn't fall at an exact location, we need to split it between the four pixels in the area.\n",
    "# w_px, h_px are floats of the exact location of the point-like source\n",
    "# width, height are the dimensions of the simulated image\n",
    "\n",
    "def four_px(w_px,h_px,width,height):\n",
    "    lst = []\n",
    "    if (w_px <0 or w_px >= width or h_px < 0 or h_px >= height):\n",
    "        return lst\n",
    "    wf = np.floor(w_px)\n",
    "    wc = np.ceil(w_px)\n",
    "    hf = np.floor(h_px)\n",
    "    hc = np.ceil(h_px)\n",
    "    if np.allclose(w_px,wf): \n",
    "        w_floor_res = 1\n",
    "        w_ceil_res = 0\n",
    "    else: \n",
    "        w_floor_res = np.round(w_px - wf,3)\n",
    "        w_ceil_res = np.round(wc - w_px,3)\n",
    "    if np.allclose(h_px,hf): \n",
    "        h_floor_res = 1\n",
    "        h_ceil_res = 0\n",
    "    else: \n",
    "        h_floor_res = np.round(h_px - hf,3)\n",
    "        h_ceil_res = np.round(hc - h_px,3)    \n",
    "\n",
    "    if (wf >= 0 and hf >= 0):\n",
    "        lst.append([wf ,hf ,w_floor_res*h_floor_res])\n",
    "    if (wc < width and hf >= 0):\n",
    "        lst.append([wc ,hf ,w_ceil_res*h_floor_res])\n",
    "    if (wf >= 0 and hc < height):\n",
    "        lst.append([wf ,hc ,w_floor_res*h_ceil_res])\n",
    "    if (wc < width and hc < height):\n",
    "        lst.append([wc , hc ,w_ceil_res*h_ceil_res])\n",
    "    return lst"
   ]
  },
  {
   "cell_type": "code",
   "execution_count": 11,
   "metadata": {},
   "outputs": [],
   "source": [
    "# This function is auxiliary to 'psf_rms'\n",
    "# finds the center (first moment) of a kernel\n",
    "\n",
    "def psf_center(ker):\n",
    "    numerator_w = 0\n",
    "    numerator_h = 0\n",
    "    denominator = np.sum(ker)\n",
    "    \n",
    "    for h in range(ker.shape[0]):\n",
    "        for w in range(ker.shape[1]):\n",
    "            numerator_w += ker[h,w] * w\n",
    "            numerator_h += ker[h,w] * h\n",
    "\n",
    "    return numerator_h/denominator , numerator_w/denominator"
   ]
  },
  {
   "cell_type": "code",
   "execution_count": 12,
   "metadata": {},
   "outputs": [],
   "source": [
    "# This function finds the RMS width of a PSF (centralized second moment)\n",
    "# This is an okay approximation to what Zemax gives \n",
    "# I would love suggestions for more accurate methods.\n",
    "\n",
    "def psf_rms(ker):\n",
    "    center_h , center_w = psf_center(ker)\n",
    "    numerator = 0\n",
    "    denominator = np.sum(ker)\n",
    "    \n",
    "    for h in range(ker.shape[0]):\n",
    "        for w in range(ker.shape[1]):\n",
    "            numerator += ker[h,w] * ((h-center_h)**2 + (w-center_w)**2)\n",
    "\n",
    "    return np.sqrt(numerator/denominator)"
   ]
  },
  {
   "cell_type": "code",
   "execution_count": 13,
   "metadata": {},
   "outputs": [],
   "source": [
    "# aligns an image by angle 'ang' from the x-axis, counter-clockwise \n",
    "# used to rotate the kernels, which are generated with an initial orientation 'ang0'\n",
    "\n",
    "def rot(psf,ang,ang0):\n",
    "    im = Image.fromarray(psf)\n",
    "    im = im.rotate(ang0-ang)\n",
    "    im = np.array(im)\n",
    "    im = im/np.sum(im)\n",
    "    return im"
   ]
  },
  {
   "cell_type": "code",
   "execution_count": 14,
   "metadata": {},
   "outputs": [],
   "source": [
    "# adds to the image the effect of the optical setup (coma abberation) \n",
    "# for a source located at column w (px), and row h (px)\n",
    "\n",
    "def add_coma(image, w, h, op_mode): \n",
    "    if(op_mode == 'feed'):   \n",
    "        wc = int(ccd_width_buff_px/2) + feed_middle_width\n",
    "    elif(op_mode == 'shifted_wide'):\n",
    "        wc = int(ccd_width_buff_px/2) + wide_middle_width\n",
    "    elif(op_mode == 'shifted_narrow'):\n",
    "        wc = int(ccd_width_buff_px/2) + narrow_middle_width\n",
    "    hc = int(ccd_height_buff_px/2) + int(ccd_height_px/2) - 1\n",
    "        \n",
    "    dis_from_center = np.sqrt((w-wc)**2 + (h-hc)**2)\n",
    "    ang = np.rad2deg(np.arctan2(h-hc,w-wc))\n",
    "    r_ker = r_lst[np.argmin(np.abs(r_lst - dis_from_center))]\n",
    "    ker_name = os.path.join('.','essential_files','kernels_u', str.format(r'r={}.npy',r_ker))\n",
    "    ker = np.load(ker_name)\n",
    "    ker = rot(ker,ang,ang0)\n",
    "    size = ker.shape\n",
    "    w_start = w - int(size[1]/2)\n",
    "    h_start = h - int(size[0]/2)\n",
    "    w_finish = w_start + size[1]\n",
    "    h_finish = h_start + size[0]\n",
    "    image[h_start:h_finish,w_start:w_finish] += image[h,w] * ker\n",
    "    return image"
   ]
  },
  {
   "cell_type": "code",
   "execution_count": 15,
   "metadata": {},
   "outputs": [],
   "source": [
    "# Add the sources to the base image\n",
    "# image - Matrix for the image\n",
    "# sources_table - Sources found by Gaia in that region\n",
    "# wcs_dict - astropy.wcs object to convert from coordinates to pixels\n",
    "# t_exp - Image exposure time\n",
    "\n",
    "def add_sources(image,table, wcs_dict, t_exp, op_mode):\n",
    "    pixs = wcs_dict.wcs_world2pix(table['ra'].data, table['dec'].data, 0)\n",
    "    flux = np.round(table['phot_G_flux_mast'].data)\n",
    "    brightness = np.random.poisson(lam = flux) * t_exp / u.s \n",
    "    for i in range(len(pixs[0])):\n",
    "        lst = four_px(pixs[0][i],pixs[1][i],image.shape[1],image.shape[0])\n",
    "        for ls in lst:\n",
    "            image[int(ls[1]),int(ls[0])] += ls[2] * brightness[i]\n",
    "            if(ccd_width_buff_px/2 < int(ls[0]) < (ccd_width_px + ccd_width_buff_px/2) and ccd_height_buff_px/2 < int(ls[1]) < (ccd_height_px + ccd_height_buff_px/2)):\n",
    "                add_coma(image,int(ls[0]),int(ls[1]),op_mode)\n",
    "    return image"
   ]
  },
  {
   "cell_type": "code",
   "execution_count": 16,
   "metadata": {},
   "outputs": [],
   "source": [
    "# Add the seeing effect (abberation from atmosphere) to the entire image \n",
    "\n",
    "def add_seeing(image, seeing_arcsec):\n",
    "    seeing_px = seeing_arcsec / plate_scale_arcsec_px\n",
    "    sigma = seeing_px/2.355 # fhwm = 2*sqrt(2*ln(2))*sigma\n",
    "    ker = convolution.Gaussian2DKernel(x_stddev = sigma , y_stddev = sigma)\n",
    "    return convolution.convolve(image,ker)"
   ]
  },
  {
   "cell_type": "code",
   "execution_count": 17,
   "metadata": {},
   "outputs": [],
   "source": [
    "# Add background noise to the image (randomly for each pixel)\n",
    "# depends on the mean background level and exposure time (user inputs)\n",
    "\n",
    "def add_bgd_noise(image, mean_bgd_mag_to_arcsec_squared, t_exp):\n",
    "    rate = flux_ZP*u.electron/u.s/u.arcsec**2*10**(-0.4*(mean_bgd_mag_to_arcsec_squared-mag_ZP))*(ccd_px_side_length_micron*plate_scale_arcsec_micron)**2\n",
    "    mean = (rate * t_exp).value\n",
    "    image += np.random.normal(loc = mean, scale = np.sqrt(mean), size = (image.shape[0],image.shape[1])) # for now, brightness = number of photo electrons \n",
    "    return image"
   ]
  },
  {
   "cell_type": "code",
   "execution_count": 18,
   "metadata": {},
   "outputs": [],
   "source": [
    "# Add the dark noise to the image (randomly for each pixel)\n",
    "# depends on the temperature, read noise rms, and exposure time (all user inputs)\n",
    "\n",
    "def add_read_dark_noise(image, temperature, read_rms, t_exp):\n",
    "    dark_rate = dark[dark.temp == temperature].iloc[0]['e/s/pix'] * u.electron/u.s\n",
    "    mean = (dark_rate * t_exp).value\n",
    "    var = (dark_rate * t_exp).value + read_rms.value**2\n",
    "    image += np.random.normal(loc = mean, scale = np.sqrt(var), size = (image.shape[0],image.shape[1]))\n",
    "    return image"
   ]
  },
  {
   "cell_type": "code",
   "execution_count": 19,
   "metadata": {},
   "outputs": [],
   "source": [
    "# Given positions on the sensor 'w_arr' (the columns of interest in units of px)\n",
    "# Return a number between 0-1 to indicate how much light reaches that column (a fraction of the photons are obscured by FIFFA)\n",
    "\n",
    "def fiffa_shadow_at_col(w_arr):     \n",
    "    a = np.fromfile(os.path.join('.','essential_files','fiffa_data','MAST_BFD17_ASI1600_GuideMode.dat'),sep=' ') # Zemax transmission vs. field position\n",
    "    y = np.fromfile(os.path.join('.','essential_files','fiffa_data','MAST_BFD17_ASI1600_YCord.dat'),sep=' ') # Corresponding positions on \"width\" axis (in degrees)\n",
    "    w_vec0 = np.unique(y)\n",
    "    eta_vec0 = []\n",
    "    for w0 in w_vec0:\n",
    "        eta_vec0.append(np.mean(a[y == w0])) # The transmission is almost independent of \"height\" axis: values almost uniform for constant \"width\" pos\n",
    "    w_vec_deg = (w_arr - int(ccd_width_px/2 - 1))* plate_scale_arcsec_px.value / 3600 \n",
    "    cs = CubicSpline(w_vec0,eta_vec0)\n",
    "    eta_vec = cs(w_vec_deg) / 100 # Zemax gives transmission in range 0-100; I use range 0-1\n",
    "    eta_vec[eta_vec > 1] = 1\n",
    "    eta_vec[eta_vec < 0] = 0\n",
    "    return np.flip(eta_vec)"
   ]
  },
  {
   "cell_type": "code",
   "execution_count": 20,
   "metadata": {},
   "outputs": [],
   "source": [
    "# accounts for shadow of the fiffa folding mirror\n",
    "# attenuates the count in every column appropriately, removing light that is blocked by FIFFA \n",
    "\n",
    "def add_fiffa_shadow(image):\n",
    "    columns = np.arange(0,ccd_width_px,1)\n",
    "    fiffa_shadow = np.diag(fiffa_shadow_at_col(columns))\n",
    "    image = image @ fiffa_shadow\n",
    "    return image"
   ]
  },
  {
   "cell_type": "code",
   "execution_count": 21,
   "metadata": {},
   "outputs": [],
   "source": [
    "# estimates PSF spot size at different positions on the CCD, due to coma + seeing \n",
    "\n",
    "def get_psf_rms_after_seeing(seeing_arcsec = 1.5*u.arcsec):\n",
    "    rms_lst = []\n",
    "    max_lst = []\n",
    "    for r in r_lst:\n",
    "        ker = np.load(os.path.join('.','essential_files','kernels_u', str.format(r'r={}.npy',r)))\n",
    "        sigma = seeing_arcsec/plate_scale_arcsec_px/2.355 # fhwm = 2*sqrt(2*ln(2))*sigma\n",
    "        gaus_ker = convolution.Gaussian2DKernel(sigma,sigma)\n",
    "        ker = convolution.convolve(ker,gaus_ker)\n",
    "        rms_lst.append(psf_rms(ker))\n",
    "        max_lst.append(np.max(ker))\n",
    "    cs_rms = CubicSpline(r_lst,rms_lst)\n",
    "    cs_max = CubicSpline(r_lst,max_lst)\n",
    "    rms_lst = cs_rms(np.abs(field_arr_px-int(ccd_width_px/2) + 1))\n",
    "    max_lst = cs_max(np.abs(field_arr_px-int(ccd_width_px/2) + 1))\n",
    "    return rms_lst , max_lst"
   ]
  },
  {
   "cell_type": "code",
   "execution_count": 22,
   "metadata": {},
   "outputs": [],
   "source": [
    "# Given user inputs that effect signal and noise (read, exposure, seeing, background, temperature)\n",
    "# Plot the SNR vs the position on the sensor, for magnitude of interest (also an input)\n",
    "# As a bonus, the function plots the spot size (in microns) vs the field\n",
    "\n",
    "def plot_snr_vs_field(magnitudes, read_rms, t_exp = 1*u.s, seeing_arcsec = 1.5*u.arcsec ,mag_arcsec_squared = 20.5 , temp = -15):\n",
    "    N_source = flux_ZP * 10**(-0.4*(magnitudes - mag_ZP)) * t_exp.value # rough estimate of electron flux from source of known magnitude\n",
    "    fiffa_shadow = fiffa_shadow_at_col(field_arr_px)\n",
    "    rms_arr_after_seeing_px , psf_max_vs_px = get_psf_rms_after_seeing(seeing_arcsec)\n",
    "\n",
    "    n_pix = 1 + (rms_arr_after_seeing_px)**2 # rough estimate of total pixel number in the PSF\n",
    "\n",
    "    N_bgd = flux_ZP * 10**(-0.4*(mag_arcsec_squared - mag_ZP)) * (plate_scale_arcsec_px.value)**2 * t_exp.value\n",
    "    dark_rate = dark[dark.temp == temp].iloc[0]['e/s/pix'] * u.electron/u.s\n",
    "    N_dark = (dark_rate * t_exp).value \n",
    "    N_read = read_rms.value\n",
    "    SNR = np.zeros((len(N_source),len(field_arr_px)))\n",
    "\n",
    "    fig,ax = plt.subplots(figsize=(5,5),dpi=120)\n",
    "    ax.set_xlabel('Field (deg)', fontdict={'size': 12})\n",
    "    ax.set_ylabel('SNR', fontdict={'size': 12})\n",
    "    for i,ns in enumerate(N_source):\n",
    "        ns_detected = ns * fiffa_shadow\n",
    "        SNR[i] = ns_detected/np.sqrt(ns_detected + n_pix*(N_bgd*fiffa_shadow + N_dark + N_read**2))\n",
    "        ax.plot(field_arr_deg,SNR[i],label=f'mag={magnitudes[i]}')\n",
    "        ns_peak = np.multiply(ns_detected,psf_max_vs_px)\n",
    "        for j,peak in enumerate(ns_peak):\n",
    "            if (peak >= ccd_full_well.value):\n",
    "                ax.scatter(field_arr_deg[j],SNR[i][j],marker='x',c='Crimson',label='Saturation')\n",
    "\n",
    "    props = dict(boxstyle='round', alpha=0.5)\n",
    "    textstr = '\\n'.join((\n",
    "    r'$t_{exp}=%d s$' % (t_exp.value, ),\n",
    "    r'sky$=%.1f \\frac{mag}{arcsec^2}$' % (mag_arcsec_squared, ),\n",
    "    r'seeing$=%.2f$\"' % (seeing_arcsec.value, ),\n",
    "    r'read rms$=%.1f \\frac{e^-}{px}$' % (read_rms.value, )))\n",
    "    ax.text(0.02, 0.95, textstr, transform=ax.transAxes, fontsize=10,\n",
    "        verticalalignment='top', bbox=props)\n",
    "    handles, labels = ax.get_legend_handles_labels()\n",
    "    unique = [(h, l) for i, (h, l) in enumerate(zip(handles, labels)) if l not in labels[:i]]\n",
    "    ax.legend(*zip(*unique),loc=[0.02,0.5])\n",
    "    ax.grid()\n",
    "    ax.set_xlim(left = -0.65)\n",
    "    plt.show()\n",
    "\n",
    "    fig2,ax2 = plt.subplots(figsize=(5,5),dpi=120)\n",
    "    ax2.set_xlabel('Field (deg)', fontdict={'size':12})\n",
    "    ax2.set_ylabel('Spot size ($\\mu m$)',fontdict={'size':12})\n",
    "    ax2.plot(field_arr_deg , rms_arr_after_seeing_px * ccd_px_side_length_micron,'Crimson')\n",
    "    ax2.grid()\n",
    "    plt.show()    "
   ]
  },
  {
   "cell_type": "code",
   "execution_count": 23,
   "metadata": {},
   "outputs": [],
   "source": [
    "# Create the final sources table from Gaia (from querying Gaia to getting the correct measurment for MAST)\n",
    "\n",
    "def create_sources_table(max_mag, ra_center, dec_center, op_mode ,use_available_spectra = False):\n",
    "    coor_width_range_deg = (ccd_width_range_deg + ccd_width_buff_range_deg) / np.cos(np.deg2rad(dec_center))\n",
    "    coor_height_range_deg = ccd_height_range_deg + ccd_height_buff_range_deg\n",
    "    entries = query_gaia_for_sources_in_region(max_mag, ra_center, dec_center, coor_width_range_deg, coor_height_range_deg, op_mode)\n",
    "    calc_gaia_flux_density_from_gaia_flux(entries)\n",
    "    convert_gaia_flux_density_to_mast_flux(entries)\n",
    "    if(use_available_spectra):\n",
    "        get_flux_from_spectrum(entries)\n",
    "    return entries"
   ]
  },
  {
   "cell_type": "code",
   "execution_count": 24,
   "metadata": {},
   "outputs": [],
   "source": [
    "def create_wcs(ra_center, dec_center, op_mode):\n",
    "    if(op_mode == 'feed'):   \n",
    "        axis_1_focus = int(ccd_width_buff_px/2) + feed_middle_width\n",
    "    elif(op_mode == 'shifted_wide'):\n",
    "        axis_1_focus = int(ccd_width_buff_px/2) + wide_middle_width\n",
    "    elif(op_mode == 'shifted_narrow'):\n",
    "        axis_1_focus = int(ccd_width_buff_px/2) + narrow_middle_width\n",
    "    axis_2_focus = int(ccd_height_buff_px/2) + int(ccd_height_px/2) - 1\n",
    "        \n",
    "    wcs_input_dict = {\n",
    "    'CTYPE1': 'RA---TAN', \n",
    "    'CUNIT1': 'deg', \n",
    "    'CDELT1': (plate_scale_arcsec_px.to(u.deg)).value, \n",
    "    'CRPIX1': axis_1_focus, \n",
    "    'CRVAL1': ra_center, \n",
    "    'NAXIS1': ccd_width_px+ccd_width_buff_px,\n",
    "    'CTYPE2': 'DEC--TAN', \n",
    "    'CUNIT2': 'deg', \n",
    "    'CDELT2': (plate_scale_arcsec_px.to(u.deg)).value, \n",
    "    'CRPIX2': axis_2_focus, \n",
    "    'CRVAL2': dec_center, \n",
    "    'NAXIS2': ccd_height_px+ccd_height_buff_px\n",
    "    }\n",
    "    return wcs.WCS(wcs_input_dict)"
   ]
  },
  {
   "cell_type": "code",
   "execution_count": 25,
   "metadata": {},
   "outputs": [],
   "source": [
    "# Create the simulated image from MAST based on the sources table prepered previously\n",
    "\n",
    "def create_image(sources_table, ra_center , dec_center, t_exp, bdg_mean_mag_to_arcsec_squared, seeing_arcsec, temperature , op_mode):\n",
    "    wcs_dict = create_wcs(ra_center, dec_center, op_mode)\n",
    "    image = np.zeros((ccd_height_px + ccd_height_buff_px, ccd_width_px + ccd_width_buff_px))\n",
    "    image = add_sources(image, sources_table, wcs_dict, t_exp, op_mode)\n",
    "    image = add_bgd_noise(image, bdg_mean_mag_to_arcsec_squared, t_exp)\n",
    "    image = add_seeing(image,seeing_arcsec)\n",
    "    image = image[int(ccd_height_buff_px/2):int(ccd_height_px+ccd_height_buff_px/2),int(ccd_width_buff_px/2):int(ccd_width_px+ccd_width_buff_px/2)]\n",
    "    image = add_fiffa_shadow(image)\n",
    "    image = add_read_dark_noise(image,temperature,read_noise_rms_widget.value*u.electron,t_exp)\n",
    "    image += baseline_per_px.value\n",
    "    return image"
   ]
  },
  {
   "cell_type": "code",
   "execution_count": 26,
   "metadata": {},
   "outputs": [],
   "source": [
    "# Plot the image in the notebook\n",
    "\n",
    "def plot_image(image):\n",
    "    fig,ax = plt.subplots(figsize=(8,8),dpi=120)\n",
    "    mappable = ax.imshow(image, origin='lower', cmap='Greys', norm=colors.LogNorm())\n",
    "    ax.set_xlabel('Horizontal Axis (px)', fontdict={'size': 12})\n",
    "    ax.set_ylabel('Vertical Axis (px)', fontdict={'size': 12})\n",
    "    cbar = fig.colorbar(mappable, ax=ax, shrink=0.5, pad = 0.05, format='%1.1E')\n",
    "    cbar.set_label('Electron Count', labelpad=10, rotation = 270, fontdict={'size':12})\n",
    "    fig.tight_layout()\n",
    "    plt.show()"
   ]
  },
  {
   "cell_type": "code",
   "execution_count": 27,
   "metadata": {},
   "outputs": [],
   "source": [
    "# Simulate the image based on the telescope parameters and plot it to the user\n",
    "\n",
    "def simulate_image(max_mag, ra, dec, t_exp, bdg_mean_mag_to_arcsec_squared, seeing_arcsec, temperature , op_mode):    \n",
    "    sources_table = create_sources_table(max_mag, ra, dec , op_mode)\n",
    "    image = create_image(sources_table, ra, dec, t_exp, bdg_mean_mag_to_arcsec_squared, seeing_arcsec, temperature , op_mode)\n",
    "    return image "
   ]
  },
  {
   "cell_type": "code",
   "execution_count": 28,
   "metadata": {},
   "outputs": [],
   "source": [
    "def save_image_array_as_fits(image, filename):\n",
    "    header = fits.Header()\n",
    "    header['NAXIS'] = 2  # Number of axes\n",
    "    header['NAXIS1'] = image.shape[1]  # Number of pixels along the first axis\n",
    "    header['NAXIS2'] = image.shape[0]  # Number of pixels along the second axis\n",
    "    # hd_dict = [('RA',ra_widget.value,'degrees'),('DEC',dec_widget.value,'degrees'),('t_exp',t_exp_widget.value,'sec'),('sky',bgd_mag_to_arcsec_squared_widget.value,'mag per arcsec squared'),('read_rms',read_noise_rms_widget.value,'electrons per pix'),('seeing',seeing_arcsec_widget.value,'arcsec')]\n",
    "    # for hd in hd_dict:    \n",
    "    #     hdu.header.append(hd)\n",
    "    hdu = fits.PrimaryHDU(data=image.astype(np.float32), header=header)\n",
    "    if len(filename) == 0:\n",
    "        filename = 'output.fits'\n",
    "    elif ~filename.endswith('.fits'):\n",
    "        filename += '.fits'\n",
    "    filename = filename.replace(' ','_')\n",
    "    hdu.writeto(filename, overwrite=True)"
   ]
  },
  {
   "cell_type": "code",
   "execution_count": 29,
   "metadata": {},
   "outputs": [],
   "source": [
    "# Simulate an image and generate 'N' additional images shifted by a small (random) increment\n",
    "# Return the known offsets, and the corresponding estimated corrections.\n",
    "# Can feed the output of this function to 'guiding_plots()' to look at the results.\n",
    "\n",
    "def simulate_guiding(N , max_mag, ra, dec, t_exp, bdg_mean_mag_to_arcsec_squared, seeing_arcsec, temperature, ra_std_arcsec, dec_std_arcsec, op_mode = 'feed'):    \n",
    "    offset_ra = np.random.normal(0,ra_std_arcsec,size = N)\n",
    "    offset_dec = np.random.normal(0,dec_std_arcsec,size = N)\n",
    "    sources_table = create_sources_table(max_mag, ra, dec, op_mode)\n",
    "    im1 = create_image(sources_table, ra, dec, t_exp, bdg_mean_mag_to_arcsec_squared, seeing_arcsec, temperature , op_mode)\n",
    "    \n",
    "    corrections_ra = []\n",
    "    corrections_dec = []\n",
    "\n",
    "    for i in range(N):\n",
    "        ra2 = ra + u.arcsec.to(u.deg, offset_ra[i])\n",
    "        dec2 = dec + u.arcsec.to(u.deg, offset_dec[i])\n",
    "        im2 = create_image(sources_table, ra2, dec2, t_exp, bdg_mean_mag_to_arcsec_squared, seeing_arcsec, temperature , op_mode)\n",
    "\n",
    "        gs_h, gs_w = np.unravel_index(np.argmax(im1),im1.shape)\n",
    "        h1,w1 = psf_center(im1[gs_h-10:gs_h+10, gs_w-10:gs_w+10])\n",
    "        h2,w2 = psf_center(im2[gs_h-10:gs_h+10, gs_w-10:gs_w+10])\n",
    "        x_shift = h2 - h1\n",
    "        y_shift = w2 - w1\n",
    "\n",
    "        # x_shift,y_shift = chi2_shift(im1[gs_h-15:gs_h+15, gs_w-15:gs_w+15],im2[gs_h-15:gs_h+15, gs_w-15:gs_w+15],return_error = False)\n",
    "        \n",
    "        corrections_ra.append(-y_shift * plate_scale_arcsec_px.value / np.cos(np.deg2rad(dec)))    \n",
    "        corrections_dec.append(-x_shift * plate_scale_arcsec_px.value)\n",
    "        if((i+1)% 10 == 0):\n",
    "            print(f'{i+1}/{N}')\n",
    "\n",
    "    return offset_ra, offset_dec, corrections_ra, corrections_dec"
   ]
  },
  {
   "cell_type": "code",
   "execution_count": 30,
   "metadata": {},
   "outputs": [],
   "source": [
    "# Takes the output of 'simulate_guiding()' and shows some plots of the results.\n",
    "\n",
    "def guiding_plots(offset_ra,offset_dec,corrections_ra,corrections_dec):\n",
    "\n",
    "    f = lambda x: x/plate_scale_arcsec_px.value\n",
    "    g = lambda x: x*plate_scale_arcsec_px.value\n",
    "\n",
    "    ra_abs = offset_ra - np.array(corrections_ra)\n",
    "    dec_abs  = offset_dec - np.array(corrections_dec)\n",
    "\n",
    "    fig,ax = plt.subplots(ncols=2,figsize=(10,5))\n",
    "    ax[0].hist(dec_abs)\n",
    "    ax[0].set_xlabel(\"DEC absolute error (arcsec)\")\n",
    "    ax[0].set_ylabel('relative frequency (%)')\n",
    "    ax[0].set_yticklabels(np.round(ax[0].get_yticks()/len(ra_abs)*100,0))\n",
    "    ax00 = ax[0].secondary_xaxis('top',functions=(f,g))\n",
    "    ax00.set_xlabel(\"DEC absolute error (px)\")\n",
    "    ax[1].hist(ra_abs)\n",
    "    ax[1].set_xlabel(\"RA absolute error (arcsec)\")\n",
    "    ax[1].set_ylabel('relative frequency (%)')\n",
    "    ax[1].set_yticklabels(np.round(ax[1].get_yticks()/len(ra_abs)*100,0))\n",
    "    ax11 = ax[1].secondary_xaxis('top',functions=(f,g))\n",
    "    ax11.set_xlabel(\"RA absolute error (px)\")\n",
    "    fig.tight_layout()\n",
    "    text0 = '\\n'.join((\n",
    "        f\"mean = {dec_abs.mean():1.1f}''\",\n",
    "        f\"std = {dec_abs.std():1.1f}''\"))\n",
    "    props = dict(boxstyle='round', facecolor='DeepPink', alpha=0.5)\n",
    "    ax[0].text(0.70, 0.95, text0, transform=ax[0].transAxes, fontsize=12,\n",
    "            verticalalignment='top', bbox=props)\n",
    "    text1 = '\\n'.join((\n",
    "        f\"mean = {ra_abs.mean():1.1f}''\",\n",
    "        f\"std = {ra_abs.std():1.1f}''\"))\n",
    "    props = dict(boxstyle='round', facecolor='DeepPink', alpha=0.5)\n",
    "    ax[1].text(0.70, 0.95, text1, transform=ax[1].transAxes, fontsize=12,\n",
    "            verticalalignment='top', bbox=props)\n",
    "    plt.show()\n",
    "\n",
    "    ra_rel = ra_abs/np.abs(offset_ra)\n",
    "    dec_rel  = dec_abs/np.abs(offset_dec)\n",
    "\n",
    "    fig,ax = plt.subplots(ncols=2,figsize=(10,5))\n",
    "    ax[0].hist(dec_rel)\n",
    "    ax[0].set_xlabel(\"DEC relative error (%)\")\n",
    "    ax[0].set_ylabel('relative frequency (%)')\n",
    "    ax[0].set_yticklabels(np.round(ax[0].get_yticks()/len(ra_abs)*100,0))\n",
    "    ax[1].hist(ra_rel)\n",
    "    ax[1].set_xlabel(\"RA relative error (%)\")\n",
    "    ax[1].set_ylabel('relative frequency (%)')\n",
    "    ax[1].set_yticklabels(ax[1].get_yticks()/len(ra_abs)*100)\n",
    "    text0 = '\\n'.join((\n",
    "        f\"mean = {dec_rel.mean():1.1f}%\",\n",
    "        f\"std = {dec_rel.std():1.1f}%\"))\n",
    "    props = dict(boxstyle='round', facecolor='DeepPink', alpha=0.5)\n",
    "    ax[0].text(0.67, 0.95, text0, transform=ax[0].transAxes, fontsize=12,\n",
    "            verticalalignment='top', bbox=props)\n",
    "    text1 = '\\n'.join((\n",
    "        f\"mean = {ra_rel.mean():1.1f}%\",\n",
    "        f\"std = {ra_rel.std():1.1f}%\"))\n",
    "    props = dict(boxstyle='round', facecolor='DeepPink', alpha=0.5)\n",
    "    ax[1].text(0.67, 0.95, text1, transform=ax[1].transAxes, fontsize=12,\n",
    "            verticalalignment='top', bbox=props)\n",
    "    fig.tight_layout()\n",
    "\n",
    "    fig,ax = plt.subplots(ncols=2,figsize=(10,5))\n",
    "    ax[0].scatter(offset_dec,corrections_dec)\n",
    "    ax[0].set_xlabel('DEC offset (arcsec)')\n",
    "    ax[0].set_ylabel('DEC correction (arcsec)')\n",
    "    ax[0].plot(offset_dec,offset_dec,color='Silver',ls='--')\n",
    "    ax0x = ax[0].secondary_xaxis('top',functions=(f,g))\n",
    "    ax0x.set_xlabel(\"DEC offset (px)\")\n",
    "    ax0y = ax[0].secondary_yaxis('right',functions=(f,g))\n",
    "    ax0y.set_ylabel('DEC correction (px)')\n",
    "\n",
    "    ax[1].scatter(offset_ra,corrections_ra)\n",
    "    ax[1].set_xlabel('RA offset (arcsec)')\n",
    "    ax[1].set_ylabel('RA correction (arcsec)')\n",
    "    ax1x = ax[1].secondary_xaxis('top',functions=(f,g))\n",
    "    ax1x.set_xlabel(\"RA offset (px)\")\n",
    "    ax1y = ax[1].secondary_yaxis('right',functions=(f,g))\n",
    "    ax1y.set_ylabel('RA correction (px)')\n",
    "    ax[1].plot(offset_ra,offset_ra,color='Silver',ls='--')\n",
    "    fig.tight_layout()"
   ]
  },
  {
   "cell_type": "code",
   "execution_count": 31,
   "metadata": {},
   "outputs": [
    {
     "data": {
      "application/vnd.jupyter.widget-view+json": {
       "model_id": "6858411e9d6b452e8334597575603c90",
       "version_major": 2,
       "version_minor": 0
      },
      "text/plain": [
       "BoundedFloatText(value=279.3643447, description='RA:', max=360.0, step=0.001)"
      ]
     },
     "metadata": {},
     "output_type": "display_data"
    },
    {
     "data": {
      "application/vnd.jupyter.widget-view+json": {
       "model_id": "5bb87743ed0c49e6b6dee5625dd479aa",
       "version_major": 2,
       "version_minor": 0
      },
      "text/plain": [
       "BoundedFloatText(value=38.79739118, description='DEC:', max=90.0, min=-90.0, step=0.001)"
      ]
     },
     "metadata": {},
     "output_type": "display_data"
    },
    {
     "data": {
      "application/vnd.jupyter.widget-view+json": {
       "model_id": "7021b7bcdc8e4f99829f93de04d0b084",
       "version_major": 2,
       "version_minor": 0
      },
      "text/plain": [
       "FloatText(value=15.0, description='Max Mag:', step=0.01)"
      ]
     },
     "metadata": {},
     "output_type": "display_data"
    },
    {
     "data": {
      "application/vnd.jupyter.widget-view+json": {
       "model_id": "10b8e406b8b14ab997b3c96788b098fc",
       "version_major": 2,
       "version_minor": 0
      },
      "text/plain": [
       "BoundedFloatText(value=1.0, description='Exp Time:', min=0.1, step=0.1)"
      ]
     },
     "metadata": {},
     "output_type": "display_data"
    },
    {
     "data": {
      "application/vnd.jupyter.widget-view+json": {
       "model_id": "d833447ef47949cfadd015fe43ff5136",
       "version_major": 2,
       "version_minor": 0
      },
      "text/plain": [
       "BoundedFloatText(value=1.5, description='Seeing:', step=0.1)"
      ]
     },
     "metadata": {},
     "output_type": "display_data"
    },
    {
     "data": {
      "application/vnd.jupyter.widget-view+json": {
       "model_id": "5d55ce7eaded474dac6fcff071334856",
       "version_major": 2,
       "version_minor": 0
      },
      "text/plain": [
       "BoundedFloatText(value=20.5, description='Background:', step=0.1)"
      ]
     },
     "metadata": {},
     "output_type": "display_data"
    },
    {
     "data": {
      "application/vnd.jupyter.widget-view+json": {
       "model_id": "f01e18c5800741a79512d971b9dca50c",
       "version_major": 2,
       "version_minor": 0
      },
      "text/plain": [
       "BoundedFloatText(value=3.6, description='Read noise RMS (e/px):', max=3.6, min=1.2, step=0.1)"
      ]
     },
     "metadata": {},
     "output_type": "display_data"
    },
    {
     "data": {
      "application/vnd.jupyter.widget-view+json": {
       "model_id": "b3fca921363349539e3ce8be92f5de4e",
       "version_major": 2,
       "version_minor": 0
      },
      "text/plain": [
       "Dropdown(description='Op Temp:', options=(-20, -15, -10, -5, 0, 5, 10, 15, 25), value=-20)"
      ]
     },
     "metadata": {},
     "output_type": "display_data"
    },
    {
     "data": {
      "application/vnd.jupyter.widget-view+json": {
       "model_id": "444bfcc53e8b466bb6856b515e020a1a",
       "version_major": 2,
       "version_minor": 0
      },
      "text/plain": [
       "Dropdown(description='Op mode:', options=('feed', 'shifted_wide', 'shifted_narrow'), value='feed')"
      ]
     },
     "metadata": {},
     "output_type": "display_data"
    }
   ],
   "source": [
    "# Display the widgets in the notebook\n",
    "\n",
    "display(ra_widget)\n",
    "display(dec_widget)\n",
    "display(max_mag_widget)\n",
    "display(t_exp_widget)\n",
    "display(seeing_arcsec_widget)\n",
    "display(bgd_mag_to_arcsec_squared_widget)\n",
    "display(read_noise_rms_widget)\n",
    "display(temperature_widget)\n",
    "display(op_mode_widget)"
   ]
  },
  {
   "cell_type": "code",
   "execution_count": 32,
   "metadata": {},
   "outputs": [],
   "source": [
    "# Create the button to start the simulation\n",
    "\n",
    "button_simulate_image_widget = widgets.Button(description='Simulate Image')\n",
    "button_save_image_widget = widgets.Button(description='Save as FITS')\n",
    "\n",
    "# Create the output for the image\n",
    "\n",
    "output_widget = widgets.Output()\n",
    "\n",
    "def on_button_click(button):\n",
    "    with output_widget:\n",
    "        image = simulate_image(max_mag_widget.value,\n",
    "                       ra_widget.value,\n",
    "                       dec_widget.value,\n",
    "                       t_exp_widget.value * u.s,\n",
    "                       bgd_mag_to_arcsec_squared_widget.value,\n",
    "                       seeing_arcsec_widget.value * u.arcsec,\n",
    "                       temperature_widget.value,\n",
    "                       op_mode_widget.value)\n",
    "        plot_image(image)\n",
    "        display(filename_widget)\n",
    "        display(button_save_image_widget)\n",
    "        def on_button_save(button):\n",
    "             save_image_array_as_fits(image,filename_widget.value)\n",
    "        button_save_image_widget.on_click(on_button_save)\n",
    "\n",
    "\n",
    "button_simulate_image_widget.on_click(on_button_click)"
   ]
  },
  {
   "cell_type": "code",
   "execution_count": 33,
   "metadata": {},
   "outputs": [
    {
     "data": {
      "application/vnd.jupyter.widget-view+json": {
       "model_id": "801e52091de1451d8f55d5aa9478efd2",
       "version_major": 2,
       "version_minor": 0
      },
      "text/plain": [
       "Button(description='Simulate Image', style=ButtonStyle())"
      ]
     },
     "metadata": {},
     "output_type": "display_data"
    }
   ],
   "source": [
    "display(button_simulate_image_widget)"
   ]
  },
  {
   "cell_type": "code",
   "execution_count": 34,
   "metadata": {},
   "outputs": [
    {
     "data": {
      "application/vnd.jupyter.widget-view+json": {
       "model_id": "7055b41ec65f4464ab4b93f13f06d677",
       "version_major": 2,
       "version_minor": 0
      },
      "text/plain": [
       "Output()"
      ]
     },
     "metadata": {},
     "output_type": "display_data"
    }
   ],
   "source": [
    "display(output_widget)"
   ]
  },
  {
   "cell_type": "code",
   "execution_count": 35,
   "metadata": {},
   "outputs": [
    {
     "data": {
      "application/vnd.jupyter.widget-view+json": {
       "model_id": "1c045ddd39a141c08c1665f89c58d55b",
       "version_major": 2,
       "version_minor": 0
      },
      "text/plain": [
       "SelectMultiple(description='Magnitudes to plot:', index=(5,), options=(10, 11, 12, 13, 14, 15, 16, 17, 18), va…"
      ]
     },
     "metadata": {},
     "output_type": "display_data"
    }
   ],
   "source": [
    "display(magnitude_widget)"
   ]
  },
  {
   "cell_type": "code",
   "execution_count": 36,
   "metadata": {},
   "outputs": [],
   "source": [
    "# Create the button to plot SNR vs field\n",
    "\n",
    "button_plot_snr_widget = widgets.Button(description='Plot SNR vs. Field')\n",
    "\n",
    "# Create the output for the image\n",
    "\n",
    "output_snr_widget = widgets.Output()\n",
    "\n",
    "def on_snr_button_click(button):\n",
    "    with output_snr_widget:\n",
    "        plot_snr_vs_field(np.array(magnitude_widget.value),\n",
    "                          read_noise_rms_widget.value * u.electron,\n",
    "                            t_exp_widget.value * u.s,\n",
    "                            seeing_arcsec_widget.value * u.arcsec,\n",
    "                            bgd_mag_to_arcsec_squared_widget.value,\n",
    "                            temperature_widget.value)\n",
    "button_plot_snr_widget.on_click(on_snr_button_click)"
   ]
  },
  {
   "cell_type": "code",
   "execution_count": 37,
   "metadata": {},
   "outputs": [
    {
     "data": {
      "application/vnd.jupyter.widget-view+json": {
       "model_id": "7d92c9d0f9aa4cc184bd7bbb50a2629b",
       "version_major": 2,
       "version_minor": 0
      },
      "text/plain": [
       "Button(description='Plot SNR vs. Field', style=ButtonStyle())"
      ]
     },
     "metadata": {},
     "output_type": "display_data"
    }
   ],
   "source": [
    "display(button_plot_snr_widget)"
   ]
  },
  {
   "cell_type": "code",
   "execution_count": 38,
   "metadata": {},
   "outputs": [
    {
     "data": {
      "application/vnd.jupyter.widget-view+json": {
       "model_id": "776bf33d975e48b9bbcde445d5b31446",
       "version_major": 2,
       "version_minor": 0
      },
      "text/plain": [
       "Output()"
      ]
     },
     "metadata": {},
     "output_type": "display_data"
    }
   ],
   "source": [
    "display(output_snr_widget)"
   ]
  }
 ],
 "metadata": {
  "kernelspec": {
   "display_name": "Python 3",
   "language": "python",
   "name": "python3"
  },
  "language_info": {
   "codemirror_mode": {
    "name": "ipython",
    "version": 3
   },
   "file_extension": ".py",
   "mimetype": "text/x-python",
   "name": "python",
   "nbconvert_exporter": "python",
   "pygments_lexer": "ipython3",
   "version": "3.11.3"
  },
  "orig_nbformat": 4,
  "vscode": {
   "interpreter": {
    "hash": "949777d72b0d2535278d3dc13498b2535136f6dfe0678499012e853ee9abcab1"
   }
  }
 },
 "nbformat": 4,
 "nbformat_minor": 2
}
