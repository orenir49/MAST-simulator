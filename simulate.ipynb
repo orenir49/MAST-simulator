{
 "cells": [
  {
   "attachments": {},
   "cell_type": "markdown",
   "metadata": {},
   "source": [
    "# Simulating Images from the MAST telescope\n",
    "\n",
    "In this project, we use data from the Gaia telescope and create an image which will be captured by the CCD on the MAST telescope. This will be helpful for the tracking and guiding of the telescope."
   ]
  },
  {
   "cell_type": "code",
   "execution_count": 1,
   "metadata": {},
   "outputs": [],
   "source": [
    "# Import the required libraries\n",
    "\n",
    "# astroquery for retrieving data from Gaia\n",
    "from astroquery.gaia import Gaia\n",
    "\n",
    "# astropy libraries for calculations\n",
    "from astropy import units as u\n",
    "from astropy import wcs\n",
    "from astropy.constants import h, c\n",
    "from astropy import convolution\n",
    "\n",
    "# Data science libraries\n",
    "import pandas as pd\n",
    "import numpy as np\n",
    "import matplotlib.pyplot as plt\n",
    "import matplotlib.colors as colors\n",
    "%matplotlib ipympl\n",
    "from scipy import signal\n",
    "\n",
    "# Manipulating & parsing files\n",
    "import re\n",
    "import os\n",
    "from glob import glob\n",
    "\n",
    "# Making the notebook interactive\n",
    "import ipywidgets as widgets\n",
    "from IPython.display import display"
   ]
  },
  {
   "attachments": {},
   "cell_type": "markdown",
   "metadata": {},
   "source": [
    "In order to use this notebook, please first run all of the cells. You will get textboxes to fill the desired coordinates, different parameters, etc. Then, you can press the button \"Simulate Imgae\", that will save the image in the requested path."
   ]
  },
  {
   "cell_type": "code",
   "execution_count": 2,
   "metadata": {},
   "outputs": [],
   "source": [
    "# Defining the constants of the notebook\n",
    "\n",
    "# Constants from files\n",
    "qe = pd.read_csv('./ccd_data/QE.csv',delimiter=',',index_col=0) # Quantum Efficiency\n",
    "dark = pd.read_csv('./ccd_data/dark_current.csv',delimiter=',') # Dark Current\n",
    "\n",
    "# Gaia Flux Density\n",
    "fd_unit = u.J/u.m**2/u.s/u.nm\n",
    "d_filters = {'Band':['G','BP','RP'],'Wavelength':[639.07*u.nm,518.26*u.nm,782.51*u.nm],'Bandpass':[454.82*u.nm,265.9*u.nm,292.75*u.nm],'clam':[1.346e-21*fd_unit,3.009e-21*fd_unit,1.638e-21*fd_unit]} \n",
    "filters = pd.DataFrame(data=d_filters)\n",
    "\n",
    "# MAST CCD constants\n",
    "# Pixels in the CCD\n",
    "ccd_width_px = 4656\n",
    "ccd_height_px = 3520\n",
    "\n",
    "# Buffer of pixels when querying data and performing the convolution\n",
    "ccd_width_buff_px = 512\n",
    "ccd_height_buff_px = 512\n",
    "\n",
    "# The lenght of each pixel in the CCD\n",
    "ccd_px_side_length_micron = 3.8 * u.micron\n",
    "ccd_width_micron = ccd_width_px * ccd_px_side_length_micron\n",
    "ccd_height_micron = ccd_height_px * ccd_px_side_length_micron\n",
    "ccd_width_buff_micron = ccd_width_buff_px * ccd_px_side_length_micron\n",
    "ccd_height_buff_micron = ccd_height_buff_px * ccd_px_side_length_micron\n",
    "\n",
    "# The platescale of MAST\n",
    "plate_scale_arcsec_micron = 0.11 * u.arcsec/u.micron\n",
    "\n",
    "# Pixel field of view\n",
    "px_fov = plate_scale_arcsec_micron * ccd_px_side_length_micron\n",
    "\n",
    "# CCD field of view\n",
    "ccd_width_range_arcsec = ccd_width_micron * plate_scale_arcsec_micron\n",
    "ccd_height_range_arcsec = ccd_height_micron * plate_scale_arcsec_micron\n",
    "ccd_width_buff_range_arcsec = ccd_width_buff_micron * plate_scale_arcsec_micron\n",
    "ccd_height_buff_range_arcsec = ccd_height_buff_micron * plate_scale_arcsec_micron\n",
    "\n",
    "# Converting from arcsec to degrees\n",
    "ccd_width_range_deg = ccd_width_range_arcsec.to(u.deg)\n",
    "ccd_height_range_deg = ccd_height_range_arcsec.to(u.deg)\n",
    "ccd_width_buff_range_deg = ccd_width_buff_range_arcsec.to(u.deg)\n",
    "ccd_height_buff_range_deg = ccd_height_buff_range_arcsec.to(u.deg)\n",
    "\n",
    "# MAST collecting area\n",
    "mast_collecting_area_m2 = 0.09 * np.pi * u.m**2\n",
    "\n",
    "# Saturation of the CCD per pixel\n",
    "ccd_full_well = 20000 * u.electron\n",
    "\n",
    "# CCD where light is captured\n",
    "ccd_live_right_deg = 0.18 * u.deg\n",
    "ccd_live_left_deg = 0.146 * u.deg\n",
    "\n",
    "# CCD where light is not captured (CCD under the optical fiber)\n",
    "ccd_dead_left_px = int(np.ceil(ccd_live_left_deg / px_fov.to(u.deg)))\n",
    "ccd_dead_right_px = int(ccd_width_px - np.floor(ccd_live_right_deg / px_fov.to(u.deg)) - 1)\n",
    "\n",
    "# Gaia constants\n",
    "gaia_collecting_area_m2 = 0.7 * u.m**2\n",
    "\n",
    "# Gaia-MAST constants\n",
    "gaia_mast_attenuation = 0.5"
   ]
  },
  {
   "cell_type": "code",
   "execution_count": 3,
   "metadata": {},
   "outputs": [],
   "source": [
    "# Defining the widgets for user input\n",
    "\n",
    "ra_widget = widgets.BoundedFloatText(\n",
    "    value=279.3643447,\n",
    "    min=0,\n",
    "    max=360,\n",
    "    step=0.001,\n",
    "    description='RA:'\n",
    ")\n",
    "\n",
    "dec_widget = widgets.BoundedFloatText(\n",
    "    value=38.79739118,\n",
    "    min=-90,\n",
    "    max=90,\n",
    "    step=0.001,\n",
    "    description='DEC:'\n",
    ")\n",
    "\n",
    "max_mag_widget = widgets.FloatText(\n",
    "    value=15,\n",
    "    step=0.01,\n",
    "    description='Max Mag:'\n",
    ")\n",
    "\n",
    "t_exp_widget = widgets.BoundedFloatText(\n",
    "    value=1,\n",
    "    step=0.1,\n",
    "    min=0.1,\n",
    "    description='Exp Time:'\n",
    ")\n",
    "\n",
    "seeing_arcsec_widget = widgets.BoundedFloatText(\n",
    "    value=1.5,\n",
    "    step=0.1,\n",
    "    min=0,\n",
    "    description='Seeing:'\n",
    ")\n",
    "\n",
    "bdg_mag_to_arcsec_squared_widget = widgets.BoundedFloatText(\n",
    "    value=20.5,\n",
    "    step=0.1,\n",
    "    min=0,\n",
    "    description='Background:'\n",
    ")\n",
    "\n",
    "temperature_widget = widgets.Dropdown(\n",
    "    options=dark['temp'],\n",
    "    value=dark['temp'].iloc[0],\n",
    "    description='Op Temp:'\n",
    ")"
   ]
  },
  {
   "cell_type": "code",
   "execution_count": 4,
   "metadata": {},
   "outputs": [],
   "source": [
    "# General function to query from Gaia using ADQL\n",
    "# Help can be found be found at: https://www.cosmos.esa.int/web/gaia-users/archive/writing-queries\n",
    "\n",
    "def query_gaia(query):\n",
    "    job = Gaia.launch_job(query)\n",
    "    return job.get_results()"
   ]
  },
  {
   "cell_type": "code",
   "execution_count": 5,
   "metadata": {},
   "outputs": [],
   "source": [
    "# Defining the query to get sources captured by Gaia in a specific region\n",
    "# Documentation about the table GAIADR3.GAIA_SOURCE can be found at: https://gea.esac.esa.int/archive/documentation/GDR3/Gaia_archive/chap_datamodel/sec_dm_main_source_catalogue/ssec_dm_gaia_source.html\n",
    "\n",
    "def query_gaia_for_sources_in_region(max_mag, ra_deg, dec_deg, ccd_width_range_deg, ccd_height_range_deg):\n",
    "    query = '''SELECT SOURCE_ID, RA, DEC, PHOT_G_MEAN_MAG, HAS_XP_SAMPLED,\n",
    "    PHOT_G_MEAN_FLUX AS PHOT_G_MEAN_FLUX_GAIA, PHOT_G_MEAN_FLUX_ERROR AS PHOT_G_MEAN_FLUX_ERROR_GAIA,\n",
    "    PHOT_BP_MEAN_FLUX AS PHOT_BP_MEAN_FLUX_GAIA, PHOT_BP_MEAN_FLUX_ERROR AS PHOT_BP_MEAN_FLUX_ERROR_GAIA,\n",
    "    PHOT_RP_MEAN_FLUX AS PHOT_RP_MEAN_FLUX_GAIA, PHOT_RP_MEAN_FLUX_ERROR AS PHOT_RP_MEAN_FLUX_ERROR_GAIA\n",
    "    FROM gaiadr3.gaia_source\n",
    "    WHERE (ra BETWEEN {ra_min} AND {ra_max})\n",
    "    AND (dec BETWEEN {dec_min} AND {dec_max})\n",
    "    AND phot_g_mean_mag < {max_mag}\n",
    "    ORDER BY PHOT_G_MEAN_MAG\n",
    "    '''.format(\n",
    "        max_mag=max_mag,\n",
    "        ra_min=ra_deg-(ccd_width_range_deg.value/2), ra_max=ra_deg+(ccd_width_range_deg.value/2),\n",
    "        dec_min=dec_deg-(ccd_height_range_deg.value/2), dec_max=dec_deg+(ccd_height_range_deg.value/2)\n",
    "    )\n",
    "    return query_gaia(query)"
   ]
  },
  {
   "cell_type": "code",
   "execution_count": 6,
   "metadata": {},
   "outputs": [],
   "source": [
    "# Input the flux as seen by Gaia (in electrons/sec as given by GAIA_SOURCE)\n",
    "# Output the flux density of the source\n",
    "# The conversion is done according to the documentation: https://gea.esac.esa.int/archive/documentation/GDR3/Data_processing/chap_cu5pho/cu5pho_sec_photProc/cu5pho_ssec_photCal.html#SSS3.P2\n",
    "\n",
    "def calc_gaia_flux_density_from_gaia_flux(sources_table):\n",
    "    for filter in d_filters['Band']:\n",
    "        sources_table['flux_' + filter + '_density_gaia'] = filters[filters['Band'] == filter]['clam'].iloc[0] * sources_table['phot_' + str.lower(filter) + '_mean_flux_gaia'].value\n",
    "        sources_table['flux_' + filter + '_density_error_gaia'] =  filters[filters['Band'] == filter]['clam'].iloc[0] * sources_table['phot_' + str.lower(filter) + '_mean_flux_error_gaia'].value"
   ]
  },
  {
   "cell_type": "code",
   "execution_count": 7,
   "metadata": {},
   "outputs": [],
   "source": [
    "# Calculate the mean quantum efficiency of Gaia, based on the wavelenghts of intrest\n",
    "\n",
    "def calculate_effective_qe(min_wavelen, max_wavelen):\n",
    "    return np.mean(qe[qe['Wavelength'].isin(qe['Wavelength'].where((qe['Wavelength'] >= min_wavelen) & (qe['Wavelength'] < max_wavelen)).dropna())]['QE'])"
   ]
  },
  {
   "cell_type": "code",
   "execution_count": 8,
   "metadata": {},
   "outputs": [],
   "source": [
    "# Given the flux density as seen at Gaia, calculate the flux as measured in MAST\n",
    "\n",
    "def convert_gaia_flux_density_to_mast_flux(sources_table):\n",
    "    for filter in d_filters['Band']:\n",
    "        lam0 = filters[filters.Band == filter].iloc[0]['Wavelength']\n",
    "        bandpass = filters[filters.Band == filter].iloc[0]['Bandpass']\n",
    "        flux_density_inc_mast =  gaia_mast_attenuation * sources_table['flux_' + filter + '_density_gaia']\n",
    "        flux_meas_mast = calculate_effective_qe(lam0-bandpass/2,lam0+bandpass/2)* flux_density_inc_mast * bandpass\n",
    "        power_meas_mast = flux_meas_mast * mast_collecting_area_m2\n",
    "        sources_table['phot_' + filter + '_flux_mast'] = (power_meas_mast * lam0.to(u.m) / (h * c)) * u.electron \n",
    "\n",
    "        flux_density_inc_error_mast =  gaia_mast_attenuation * sources_table['flux_' + filter + '_density_error_gaia']\n",
    "        flux_meas_error_mast = calculate_effective_qe(lam0-bandpass/2,lam0+bandpass/2) * flux_density_inc_error_mast * bandpass\n",
    "        power_meas_error_mast = flux_meas_error_mast * mast_collecting_area_m2\n",
    "        sources_table['phot_' + filter + '_flux_rel_error_mast'] = np.sqrt(((power_meas_error_mast * lam0.to(u.m) / (h * c)).value)**2 + ((power_meas_mast * bandpass.to(u.m) / (2 * h * c)).value)**2) / sources_table['phot_' + filter + '_flux_mast'].value * 100 * u.percent"
   ]
  },
  {
   "cell_type": "code",
   "execution_count": 9,
   "metadata": {},
   "outputs": [],
   "source": [
    "# We assume the source is a point-like source. Since it doesn't fall at an exact location, we need to split it between the four pixels in the area.\n",
    "# w_px, h_px are floats of the exact location of the point-like source\n",
    "# width, height are the dimensions of the simulated image\n",
    "\n",
    "def four_px(w_px,h_px,width,height):\n",
    "    lst = []\n",
    "    if (w_px <0 or w_px >= width or h_px < 0 or h_px >= height):\n",
    "        return lst\n",
    "    wf = np.floor(w_px)\n",
    "    wc = np.ceil(w_px)\n",
    "    hf = np.floor(h_px)\n",
    "    hc = np.ceil(h_px)\n",
    "    if np.allclose(w_px,wf): \n",
    "        w_floor_res = 1\n",
    "        w_ceil_res = 0\n",
    "    else: \n",
    "        w_floor_res = np.round(w_px - wf,3)\n",
    "        w_ceil_res = np.round(wc - w_px,3)\n",
    "    if np.allclose(h_px,hf): \n",
    "        h_floor_res = 1\n",
    "        h_ceil_res = 0\n",
    "    else: \n",
    "        h_floor_res = np.round(h_px - hf,3)\n",
    "        h_ceil_res = np.round(hc - h_px,3)    \n",
    "\n",
    "    if (wf >= 0 and hf >= 0):\n",
    "        lst.append([wf ,hf ,w_floor_res*h_floor_res])\n",
    "    if (wc < width and hf >= 0):\n",
    "        lst.append([wc ,hf ,w_ceil_res*h_floor_res])\n",
    "    if (wf >= 0 and hc < height):\n",
    "        lst.append([wf ,hc ,w_floor_res*h_ceil_res])\n",
    "    if (wc < width and hc < height):\n",
    "        lst.append([wc , hc ,w_ceil_res*h_ceil_res])\n",
    "    return lst"
   ]
  },
  {
   "cell_type": "code",
   "execution_count": 10,
   "metadata": {},
   "outputs": [],
   "source": [
    "# Add the sources to the base image\n",
    "# image - Matrix for the image\n",
    "# sources_table - Sources found by Gaia in that region\n",
    "# wcs_dict - astropy.wcs object to convert from coordinates to pixels\n",
    "# t_exp - Image exposure time\n",
    "def add_sources(image, sources_table, wcs_dict, t_exp):\n",
    "    pixs = wcs_dict.wcs_world2pix(sources_table['ra'].value, sources_table['dec'].value, 0)\n",
    "    flux = np.round(sources_table['phot_G_flux_mast'].value)\n",
    "    brightness = np.random.poisson(lam = flux) * t_exp / u.s \n",
    "    for i in range(len(pixs[0])):\n",
    "        lst = four_px(pixs[0][i],pixs[1][i],image.shape[1],image.shape[0])\n",
    "        for ls in lst:\n",
    "            image[int(ls[1]),int(ls[0])] += ls[2] * brightness[i]\n",
    "    return image"
   ]
  },
  {
   "cell_type": "code",
   "execution_count": 11,
   "metadata": {},
   "outputs": [],
   "source": [
    "# Add the seeing effect to the image caused by the atmosphere\n",
    "\n",
    "def add_seeing(image, seeing_arcsec):\n",
    "    seeing_px = seeing_arcsec / plate_scale_arcsec_micron / ccd_px_side_length_micron\n",
    "    sigma = seeing_px/2.355 # fhwm = 2*sqrt(2*ln(2))*sigma\n",
    "    ker = convolution.Gaussian2DKernel(x_stddev = sigma , y_stddev = sigma)\n",
    "    return convolution.convolve(image,ker)"
   ]
  },
  {
   "cell_type": "code",
   "execution_count": 12,
   "metadata": {},
   "outputs": [],
   "source": [
    "# Add background noise to the image\n",
    "\n",
    "def add_bgd_noise(image, mean_bdg_mag_to_arcsec_squared, t_exp):\n",
    "    rate = 2e5*u.electron/u.s/u.arcsec**2*10**(-0.4*(mean_bdg_mag_to_arcsec_squared-10))*(ccd_px_side_length_micron*plate_scale_arcsec_micron)**2\n",
    "    mean = (rate * t_exp).value\n",
    "    image += np.random.normal(loc = mean, scale = np.sqrt(mean), size = (image.shape[0],image.shape[1])) # for now, brightness = number of photo electrons \n",
    "    return image"
   ]
  },
  {
   "cell_type": "code",
   "execution_count": 13,
   "metadata": {},
   "outputs": [],
   "source": [
    "# Remove the dead regions, where the optical fiber sits, from the image\n",
    "\n",
    "def remove_dead(image):\n",
    "    image[ccd_dead_left_px:ccd_dead_right_px] = 0\n",
    "    return image"
   ]
  },
  {
   "cell_type": "code",
   "execution_count": 14,
   "metadata": {},
   "outputs": [],
   "source": [
    "# Add the dark noise to the image\n",
    "\n",
    "def add_read_dark_noise(image, temperature, read_rms, t_exp):\n",
    "    dark_rate = dark[dark.temp == temperature].iloc[0]['e/s/pix'] * u.electron/u.s\n",
    "    mean = (dark_rate * t_exp).value\n",
    "    var = (dark_rate * t_exp).value + read_rms.value**2\n",
    "    image += np.random.normal(loc = mean, scale = np.sqrt(var), size = (image.shape[0],image.shape[1]))\n",
    "    return image"
   ]
  },
  {
   "cell_type": "code",
   "execution_count": 15,
   "metadata": {},
   "outputs": [],
   "source": [
    "# Perform a convolution on a photo, where each region in the photo will be convolved with a different kernel.\n",
    "# img - the image to go under the convolution\n",
    "# kernel_folder - folder with .npy files describing the kernels in the different regions. The region on which the kernel will act on is described by the file name \"{row_lower}:{row_upper}X{column_lower}:{column_upper}\" (indices are inclusive) and is relative to the next parameters\n",
    "# img_{row/col}_lower_lim - which pixel will be mapped to (0,0) after the convolution\n",
    "# conv_img_{row/col} - the dimension of the image after the convolution\n",
    "\n",
    "def convolve_region_based_kernel(img, kernel_folder, img_row_lower_lim, img_col_lower_lim, conv_img_row, conv_img_col):\n",
    "    img_conv = np.zeros((conv_img_row, conv_img_col))\n",
    "    for kernel_file_path in glob(os.path.join(kernel_folder, '*')):\n",
    "        kernel = np.load(kernel_file_path)\n",
    "        k_rows, k_cols = kernel.shape\n",
    "        px_match = re.search('(\\d+):(\\d+)X(\\d+):(\\d+)', kernel_file_path)\n",
    "        patch_rel_row_start = int(px_match.group(1))\n",
    "        patch_rel_row_end = int(px_match.group(2))\n",
    "        patch_rel_col_start = int(px_match.group(3))\n",
    "        patch_rel_col_end = int(px_match.group(4))\n",
    "        patch_row_start = img_row_lower_lim+patch_rel_row_start-k_rows+1\n",
    "        patch_row_end = img_row_lower_lim+patch_rel_row_end+1\n",
    "        patch_col_start = img_col_lower_lim+patch_rel_col_start-k_cols+1\n",
    "        patch_col_end = img_col_lower_lim+patch_rel_col_end+1\n",
    "        patch = img[patch_row_start:patch_row_end,patch_col_start:patch_col_end]\n",
    "        patch_conv = signal.convolve2d(patch, kernel, mode='valid')\n",
    "        img_conv[patch_rel_row_start:patch_rel_row_end+1,patch_rel_col_start:patch_rel_col_end+1] = patch_conv\n",
    "    return img_conv"
   ]
  },
  {
   "cell_type": "code",
   "execution_count": 16,
   "metadata": {},
   "outputs": [],
   "source": [
    "# Create the final sources table from Gaia (from querying Gaia to getting the correct measurment for MAST)\n",
    "\n",
    "def create_sources_table(max_mag, ra_center, dec_center):\n",
    "    coor_width_range_deg = (ccd_width_range_deg + ccd_width_buff_range_deg) / np.cos(np.deg2rad(dec_center))\n",
    "    coor_height_range_deg = ccd_height_range_deg + ccd_height_buff_range_deg\n",
    "    sources_table = query_gaia_for_sources_in_region(max_mag, ra_center, dec_center, coor_width_range_deg, coor_height_range_deg)\n",
    "    calc_gaia_flux_density_from_gaia_flux(sources_table)\n",
    "    convert_gaia_flux_density_to_mast_flux(sources_table)\n",
    "    return sources_table"
   ]
  },
  {
   "cell_type": "code",
   "execution_count": 17,
   "metadata": {},
   "outputs": [],
   "source": [
    "def create_wcs(ra_center, dec_center):\n",
    "    wcs_input_dict = {\n",
    "    'CTYPE1': 'RA---TAN', \n",
    "    'CUNIT1': 'deg', \n",
    "    'CDELT1': (px_fov.to(u.deg)).value, \n",
    "    'CRPIX1': (ccd_width_px+ccd_width_buff_px)/2 - 1, \n",
    "    'CRVAL1': ra_center, \n",
    "    'NAXIS1': ccd_width_px+ccd_width_buff_px,\n",
    "    'CTYPE2': 'DEC--TAN', \n",
    "    'CUNIT2': 'deg', \n",
    "    'CDELT2': (px_fov.to(u.deg)).value, \n",
    "    'CRPIX2': (ccd_height_px+ccd_height_buff_px)/2 - 1, \n",
    "    'CRVAL2': dec_center, \n",
    "    'NAXIS2': ccd_height_px+ccd_height_buff_px\n",
    "    }\n",
    "    return wcs.WCS(wcs_input_dict)"
   ]
  },
  {
   "cell_type": "code",
   "execution_count": 18,
   "metadata": {},
   "outputs": [],
   "source": [
    "# Create the simulated image from MAST based on the sources table prepered previously\n",
    "\n",
    "def create_image(sources_table, ra_center , dec_center, t_exp, bdg_mean_mag_to_arcsec_squared, seeing_arcsec, temperature):\n",
    "    wcs_dict = create_wcs(ra_center, dec_center)\n",
    "    image = np.zeros((ccd_height_px + ccd_height_buff_px, ccd_width_px + ccd_width_buff_px))\n",
    "    image = add_sources(image, sources_table, wcs_dict, t_exp)\n",
    "    image = add_bgd_noise(image, bdg_mean_mag_to_arcsec_squared, t_exp)\n",
    "    image = add_seeing(image,seeing_arcsec)\n",
    "    image = convolve_region_based_kernel(image, r'./kernels', int(ccd_height_buff_px/2), int(ccd_width_buff_px/2), ccd_height_px, ccd_width_px)\n",
    "    image = remove_dead(image)\n",
    "    image = add_read_dark_noise(image,temperature,3.6*u.electron,t_exp)\n",
    "    return image"
   ]
  },
  {
   "cell_type": "code",
   "execution_count": 19,
   "metadata": {},
   "outputs": [],
   "source": [
    "# Plot the image in the notebook\n",
    "\n",
    "def plot_image(image):\n",
    "    fig,ax = plt.subplots(figsize=(8,8),dpi=120)\n",
    "    mappable = ax.imshow(image, origin='lower', cmap='Greys', norm=colors.LogNorm())\n",
    "    ax.set_xlabel('Horizontal Axis (px)', fontdict={'size': 12})\n",
    "    ax.set_ylabel('Vertical Axis (px)', fontdict={'size': 12})\n",
    "    cbar = fig.colorbar(mappable, ax=ax, shrink=0.7, pad = 0.05, format='%1.1E')\n",
    "    cbar.set_label('Electron Count', labelpad=10, rotation = 270, fontdict={'size':12})\n",
    "    plt.show()"
   ]
  },
  {
   "cell_type": "code",
   "execution_count": 20,
   "metadata": {},
   "outputs": [],
   "source": [
    "# Simulate the image based on the telescope parameters and plot it to the user\n",
    "\n",
    "def simulate_image(max_mag, ra, dec, t_exp, bdg_mean_mag_to_arcsec_squared, seeing_arcsec, temperature):\n",
    "    sources_table = create_sources_table(max_mag, ra, dec)\n",
    "    image = create_image(sources_table, ra, dec, t_exp, bdg_mean_mag_to_arcsec_squared, seeing_arcsec, temperature)\n",
    "    plot_image(image)"
   ]
  },
  {
   "cell_type": "code",
   "execution_count": 21,
   "metadata": {},
   "outputs": [
    {
     "data": {
      "application/vnd.jupyter.widget-view+json": {
       "model_id": "1c7cdbfe667744b299b3fee31beeb001",
       "version_major": 2,
       "version_minor": 0
      },
      "text/plain": [
       "BoundedFloatText(value=279.3643447, description='RA:', max=360.0, step=0.001)"
      ]
     },
     "metadata": {},
     "output_type": "display_data"
    },
    {
     "data": {
      "application/vnd.jupyter.widget-view+json": {
       "model_id": "3ddc291eee5249a9aef09db1723ad1b6",
       "version_major": 2,
       "version_minor": 0
      },
      "text/plain": [
       "BoundedFloatText(value=38.79739118, description='DEC:', max=90.0, min=-90.0, step=0.001)"
      ]
     },
     "metadata": {},
     "output_type": "display_data"
    },
    {
     "data": {
      "application/vnd.jupyter.widget-view+json": {
       "model_id": "5328d44ac80745f799318738cef1e312",
       "version_major": 2,
       "version_minor": 0
      },
      "text/plain": [
       "FloatText(value=15.0, description='Max Mag:', step=0.01)"
      ]
     },
     "metadata": {},
     "output_type": "display_data"
    },
    {
     "data": {
      "application/vnd.jupyter.widget-view+json": {
       "model_id": "33a26ccdfcc54dd0badee34b41e56bc3",
       "version_major": 2,
       "version_minor": 0
      },
      "text/plain": [
       "BoundedFloatText(value=1.0, description='Exp Time:', min=0.1, step=0.1)"
      ]
     },
     "metadata": {},
     "output_type": "display_data"
    },
    {
     "data": {
      "application/vnd.jupyter.widget-view+json": {
       "model_id": "dc0fd850fe414711a42b928187844cd6",
       "version_major": 2,
       "version_minor": 0
      },
      "text/plain": [
       "BoundedFloatText(value=1.5, description='Seeing:', step=0.1)"
      ]
     },
     "metadata": {},
     "output_type": "display_data"
    },
    {
     "data": {
      "application/vnd.jupyter.widget-view+json": {
       "model_id": "f9fcd7e61fce4859bda27d634265e847",
       "version_major": 2,
       "version_minor": 0
      },
      "text/plain": [
       "BoundedFloatText(value=20.5, description='Background:', step=0.1)"
      ]
     },
     "metadata": {},
     "output_type": "display_data"
    },
    {
     "data": {
      "application/vnd.jupyter.widget-view+json": {
       "model_id": "d0c2d6b982194dabb1803d1ac06eaa9c",
       "version_major": 2,
       "version_minor": 0
      },
      "text/plain": [
       "Dropdown(description='Op Temp:', options=(-20, -15, -10, -5, 0, 5, 10, 15, 25), value=-20)"
      ]
     },
     "metadata": {},
     "output_type": "display_data"
    }
   ],
   "source": [
    "# Display the widgets in the notebook\n",
    "\n",
    "display(ra_widget)\n",
    "display(dec_widget)\n",
    "display(max_mag_widget)\n",
    "display(t_exp_widget)\n",
    "display(seeing_arcsec_widget)\n",
    "display(bdg_mag_to_arcsec_squared_widget)\n",
    "display(temperature_widget)"
   ]
  },
  {
   "cell_type": "code",
   "execution_count": 22,
   "metadata": {},
   "outputs": [],
   "source": [
    "# Create the button to start the simulation\n",
    "\n",
    "button_simulate_image_widget = widgets.Button(description='Simulate Image')\n",
    "\n",
    "# Create the output for the image\n",
    "\n",
    "output_widget = widgets.Output()\n",
    "\n",
    "def on_button_click(button):\n",
    "    with output_widget:\n",
    "        simulate_image(max_mag_widget.value,\n",
    "                       ra_widget.value,\n",
    "                       dec_widget.value,\n",
    "                       t_exp_widget.value,\n",
    "                       bdg_mag_to_arcsec_squared_widget.value,\n",
    "                       seeing_arcsec_widget.value,\n",
    "                       temperature_widget.value)\n",
    "\n",
    "button_simulate_image_widget.on_click(on_button_click)"
   ]
  },
  {
   "cell_type": "code",
   "execution_count": 23,
   "metadata": {},
   "outputs": [
    {
     "data": {
      "application/vnd.jupyter.widget-view+json": {
       "model_id": "c31d64a7a84d4daf8087a62d5416364a",
       "version_major": 2,
       "version_minor": 0
      },
      "text/plain": [
       "Button(description='Simulate Image', style=ButtonStyle())"
      ]
     },
     "metadata": {},
     "output_type": "display_data"
    }
   ],
   "source": [
    "display(button_simulate_image_widget)"
   ]
  },
  {
   "cell_type": "code",
   "execution_count": 24,
   "metadata": {},
   "outputs": [
    {
     "data": {
      "application/vnd.jupyter.widget-view+json": {
       "model_id": "d6de4b98aa284bb28473d8315831c5ab",
       "version_major": 2,
       "version_minor": 0
      },
      "text/plain": [
       "Output()"
      ]
     },
     "metadata": {},
     "output_type": "display_data"
    }
   ],
   "source": [
    "display(output_widget)"
   ]
  }
 ],
 "metadata": {
  "kernelspec": {
   "display_name": "Python 3",
   "language": "python",
   "name": "python3"
  },
  "language_info": {
   "codemirror_mode": {
    "name": "ipython",
    "version": 3
   },
   "file_extension": ".py",
   "mimetype": "text/x-python",
   "name": "python",
   "nbconvert_exporter": "python",
   "pygments_lexer": "ipython3",
   "version": "3.11.2"
  },
  "orig_nbformat": 4,
  "vscode": {
   "interpreter": {
    "hash": "949777d72b0d2535278d3dc13498b2535136f6dfe0678499012e853ee9abcab1"
   }
  }
 },
 "nbformat": 4,
 "nbformat_minor": 2
}
