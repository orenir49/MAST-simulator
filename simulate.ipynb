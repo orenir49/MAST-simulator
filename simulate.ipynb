{
 "cells": [
  {
   "attachments": {},
   "cell_type": "markdown",
   "metadata": {},
   "source": [
    "# Simulating Images from the MAST telescope\n",
    "\n",
    "In this project, we use data from the Gaia telescope and create an image which will be captured by the CCD on the MAST telescope. This will be helpful for the tracking and guiding of the telescope."
   ]
  },
  {
   "cell_type": "code",
   "execution_count": 1,
   "metadata": {},
   "outputs": [],
   "source": [
    "# Import the required libraries\n",
    "\n",
    "# astroquery for retrieving data from Gaia\n",
    "from astroquery.gaia import Gaia\n",
    "\n",
    "# astropy libraries for calculations\n",
    "from astropy import units as u\n",
    "from astropy import wcs\n",
    "from astropy.constants import h, c\n",
    "from astropy import convolution\n",
    "\n",
    "# Data science libraries\n",
    "import pandas as pd\n",
    "import numpy as np\n",
    "import matplotlib.pyplot as plt\n",
    "import matplotlib.colors as colors\n",
    "%matplotlib ipympl\n",
    "from scipy import signal\n",
    "from scipy.interpolate import CubicSpline\n",
    "from PIL import Image\n",
    "\n",
    "# Manipulating & parsing files\n",
    "import re\n",
    "import os\n",
    "from glob import glob\n",
    "\n",
    "# Making the notebook interactive\n",
    "import ipywidgets as widgets\n",
    "from IPython.display import display"
   ]
  },
  {
   "attachments": {},
   "cell_type": "markdown",
   "metadata": {},
   "source": [
    "In order to use this notebook, please first run all of the cells. You will get textboxes to fill the desired coordinates, different parameters, etc. Then, you can press the button \"Simulate Imgae\", that will save the image in the requested path."
   ]
  },
  {
   "cell_type": "code",
   "execution_count": 2,
   "metadata": {},
   "outputs": [],
   "source": [
    "# Defining the constants of the notebook\n",
    "\n",
    "# Constants from files\n",
    "qe = pd.read_csv('./ccd_data/QE.csv', delimiter=',') # Quantum Efficiency\n",
    "dark = pd.read_csv('./ccd_data/dark_current.csv', delimiter=',') # Dark Current\n",
    "\n",
    "# Gaia Flux Density\n",
    "fd_unit = u.J/u.m**2/u.s/u.nm\n",
    "d_filters = {'Band':['G','BP','RP'],'Wavelength':[639.07*u.nm,518.26*u.nm,782.51*u.nm],'Bandpass':[454.82*u.nm,265.9*u.nm,292.75*u.nm],'clam':[1.346e-21*fd_unit,3.009e-21*fd_unit,1.638e-21*fd_unit]} \n",
    "filters = pd.DataFrame(data=d_filters)\n",
    "\n",
    "# MAST CCD constants\n",
    "# Pixels in the CCD\n",
    "ccd_width_px = 4656\n",
    "ccd_height_px = 3520\n",
    "\n",
    "# Buffer of pixels when querying data and performing the convolution\n",
    "ccd_width_buff_px = 512\n",
    "ccd_height_buff_px = 512\n",
    "\n",
    "# The lenght of each pixel in the CCD\n",
    "ccd_px_side_length_micron = 3.8 * u.micron\n",
    "ccd_width_micron = ccd_width_px * ccd_px_side_length_micron\n",
    "ccd_height_micron = ccd_height_px * ccd_px_side_length_micron\n",
    "ccd_width_buff_micron = ccd_width_buff_px * ccd_px_side_length_micron\n",
    "ccd_height_buff_micron = ccd_height_buff_px * ccd_px_side_length_micron\n",
    "\n",
    "# The platescale of MAST\n",
    "plate_scale_arcsec_micron = 0.11 * u.arcsec/u.micron\n",
    "\n",
    "# Pixel field of view\n",
    "plate_scale_arcsec_px = plate_scale_arcsec_micron * ccd_px_side_length_micron\n",
    "\n",
    "# CCD field of view\n",
    "ccd_width_range_arcsec = ccd_width_micron * plate_scale_arcsec_micron\n",
    "ccd_height_range_arcsec = ccd_height_micron * plate_scale_arcsec_micron\n",
    "ccd_width_buff_range_arcsec = ccd_width_buff_micron * plate_scale_arcsec_micron\n",
    "ccd_height_buff_range_arcsec = ccd_height_buff_micron * plate_scale_arcsec_micron\n",
    "\n",
    "# Converting from arcsec to degrees\n",
    "ccd_width_range_deg = ccd_width_range_arcsec.to(u.deg)\n",
    "ccd_height_range_deg = ccd_height_range_arcsec.to(u.deg)\n",
    "ccd_width_buff_range_deg = ccd_width_buff_range_arcsec.to(u.deg)\n",
    "ccd_height_buff_range_deg = ccd_height_buff_range_arcsec.to(u.deg)\n",
    "\n",
    "# more MAST optical specs\n",
    "mast_collecting_area_m2 = 0.09 * np.pi * u.m**2\n",
    "mast_diameter = 0.6 * u.m\n",
    "mast_focal_length = 1.8 * u.m\n",
    "incoming_light_fov = np.arctan(mast_diameter/mast_focal_length)\n",
    "\n",
    "# Saturation of the CCD per pixel\n",
    "ccd_full_well = 20000 * u.electron\n",
    "\n",
    "# fov not obscured by folding mirror\n",
    "fov_right_from_fiffa = 0.18 * u.deg\n",
    "fov_left_from_fiffa = 0.146 * u.deg\n",
    "\n",
    "# projection of fiffa location on the CCD\n",
    "fiffa_left_px = int(np.ceil(fov_left_from_fiffa / plate_scale_arcsec_px.to(u.deg)))\n",
    "fiffa_right_px = int(ccd_width_px - np.floor(fov_right_from_fiffa / plate_scale_arcsec_px.to(u.deg)) - 1)\n",
    "\n",
    "# fiffa distance from CCD, length, angle\n",
    "fiffa_height = (17 * u.mm).to(u.micron)\n",
    "fiffa_length = (4.6 * u.mm).to(u.micron)\n",
    "fiffa_ang = 45 * u.deg\n",
    "\n",
    "# Zemax data on PSF rms vs. position on sensor\n",
    "rms_vs_field = np.loadtxt('./RMSvsField_text.txt',dtype=float,skiprows=13,encoding='utf-16-le')\n",
    "field_arr_deg = rms_vs_field[:,0]\n",
    "field_arr_px = np.floor(field_arr_deg/plate_scale_arcsec_px.to(u.deg).value)\n",
    "rms_arr_px = rms_vs_field[:,1]/ccd_px_side_length_micron.value \n",
    "field_arr_deg= np.hstack((-np.flip(field_arr_deg[1:]),field_arr_deg))\n",
    "field_arr_px = np.hstack((-np.flip(field_arr_px[1:]),field_arr_px))\n",
    "field_arr_px += int(ccd_width_px/2) - 1 \n",
    "rms_arr_px = np.hstack((np.flip(rms_arr_px[1:]),rms_arr_px))\n",
    "\n",
    "# Gaia constants\n",
    "gaia_collecting_area_m2 = 0.7 * u.m**2\n",
    "\n",
    "# Gaia-MAST constants\n",
    "gaia_mast_attenuation = 0.5\n",
    "mag_ZP = 9.953577 # magnitude of arbitrary star I picked from the simulation\n",
    "flux_ZP = 230465 # flux detected with MAST, calculated using the spectrum\n",
    "\n",
    "# PSF properties\n",
    "r_lst = [0, 388, 776, 1164, 1552, 1940, 2328]\n",
    "ang0 = 90"
   ]
  },
  {
   "cell_type": "code",
   "execution_count": 3,
   "metadata": {},
   "outputs": [],
   "source": [
    "# Defining the widgets for user input\n",
    "\n",
    "ra_widget = widgets.BoundedFloatText(\n",
    "    value=279.3643447,\n",
    "    min=0,\n",
    "    max=360,\n",
    "    step=0.001,\n",
    "    description='RA:'\n",
    ")\n",
    "\n",
    "dec_widget = widgets.BoundedFloatText(\n",
    "    value=38.79739118,\n",
    "    min=-90,\n",
    "    max=90,\n",
    "    step=0.001,\n",
    "    description='DEC:'\n",
    ")\n",
    "\n",
    "max_mag_widget = widgets.FloatText(\n",
    "    value=15,\n",
    "    step=0.01,\n",
    "    description='Max Mag:'\n",
    ")\n",
    "\n",
    "t_exp_widget = widgets.BoundedFloatText(\n",
    "    value=1,\n",
    "    step=0.1,\n",
    "    min=0.1,\n",
    "    description='Exp Time:'\n",
    ")\n",
    "\n",
    "seeing_arcsec_widget = widgets.BoundedFloatText(\n",
    "    value=1.5,\n",
    "    step=0.1,\n",
    "    min=0,\n",
    "    description='Seeing:'\n",
    ")\n",
    "\n",
    "bgd_mag_to_arcsec_squared_widget = widgets.BoundedFloatText(\n",
    "    value=20.5,\n",
    "    step=0.1,\n",
    "    min=0,\n",
    "    description='Background:'\n",
    ")\n",
    "\n",
    "read_noise_rms_widget = widgets.BoundedFloatText(\n",
    "    value=3.6,\n",
    "    step=0.1,\n",
    "    min=1.2,\n",
    "    max=3.6,\n",
    "    description='Read noise RMS (e/px):'\n",
    ")\n",
    "\n",
    "temperature_widget = widgets.Dropdown(\n",
    "    options=dark['temp'],\n",
    "    value=dark['temp'].iloc[0],\n",
    "    description='Op Temp:'\n",
    ")\n",
    "\n",
    "magnitude_widget = widgets.SelectMultiple(\n",
    "    options=[14,15,16,17,18],\n",
    "    value = [15],\n",
    "    description='Magnitudes to plot:'\n",
    ")"
   ]
  },
  {
   "cell_type": "code",
   "execution_count": 4,
   "metadata": {},
   "outputs": [],
   "source": [
    "# General function to query from Gaia using ADQL\n",
    "# Help can be found be found at: https://www.cosmos.esa.int/web/gaia-users/archive/writing-queries\n",
    "\n",
    "def query_gaia(query):\n",
    "    job = Gaia.launch_job(query)\n",
    "    return job.get_results()"
   ]
  },
  {
   "cell_type": "code",
   "execution_count": 5,
   "metadata": {},
   "outputs": [],
   "source": [
    "# Defining the query to get sources captured by Gaia in a specific region\n",
    "# Documentation about the table GAIADR3.GAIA_SOURCE can be found at: https://gea.esac.esa.int/archive/documentation/GDR3/Gaia_archive/chap_datamodel/sec_dm_main_source_catalogue/ssec_dm_gaia_source.html\n",
    "\n",
    "def query_gaia_for_sources_in_region(max_mag, ra_deg, dec_deg, ccd_width_range_deg, ccd_height_range_deg):\n",
    "    query = '''SELECT SOURCE_ID, RA, DEC, PHOT_G_MEAN_MAG, HAS_XP_SAMPLED,\n",
    "    PHOT_G_MEAN_FLUX AS PHOT_G_MEAN_FLUX_GAIA, PHOT_G_MEAN_FLUX_ERROR AS PHOT_G_MEAN_FLUX_ERROR_GAIA,\n",
    "    PHOT_BP_MEAN_FLUX AS PHOT_BP_MEAN_FLUX_GAIA, PHOT_BP_MEAN_FLUX_ERROR AS PHOT_BP_MEAN_FLUX_ERROR_GAIA,\n",
    "    PHOT_RP_MEAN_FLUX AS PHOT_RP_MEAN_FLUX_GAIA, PHOT_RP_MEAN_FLUX_ERROR AS PHOT_RP_MEAN_FLUX_ERROR_GAIA\n",
    "    FROM gaiadr3.gaia_source\n",
    "    WHERE (ra BETWEEN {ra_min} AND {ra_max})\n",
    "    AND (dec BETWEEN {dec_min} AND {dec_max})\n",
    "    AND phot_g_mean_mag < {max_mag}\n",
    "    ORDER BY PHOT_G_MEAN_MAG\n",
    "    '''.format(\n",
    "        max_mag=max_mag,\n",
    "        ra_min=ra_deg-(ccd_width_range_deg.value/2), ra_max=ra_deg+(ccd_width_range_deg.value/2),\n",
    "        dec_min=dec_deg-(ccd_height_range_deg.value/2), dec_max=dec_deg+(ccd_height_range_deg.value/2)\n",
    "    )\n",
    "    return query_gaia(query)"
   ]
  },
  {
   "cell_type": "code",
   "execution_count": 6,
   "metadata": {},
   "outputs": [],
   "source": [
    "# Input the flux as seen by Gaia (in electrons/sec as given by GAIA_SOURCE)\n",
    "# Output the flux density of the source\n",
    "# The conversion is done according to the documentation: https://gea.esac.esa.int/archive/documentation/GDR3/Data_processing/chap_cu5pho/cu5pho_sec_photProc/cu5pho_ssec_photCal.html#SSS3.P2\n",
    "\n",
    "def calc_gaia_flux_density_from_gaia_flux(sources_table):\n",
    "    for filter in d_filters['Band']:\n",
    "        sources_table['flux_' + filter + '_density_gaia'] = filters[filters['Band'] == filter]['clam'].iloc[0] * sources_table['phot_' + str.lower(filter) + '_mean_flux_gaia'].value\n",
    "        sources_table['flux_' + filter + '_density_error_gaia'] =  filters[filters['Band'] == filter]['clam'].iloc[0] * sources_table['phot_' + str.lower(filter) + '_mean_flux_error_gaia'].value"
   ]
  },
  {
   "cell_type": "code",
   "execution_count": 7,
   "metadata": {},
   "outputs": [],
   "source": [
    "# more accurate way to estimate the MAST counts for stars brighter than magnitude 15\n",
    "# however, this is more time consuming\n",
    "\n",
    "def get_flux_from_spectrum(table):\n",
    "    lam0 = filters[filters.Band == filter].iloc[0]['Wavelength']\n",
    "    bandpass = filters[filters.Band == filter].iloc[0]['Bandpass']\n",
    "    lmin = lam0 - bandpass/2\n",
    "    lmax = lam0 + bandpass/2\n",
    "    source_ids = table['source_id'][table['has_xp_sampled']==True]\n",
    "    datalink = Gaia.load_data(ids=source_ids, data_release = 'Gaia DR3', retrieval_type='XP_SAMPLED', data_structure = 'INDIVIDUAL', verbose = False, output_file = None)\n",
    "    dl_keys  = [inp for inp in datalink.keys()]\n",
    "    dl_keys.sort()\n",
    "    for dl_key in dl_keys:\n",
    "        t = datalink[dl_key][0]\n",
    "        source_id = t.get_field_by_id('source_id').value\n",
    "        t = t.to_table()\n",
    "        y1arr = qe['QE'].values[int((lmin.value-336)/2):int((lmax.value-336)/2)]\n",
    "        y2arr = np.ma.getdata(t['flux'].value)[int((lmin.value-336)/2):int((lmax.value-336)/2)]\n",
    "        xarr = qe['Wavelength'].values[int((lmin.value-336)/2):int((lmax.value-336)/2)]\n",
    "        fmast = np.trapz(y1arr*y2arr*xarr*1e-9/h.value/c.value,xarr)*gaia_mast_attenuation*mast_collecting_area_m2/u.m**2\n",
    "        table['phot_G_flux_mast'][table['source_id'] == source_id] = fmast"
   ]
  },
  {
   "cell_type": "code",
   "execution_count": 8,
   "metadata": {},
   "outputs": [],
   "source": [
    "# Calculate the mean quantum efficiency of Gaia, based on the wavelenghts of intrest\n",
    "\n",
    "def calculate_effective_qe(min_wavelen, max_wavelen):\n",
    "    return np.mean(qe[qe['Wavelength'].isin(qe['Wavelength'].where((qe['Wavelength'] >= min_wavelen) & (qe['Wavelength'] < max_wavelen)).dropna())]['QE'])"
   ]
  },
  {
   "cell_type": "code",
   "execution_count": 9,
   "metadata": {},
   "outputs": [],
   "source": [
    "# Given the flux density as seen at Gaia, calculate the flux as measured in MAST\n",
    "\n",
    "def convert_gaia_flux_density_to_mast_flux(sources_table):\n",
    "    for filter in d_filters['Band']:\n",
    "        lam0 = filters[filters.Band == filter].iloc[0]['Wavelength']\n",
    "        bandpass = filters[filters.Band == filter].iloc[0]['Bandpass']\n",
    "        flux_density_inc_mast =  gaia_mast_attenuation * sources_table['flux_' + filter + '_density_gaia']\n",
    "        flux_meas_mast = calculate_effective_qe(lam0-bandpass/2,lam0+bandpass/2)* flux_density_inc_mast * bandpass\n",
    "        power_meas_mast = flux_meas_mast * mast_collecting_area_m2\n",
    "        sources_table['phot_' + filter + '_flux_mast'] = (power_meas_mast * lam0.to(u.m) / (h * c)) * u.electron \n",
    "\n",
    "        flux_density_inc_error_mast =  gaia_mast_attenuation * sources_table['flux_' + filter + '_density_error_gaia']\n",
    "        flux_meas_error_mast = calculate_effective_qe(lam0-bandpass/2,lam0+bandpass/2) * flux_density_inc_error_mast * bandpass\n",
    "        power_meas_error_mast = flux_meas_error_mast * mast_collecting_area_m2\n",
    "        sources_table['phot_' + filter + '_flux_rel_error_mast'] = np.sqrt(((power_meas_error_mast * lam0.to(u.m) / (h * c)).value)**2 + ((power_meas_mast * bandpass.to(u.m) / (2 * h * c)).value)**2) / sources_table['phot_' + filter + '_flux_mast'].value * 100 * u.percent"
   ]
  },
  {
   "cell_type": "code",
   "execution_count": 10,
   "metadata": {},
   "outputs": [],
   "source": [
    "# We assume the source is a point-like source. Since it doesn't fall at an exact location, we need to split it between the four pixels in the area.\n",
    "# w_px, h_px are floats of the exact location of the point-like source\n",
    "# width, height are the dimensions of the simulated image\n",
    "\n",
    "def four_px(w_px,h_px,width,height):\n",
    "    lst = []\n",
    "    if (w_px <0 or w_px >= width or h_px < 0 or h_px >= height):\n",
    "        return lst\n",
    "    wf = np.floor(w_px)\n",
    "    wc = np.ceil(w_px)\n",
    "    hf = np.floor(h_px)\n",
    "    hc = np.ceil(h_px)\n",
    "    if np.allclose(w_px,wf): \n",
    "        w_floor_res = 1\n",
    "        w_ceil_res = 0\n",
    "    else: \n",
    "        w_floor_res = np.round(w_px - wf,3)\n",
    "        w_ceil_res = np.round(wc - w_px,3)\n",
    "    if np.allclose(h_px,hf): \n",
    "        h_floor_res = 1\n",
    "        h_ceil_res = 0\n",
    "    else: \n",
    "        h_floor_res = np.round(h_px - hf,3)\n",
    "        h_ceil_res = np.round(hc - h_px,3)    \n",
    "\n",
    "    if (wf >= 0 and hf >= 0):\n",
    "        lst.append([wf ,hf ,w_floor_res*h_floor_res])\n",
    "    if (wc < width and hf >= 0):\n",
    "        lst.append([wc ,hf ,w_ceil_res*h_floor_res])\n",
    "    if (wf >= 0 and hc < height):\n",
    "        lst.append([wf ,hc ,w_floor_res*h_ceil_res])\n",
    "    if (wc < width and hc < height):\n",
    "        lst.append([wc , hc ,w_ceil_res*h_ceil_res])\n",
    "    return lst"
   ]
  },
  {
   "cell_type": "code",
   "execution_count": 11,
   "metadata": {},
   "outputs": [],
   "source": [
    "# This function is auxiliary to 'psf_rms'\n",
    "# finds the center (first moment) of a kernel\n",
    "\n",
    "def psf_center(ker):\n",
    "    numerator_w = 0\n",
    "    numerator_h = 0\n",
    "    denominator = np.sum(ker)\n",
    "    \n",
    "    for h in range(ker.shape[0]):\n",
    "        for w in range(ker.shape[1]):\n",
    "            numerator_w += ker[h,w] * w\n",
    "            numerator_h += ker[h,w] * h\n",
    "\n",
    "    return numerator_h/denominator , numerator_w/denominator"
   ]
  },
  {
   "cell_type": "code",
   "execution_count": 12,
   "metadata": {},
   "outputs": [],
   "source": [
    "# This function finds the RMS width of a PSF (centralized second moment)\n",
    "# This is an okay approximation to what Zemax gives \n",
    "# I would love suggestions for more accurate methods.\n",
    "\n",
    "def psf_rms(ker):\n",
    "    center_h , center_w = psf_center(ker)\n",
    "    numerator = 0\n",
    "    denominator = np.sum(ker)\n",
    "    \n",
    "    for h in range(ker.shape[0]):\n",
    "        for w in range(ker.shape[1]):\n",
    "            numerator += ker[h,w] * ((h-center_h)**2 + (w-center_w)**2)\n",
    "\n",
    "    return np.sqrt(numerator/denominator)"
   ]
  },
  {
   "cell_type": "code",
   "execution_count": 13,
   "metadata": {},
   "outputs": [],
   "source": [
    "# aligns an image by angle 'ang' from the x-axis, counter-clockwise \n",
    "# used to rotate the kernels, which are generated with an initial orientation 'ang0'\n",
    "\n",
    "def rot(psf,ang,ang0):\n",
    "    im = Image.fromarray(psf)\n",
    "    im = im.rotate(ang0-ang)\n",
    "    im = np.array(im)\n",
    "    im = im/np.sum(im)\n",
    "    return im"
   ]
  },
  {
   "cell_type": "code",
   "execution_count": 14,
   "metadata": {},
   "outputs": [],
   "source": [
    "# adds to the image the effect of the optical setup (coma abberation) \n",
    "# for a source located at column w (px), and row h (px)\n",
    "\n",
    "def add_coma(image,w,h):    \n",
    "    wc = int(ccd_width_buff_px/2) + int(ccd_width_px/2) - 1\n",
    "    hc = int(ccd_height_buff_px/2) + int(ccd_height_px/2) - 1\n",
    "    dis_from_center = np.sqrt((w-wc)**2 + (h-hc)**2)\n",
    "    ang = np.rad2deg(np.arctan2(h-hc,w-wc))\n",
    "    r_ker = r_lst[np.argmin(np.abs(r_lst - dis_from_center))]\n",
    "    ker_name = os.path.join('.', 'kernels_rings', str.format(r'r={}.npy',r_ker))\n",
    "    ker = np.load(ker_name)\n",
    "    ker = rot(ker,ang,ang0)\n",
    "    size = ker.shape\n",
    "    w_start = w - int(size[1]/2)\n",
    "    h_start = h - int(size[0]/2)\n",
    "    w_finish = w_start + size[1]\n",
    "    h_finish = h_start + size[0]\n",
    "    image[h_start:h_finish,w_start:w_finish] += image[h,w] * ker\n",
    "    return image"
   ]
  },
  {
   "cell_type": "code",
   "execution_count": 15,
   "metadata": {},
   "outputs": [],
   "source": [
    "# Add the sources to the base image\n",
    "# image - Matrix for the image\n",
    "# sources_table - Sources found by Gaia in that region\n",
    "# wcs_dict - astropy.wcs object to convert from coordinates to pixels\n",
    "# t_exp - Image exposure time\n",
    "\n",
    "def add_sources(image,table,wcs_dict,t_exp):\n",
    "    pixs = wcs_dict.wcs_world2pix(table['ra'].value, table['dec'].value, 0)\n",
    "    flux = np.round(table['phot_G_flux_mast'].value)\n",
    "    brightness = np.random.poisson(lam = flux) * t_exp / u.s \n",
    "    for i in range(len(pixs[0])):\n",
    "        lst = four_px(pixs[0][i],pixs[1][i],image.shape[1],image.shape[0])\n",
    "        for ls in lst:\n",
    "            image[int(ls[1]),int(ls[0])] += ls[2] * brightness[i]\n",
    "            if(ccd_width_buff_px/2 < int(ls[0]) < (ccd_width_px + ccd_width_buff_px/2) and ccd_height_buff_px/2 < int(ls[1]) < (ccd_height_px + ccd_height_buff_px/2)):\n",
    "                add_coma(image,int(ls[0]),int(ls[1]))\n",
    "    return image"
   ]
  },
  {
   "cell_type": "code",
   "execution_count": 16,
   "metadata": {},
   "outputs": [],
   "source": [
    "# Add the seeing effect (abberation from atmosphere) to the entire image \n",
    "\n",
    "def add_seeing(image, seeing_arcsec):\n",
    "    seeing_px = seeing_arcsec / plate_scale_arcsec_px\n",
    "    sigma = seeing_px/2.355 # fhwm = 2*sqrt(2*ln(2))*sigma\n",
    "    ker = convolution.Gaussian2DKernel(x_stddev = sigma , y_stddev = sigma)\n",
    "    return convolution.convolve(image,ker)"
   ]
  },
  {
   "cell_type": "code",
   "execution_count": 17,
   "metadata": {},
   "outputs": [],
   "source": [
    "# Add background noise to the image (randomly for each pixel)\n",
    "# depends on the mean background level and exposure time (user inputs)\n",
    "\n",
    "def add_bgd_noise(image, mean_bgd_mag_to_arcsec_squared, t_exp):\n",
    "    rate = flux_ZP*u.electron/u.s/u.arcsec**2*10**(-0.4*(mean_bgd_mag_to_arcsec_squared-mag_ZP))*(ccd_px_side_length_micron*plate_scale_arcsec_micron)**2\n",
    "    mean = (rate * t_exp).value\n",
    "    image += np.random.normal(loc = mean, scale = np.sqrt(mean), size = (image.shape[0],image.shape[1])) # for now, brightness = number of photo electrons \n",
    "    return image"
   ]
  },
  {
   "cell_type": "code",
   "execution_count": 18,
   "metadata": {},
   "outputs": [],
   "source": [
    "# Add the dark noise to the image (randomly for each pixel)\n",
    "# depends on the temperature, read noise rms, and exposure time (all user inputs)\n",
    "\n",
    "def add_read_dark_noise(image, temperature, read_rms, t_exp):\n",
    "    dark_rate = dark[dark.temp == temperature].iloc[0]['e/s/pix'] * u.electron/u.s\n",
    "    mean = (dark_rate * t_exp).value\n",
    "    var = (dark_rate * t_exp).value + read_rms.value**2\n",
    "    image += np.random.normal(loc = mean, scale = np.sqrt(var), size = (image.shape[0],image.shape[1]))\n",
    "    return image"
   ]
  },
  {
   "cell_type": "code",
   "execution_count": 19,
   "metadata": {},
   "outputs": [],
   "source": [
    "# Given positions on the sensor 'w_arr' (the columns of interest in units of px)\n",
    "# Return a number between 0-1 to indicate how much light reaches that column (a fraction of the photons are obscured by FIFFA)\n",
    "\n",
    "def fiffa_shadow_at_col(w_arr):     \n",
    "    fiffa_left_y = fiffa_height + fiffa_length/2 * np.sin(np.deg2rad(fiffa_ang.value))\n",
    "    fiffa_right_y = fiffa_height - fiffa_length/2 * np.sin(np.deg2rad(fiffa_ang.value))\n",
    "    ccd_dead_left_px = int(fiffa_left_px + fiffa_left_y / ccd_px_side_length_micron * np.tan(incoming_light_fov/2))\n",
    "    ccd_live_left_px = int(fiffa_left_px - fiffa_left_y / ccd_px_side_length_micron * np.tan(incoming_light_fov/2))\n",
    "    ccd_dead_right_px = int(fiffa_right_px - fiffa_right_y / ccd_px_side_length_micron  * np.tan(incoming_light_fov/2))\n",
    "    ccd_live_right_px = int(fiffa_right_px + fiffa_right_y / ccd_px_side_length_micron  * np.tan(incoming_light_fov/2))\n",
    "        \n",
    "    open_fov = np.ones(len(w_arr))\n",
    "\n",
    "    for i,w in enumerate(w_arr):\n",
    "        if(ccd_live_left_px <= w <= ccd_dead_left_px):\n",
    "            x_left = w \n",
    "            left_open_edge_px =  x_left - fiffa_left_y / ccd_px_side_length_micron * np.tan(incoming_light_fov/2)\n",
    "            left_open_fov = np.arcsin((fiffa_left_px-left_open_edge_px)/np.sqrt((x_left-fiffa_left_px)**2 + (fiffa_left_y/ccd_px_side_length_micron)**2)*np.cos(incoming_light_fov/2))\n",
    "            open_fov[i] = left_open_fov / incoming_light_fov\n",
    "\n",
    "        elif(ccd_dead_right_px <= w <= ccd_live_right_px):\n",
    "            x_right = w   \n",
    "            right_open_edge_px =  x_right + fiffa_right_y / ccd_px_side_length_micron * np.tan(incoming_light_fov/2)\n",
    "            right_open_fov = np.arcsin((right_open_edge_px - fiffa_right_px)/np.sqrt((x_right-fiffa_right_px)**2 + (fiffa_right_y/ccd_px_side_length_micron)**2)*np.cos(incoming_light_fov/2))\n",
    "            open_fov[i] = right_open_fov / incoming_light_fov\n",
    "\n",
    "        elif(ccd_dead_left_px < w < ccd_dead_right_px):\n",
    "            open_fov[i] = 0\n",
    "\n",
    "    return open_fov"
   ]
  },
  {
   "cell_type": "code",
   "execution_count": 20,
   "metadata": {},
   "outputs": [],
   "source": [
    "# accounts for shadow of the fiffa folding mirror\n",
    "# attenuates the count in every column appropriately, removing light that is blocked by FIFFA \n",
    "\n",
    "def add_fiffa_shadow(image):\n",
    "    columns = np.arange(0,ccd_width_px,1)\n",
    "    fiffa_shadow = np.diag(fiffa_shadow_at_col(columns))\n",
    "    image = image @ fiffa_shadow\n",
    "    return image"
   ]
  },
  {
   "cell_type": "code",
   "execution_count": 21,
   "metadata": {},
   "outputs": [],
   "source": [
    "# estimates PSF spot size at different positions on the CCD, due to coma + seeing \n",
    "\n",
    "def get_psf_rms_after_seeing(seeing_arcsec = 1.5*u.arcsec):\n",
    "    rms_lst = []\n",
    "    for r in r_lst:\n",
    "        ker = np.load(f'./kernels_rings/r={r}.npy')\n",
    "        sigma = seeing_arcsec/plate_scale_arcsec_px/2.355 # fhwm = 2*sqrt(2*ln(2))*sigma\n",
    "        gaus_ker = convolution.Gaussian2DKernel(sigma,sigma)\n",
    "        ker = convolution.convolve(ker,gaus_ker)\n",
    "        rms_lst.append(psf_rms(ker))\n",
    "    cs = CubicSpline(r_lst,rms_lst)\n",
    "    return cs(np.abs(field_arr_px-int(ccd_width_px/2) + 1))"
   ]
  },
  {
   "cell_type": "code",
   "execution_count": 22,
   "metadata": {},
   "outputs": [],
   "source": [
    "# Given user inputs that effect signal and noise (read, exposure, seeing, background, temperature)\n",
    "# Plot the SNR vs the position on the sensor, for magnitude of interest (also an input)\n",
    "# As a bonus, the function plots the spot size (in microns) vs the field\n",
    "\n",
    "def plot_snr_vs_field(magnitudes, read_rms, t_exp = 1*u.s, seeing_arcsec = 1.5*u.arcsec ,mag_arcsec_squared = 20.5 , temp = -15):\n",
    "    N_source = flux_ZP * 10**(-0.4*(magnitudes - mag_ZP)) * t_exp.value # rough estimate of electron flux from source of known magnitude\n",
    "    fiffa_shadow = fiffa_shadow_at_col(field_arr_px)\n",
    "    rms_arr_after_seeing_px = get_psf_rms_after_seeing(seeing_arcsec)\n",
    "\n",
    "    n_pix = 1 + (rms_arr_after_seeing_px)**2 # rough estimate of total pixel number in the PSF\n",
    "\n",
    "    N_bgd = flux_ZP * 10**(-0.4*(mag_arcsec_squared - mag_ZP)) * (plate_scale_arcsec_px.value)**2 * t_exp.value\n",
    "    dark_rate = dark[dark.temp == temp].iloc[0]['e/s/pix'] * u.electron/u.s\n",
    "    N_dark = (dark_rate * t_exp).value \n",
    "    N_read = read_rms.value\n",
    "    SNR = np.zeros((len(N_source),len(field_arr_px)))\n",
    "\n",
    "    fig,(ax1,ax2) = plt.subplots(nrows=1,ncols=2,figsize=(10,5),dpi=120)\n",
    "    ax1.set_xlabel('Field (deg)', fontdict={'size': 12})\n",
    "    ax1.set_ylabel('SNR', fontdict={'size': 12})\n",
    "    for i,ns in enumerate(N_source):\n",
    "        ns_detected = ns * fiffa_shadow\n",
    "        SNR[i] = ns_detected/np.sqrt(ns_detected + n_pix*(N_bgd*fiffa_shadow + N_dark + N_read**2))\n",
    "        ax1.plot(field_arr_deg,SNR[i],label=f'mag={magnitudes[i]}')    \n",
    "    props = dict(boxstyle='round', alpha=0.5)\n",
    "    textstr = '\\n'.join((\n",
    "    r'$t_{exp}=%d s$' % (t_exp.value, ),\n",
    "    r'sky$=%.1f \\frac{mag}{arcsec^2}$' % (mag_arcsec_squared, ),\n",
    "    r'seeing$=%.2f$\"' % (seeing_arcsec.value, ),\n",
    "    r'read rms$=%.1f \\frac{e^-}{px}$' % (read_rms.value, )))\n",
    "    ax1.text(0.02, 0.95, textstr, transform=ax1.transAxes, fontsize=10,\n",
    "        verticalalignment='top', bbox=props)\n",
    "    ax1.legend(loc=[0.02,0.5])\n",
    "    ax1.grid()\n",
    "    ax1.set_xlim(left = -0.65)\n",
    "\n",
    "    ax2.set_xlabel('Field (deg)', fontdict={'size':12})\n",
    "    ax2.set_ylabel('Spot size ($\\mu m$)',fontdict={'size':12})\n",
    "    ax2.plot(field_arr_deg , rms_arr_after_seeing_px * ccd_px_side_length_micron,'Crimson')\n",
    "    ax2.grid()\n",
    "    plt.show()    "
   ]
  },
  {
   "cell_type": "code",
   "execution_count": 23,
   "metadata": {},
   "outputs": [],
   "source": [
    "# Perform a convolution on a photo, where each region in the photo will be convolved with a different kernel.\n",
    "# img - the image to go under the convolution\n",
    "# kernel_folder - folder with .npy files describing the kernels in the different regions. The region on which the kernel will act on is described by the file name \"{row_lower}:{row_upper}X{column_lower}:{column_upper}\" (indices are inclusive) and is relative to the next parameters\n",
    "# img_{row/col}_lower_lim - which pixel will be mapped to (0,0) after the convolution\n",
    "# conv_img_{row/col} - the dimension of the image after the convolution\n",
    "\n",
    "def convolve_region_based_kernel(img, kernel_folder, img_row_lower_lim, img_col_lower_lim, conv_img_row, conv_img_col):\n",
    "    img_conv = np.zeros((conv_img_row, conv_img_col))\n",
    "    for kernel_file_path in glob(os.path.join(kernel_folder, '*')):\n",
    "        kernel = np.load(kernel_file_path)\n",
    "        k_rows, k_cols = kernel.shape\n",
    "        px_match = re.search('(\\d+):(\\d+)X(\\d+):(\\d+)', kernel_file_path)\n",
    "        patch_rel_row_start = int(px_match.group(1))\n",
    "        patch_rel_row_end = int(px_match.group(2))\n",
    "        patch_rel_col_start = int(px_match.group(3))\n",
    "        patch_rel_col_end = int(px_match.group(4))\n",
    "        patch_row_start = img_row_lower_lim+patch_rel_row_start-k_rows+1\n",
    "        patch_row_end = img_row_lower_lim+patch_rel_row_end+1\n",
    "        patch_col_start = img_col_lower_lim+patch_rel_col_start-k_cols+1\n",
    "        patch_col_end = img_col_lower_lim+patch_rel_col_end+1\n",
    "        patch = img[patch_row_start:patch_row_end,patch_col_start:patch_col_end]\n",
    "        patch_conv = signal.convolve2d(patch, kernel, mode='valid')\n",
    "        img_conv[patch_rel_row_start:patch_rel_row_end+1,patch_rel_col_start:patch_rel_col_end+1] = patch_conv\n",
    "    return img_conv"
   ]
  },
  {
   "cell_type": "code",
   "execution_count": 24,
   "metadata": {},
   "outputs": [],
   "source": [
    "# Create the final sources table from Gaia (from querying Gaia to getting the correct measurment for MAST)\n",
    "\n",
    "def create_sources_table(max_mag, ra_center, dec_center,use_available_spectra = False):\n",
    "    coor_width_range_deg = (ccd_width_range_deg + ccd_width_buff_range_deg) / np.cos(np.deg2rad(dec_center))\n",
    "    coor_height_range_deg = ccd_height_range_deg + ccd_height_buff_range_deg\n",
    "    entries = query_gaia_for_sources_in_region(max_mag, ra_center, dec_center, coor_width_range_deg, coor_height_range_deg)\n",
    "    calc_gaia_flux_density_from_gaia_flux(entries)\n",
    "    convert_gaia_flux_density_to_mast_flux(entries)\n",
    "    if(use_available_spectra):\n",
    "        get_flux_from_spectrum(entries)\n",
    "    return entries"
   ]
  },
  {
   "cell_type": "code",
   "execution_count": 25,
   "metadata": {},
   "outputs": [],
   "source": [
    "def create_wcs(ra_center, dec_center):\n",
    "    wcs_input_dict = {\n",
    "    'CTYPE1': 'RA---TAN', \n",
    "    'CUNIT1': 'deg', \n",
    "    'CDELT1': (plate_scale_arcsec_px.to(u.deg)).value, \n",
    "    'CRPIX1': (ccd_width_px+ccd_width_buff_px)/2 - 1, \n",
    "    'CRVAL1': ra_center, \n",
    "    'NAXIS1': ccd_width_px+ccd_width_buff_px,\n",
    "    'CTYPE2': 'DEC--TAN', \n",
    "    'CUNIT2': 'deg', \n",
    "    'CDELT2': (plate_scale_arcsec_px.to(u.deg)).value, \n",
    "    'CRPIX2': (ccd_height_px+ccd_height_buff_px)/2 - 1, \n",
    "    'CRVAL2': dec_center, \n",
    "    'NAXIS2': ccd_height_px+ccd_height_buff_px\n",
    "    }\n",
    "    return wcs.WCS(wcs_input_dict)"
   ]
  },
  {
   "cell_type": "code",
   "execution_count": 26,
   "metadata": {},
   "outputs": [],
   "source": [
    "# Create the simulated image from MAST based on the sources table prepered previously\n",
    "\n",
    "def create_image(sources_table, ra_center , dec_center, t_exp, bdg_mean_mag_to_arcsec_squared, seeing_arcsec, temperature):\n",
    "    wcs_dict = create_wcs(ra_center, dec_center)\n",
    "    image = np.zeros((ccd_height_px + ccd_height_buff_px, ccd_width_px + ccd_width_buff_px))\n",
    "    image = add_sources(image, sources_table, wcs_dict, t_exp)\n",
    "    image = add_bgd_noise(image, bdg_mean_mag_to_arcsec_squared, t_exp)\n",
    "    image = add_seeing(image,seeing_arcsec)\n",
    "    image = image[int(ccd_height_buff_px/2):int(ccd_height_px+ccd_height_buff_px/2),int(ccd_width_buff_px/2):int(ccd_width_px+ccd_width_buff_px/2)]\n",
    "    image = add_fiffa_shadow(image)\n",
    "    image = add_read_dark_noise(image,temperature,read_noise_rms_widget.value*u.electron,t_exp)\n",
    "    return image"
   ]
  },
  {
   "cell_type": "code",
   "execution_count": 27,
   "metadata": {},
   "outputs": [],
   "source": [
    "# Plot the image in the notebook\n",
    "\n",
    "def plot_image(image):\n",
    "    fig,ax = plt.subplots(figsize=(8,8),dpi=120)\n",
    "    mappable = ax.imshow(image, origin='lower', cmap='Greys', norm=colors.LogNorm())\n",
    "    ax.set_xlabel('Horizontal Axis (px)', fontdict={'size': 12})\n",
    "    ax.set_ylabel('Vertical Axis (px)', fontdict={'size': 12})\n",
    "    cbar = fig.colorbar(mappable, ax=ax, shrink=0.7, pad = 0.05, format='%1.1E')\n",
    "    cbar.set_label('Electron Count', labelpad=10, rotation = 270, fontdict={'size':12})\n",
    "    plt.show()"
   ]
  },
  {
   "cell_type": "code",
   "execution_count": 28,
   "metadata": {},
   "outputs": [],
   "source": [
    "# Simulate the image based on the telescope parameters and plot it to the user\n",
    "\n",
    "def simulate_image(max_mag, ra, dec, t_exp, bdg_mean_mag_to_arcsec_squared, seeing_arcsec, temperature):\n",
    "    sources_table = create_sources_table(max_mag, ra, dec)\n",
    "    image = create_image(sources_table, ra, dec, t_exp, bdg_mean_mag_to_arcsec_squared, seeing_arcsec, temperature)\n",
    "    plot_image(image)"
   ]
  },
  {
   "cell_type": "code",
   "execution_count": 29,
   "metadata": {},
   "outputs": [
    {
     "data": {
      "application/vnd.jupyter.widget-view+json": {
       "model_id": "0bd1c3db622948bbb830b77a3392baee",
       "version_major": 2,
       "version_minor": 0
      },
      "text/plain": [
       "BoundedFloatText(value=279.3643447, description='RA:', max=360.0, step=0.001)"
      ]
     },
     "metadata": {},
     "output_type": "display_data"
    },
    {
     "data": {
      "application/vnd.jupyter.widget-view+json": {
       "model_id": "b234d58ff7a14de88291eadec16866e1",
       "version_major": 2,
       "version_minor": 0
      },
      "text/plain": [
       "BoundedFloatText(value=38.79739118, description='DEC:', max=90.0, min=-90.0, step=0.001)"
      ]
     },
     "metadata": {},
     "output_type": "display_data"
    },
    {
     "data": {
      "application/vnd.jupyter.widget-view+json": {
       "model_id": "09042d1458364540a9b3347f5bea9f4d",
       "version_major": 2,
       "version_minor": 0
      },
      "text/plain": [
       "FloatText(value=15.0, description='Max Mag:', step=0.01)"
      ]
     },
     "metadata": {},
     "output_type": "display_data"
    },
    {
     "data": {
      "application/vnd.jupyter.widget-view+json": {
       "model_id": "0f32fbb6b3484c49beba07f228d3f5e2",
       "version_major": 2,
       "version_minor": 0
      },
      "text/plain": [
       "BoundedFloatText(value=1.0, description='Exp Time:', min=0.1, step=0.1)"
      ]
     },
     "metadata": {},
     "output_type": "display_data"
    },
    {
     "data": {
      "application/vnd.jupyter.widget-view+json": {
       "model_id": "286812440a344dd4836e54b930f354ca",
       "version_major": 2,
       "version_minor": 0
      },
      "text/plain": [
       "BoundedFloatText(value=1.5, description='Seeing:', step=0.1)"
      ]
     },
     "metadata": {},
     "output_type": "display_data"
    },
    {
     "data": {
      "application/vnd.jupyter.widget-view+json": {
       "model_id": "f1c2be5ea3d34947a24cbc95b0d86176",
       "version_major": 2,
       "version_minor": 0
      },
      "text/plain": [
       "BoundedFloatText(value=20.5, description='Background:', step=0.1)"
      ]
     },
     "metadata": {},
     "output_type": "display_data"
    },
    {
     "data": {
      "application/vnd.jupyter.widget-view+json": {
       "model_id": "b23fba45cab64149ac0afa97fe09c73a",
       "version_major": 2,
       "version_minor": 0
      },
      "text/plain": [
       "BoundedFloatText(value=3.6, description='Read noise RMS (e/px):', max=3.6, min=1.2, step=0.1)"
      ]
     },
     "metadata": {},
     "output_type": "display_data"
    },
    {
     "data": {
      "application/vnd.jupyter.widget-view+json": {
       "model_id": "6c95a123aff746e28df3b268a64d4444",
       "version_major": 2,
       "version_minor": 0
      },
      "text/plain": [
       "Dropdown(description='Op Temp:', options=(-20, -15, -10, -5, 0, 5, 10, 15, 25), value=-20)"
      ]
     },
     "metadata": {},
     "output_type": "display_data"
    }
   ],
   "source": [
    "# Display the widgets in the notebook\n",
    "\n",
    "display(ra_widget)\n",
    "display(dec_widget)\n",
    "display(max_mag_widget)\n",
    "display(t_exp_widget)\n",
    "display(seeing_arcsec_widget)\n",
    "display(bgd_mag_to_arcsec_squared_widget)\n",
    "display(read_noise_rms_widget)\n",
    "display(temperature_widget)"
   ]
  },
  {
   "cell_type": "code",
   "execution_count": 30,
   "metadata": {},
   "outputs": [],
   "source": [
    "# Create the button to start the simulation\n",
    "\n",
    "button_simulate_image_widget = widgets.Button(description='Simulate Image')\n",
    "\n",
    "# Create the output for the image\n",
    "\n",
    "output_widget = widgets.Output()\n",
    "\n",
    "def on_button_click(button):\n",
    "    with output_widget:\n",
    "        simulate_image(max_mag_widget.value,\n",
    "                       ra_widget.value,\n",
    "                       dec_widget.value,\n",
    "                       t_exp_widget.value * u.s,\n",
    "                       bgd_mag_to_arcsec_squared_widget.value,\n",
    "                       seeing_arcsec_widget.value * u.arcsec,\n",
    "                       temperature_widget.value)\n",
    "\n",
    "button_simulate_image_widget.on_click(on_button_click)"
   ]
  },
  {
   "cell_type": "code",
   "execution_count": 31,
   "metadata": {},
   "outputs": [
    {
     "data": {
      "application/vnd.jupyter.widget-view+json": {
       "model_id": "91ec33ed40334817b7df496745fd4d4d",
       "version_major": 2,
       "version_minor": 0
      },
      "text/plain": [
       "Button(description='Simulate Image', style=ButtonStyle())"
      ]
     },
     "metadata": {},
     "output_type": "display_data"
    }
   ],
   "source": [
    "display(button_simulate_image_widget)"
   ]
  },
  {
   "cell_type": "code",
   "execution_count": 32,
   "metadata": {},
   "outputs": [
    {
     "data": {
      "application/vnd.jupyter.widget-view+json": {
       "model_id": "576e40f1a03342f192445922d803ab93",
       "version_major": 2,
       "version_minor": 0
      },
      "text/plain": [
       "Output()"
      ]
     },
     "metadata": {},
     "output_type": "display_data"
    }
   ],
   "source": [
    "display(output_widget)"
   ]
  },
  {
   "cell_type": "code",
   "execution_count": 33,
   "metadata": {},
   "outputs": [
    {
     "data": {
      "application/vnd.jupyter.widget-view+json": {
       "model_id": "f645cfc644304d4085668ea2e765fb69",
       "version_major": 2,
       "version_minor": 0
      },
      "text/plain": [
       "SelectMultiple(description='Magnitudes to plot:', index=(1,), options=(14, 15, 16, 17, 18), value=(15,))"
      ]
     },
     "metadata": {},
     "output_type": "display_data"
    }
   ],
   "source": [
    "display(magnitude_widget)"
   ]
  },
  {
   "cell_type": "code",
   "execution_count": 34,
   "metadata": {},
   "outputs": [],
   "source": [
    "# Create the button to plot SNR vs field\n",
    "\n",
    "button_plot_snr_widget = widgets.Button(description='Plot SNR vs. Field')\n",
    "\n",
    "# Create the output for the image\n",
    "\n",
    "output_snr_widget = widgets.Output()\n",
    "\n",
    "def on_snr_button_click(button):\n",
    "    with output_snr_widget:\n",
    "        plot_snr_vs_field(np.array(magnitude_widget.value),\n",
    "                          read_noise_rms_widget.value * u.electron,\n",
    "                            t_exp_widget.value * u.s,\n",
    "                            seeing_arcsec_widget.value * u.arcsec,\n",
    "                            bgd_mag_to_arcsec_squared_widget.value,\n",
    "                            temperature_widget.value)\n",
    "button_plot_snr_widget.on_click(on_snr_button_click)"
   ]
  },
  {
   "cell_type": "code",
   "execution_count": 35,
   "metadata": {},
   "outputs": [
    {
     "data": {
      "application/vnd.jupyter.widget-view+json": {
       "model_id": "cc52e07f7a1f4f04b28e7a7eaae18973",
       "version_major": 2,
       "version_minor": 0
      },
      "text/plain": [
       "Button(description='Plot SNR vs. Field', style=ButtonStyle())"
      ]
     },
     "metadata": {},
     "output_type": "display_data"
    }
   ],
   "source": [
    "display(button_plot_snr_widget)"
   ]
  },
  {
   "cell_type": "code",
   "execution_count": 36,
   "metadata": {},
   "outputs": [
    {
     "data": {
      "application/vnd.jupyter.widget-view+json": {
       "model_id": "de03a8ff82a84fe69028ccea3747196d",
       "version_major": 2,
       "version_minor": 0
      },
      "text/plain": [
       "Output()"
      ]
     },
     "metadata": {},
     "output_type": "display_data"
    }
   ],
   "source": [
    "display(output_snr_widget)"
   ]
  }
 ],
 "metadata": {
  "kernelspec": {
   "display_name": "Python 3",
   "language": "python",
   "name": "python3"
  },
  "language_info": {
   "codemirror_mode": {
    "name": "ipython",
    "version": 3
   },
   "file_extension": ".py",
   "mimetype": "text/x-python",
   "name": "python",
   "nbconvert_exporter": "python",
   "pygments_lexer": "ipython3",
   "version": "3.11.2"
  },
  "orig_nbformat": 4,
  "vscode": {
   "interpreter": {
    "hash": "949777d72b0d2535278d3dc13498b2535136f6dfe0678499012e853ee9abcab1"
   }
  }
 },
 "nbformat": 4,
 "nbformat_minor": 2
}
